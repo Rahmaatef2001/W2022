{
  "nbformat": 4,
  "nbformat_minor": 0,
  "metadata": {
    "colab": {
      "provenance": [],
      "authorship_tag": "ABX9TyMkQCNzHzhiBXNASzVarjCz",
      "include_colab_link": true
    },
    "kernelspec": {
      "name": "python3",
      "display_name": "Python 3"
    },
    "language_info": {
      "name": "python"
    }
  },
  "cells": [
    {
      "cell_type": "markdown",
      "metadata": {
        "id": "view-in-github",
        "colab_type": "text"
      },
      "source": [
        "<a href=\"https://colab.research.google.com/github/Rahmaatef2001/W2022/blob/main/Untitled1.ipynb\" target=\"_parent\"><img src=\"https://colab.research.google.com/assets/colab-badge.svg\" alt=\"Open In Colab\"/></a>"
      ]
    },
    {
      "cell_type": "markdown",
      "source": [
        "**Block Ciphers**\n",
        "\n",
        "Block ciphers as opposed to stream ciphers take a block of the plaintext (a specific amount of bytes) and encrypts it into a block with the same size. In this section we will use the Advanced Encryption Standard (AES) to understand block ciphers. In the next schema it is shown how an original message of arbitrary  N  bytes is converted into a ciphertext having blocks of  K  bytes. The ciphertext size is always a multiple of  K  bytes."
      ],
      "metadata": {
        "id": "1ZBT3cS8X1Zo"
      }
    },
    {
      "cell_type": "code",
      "source": [
        "#taking a msg from the user\n",
        "plaintext= input( 'Enter the message that needs encryption')\n"
      ],
      "metadata": {
        "id": "RRGaga0CYKEm"
      },
      "execution_count": 240,
      "outputs": []
    },
    {
      "cell_type": "code",
      "execution_count": 241,
      "metadata": {
        "colab": {
          "base_uri": "https://localhost:8080/"
        },
        "id": "5fAwkhJyXS2N",
        "outputId": "7db15d15-7465-4a81-e28c-d0be24130585"
      },
      "outputs": [
        {
          "output_type": "stream",
          "name": "stdout",
          "text": [
            "[('0f', '15', '71', 'c9'), ('47', 'd9', 'e8', '59'), ('0c', 'b7', 'ad', 'd6'), ('af', '7f', '67', '98'), ('dc', '90', '37', 'b0'), ('9b', '49', 'df', 'e9'), ('97', 'fe', '72', '3f'), ('38', '81', '15', 'a7'), ('d2', 'c9', '6b', 'b7'), ('49', '80', 'b4', '5e'), ('de', '7e', 'c6', '61'), ('e6', 'ff', 'd3', 'c6'), ('c0', 'af', 'df', '39'), ('89', '2f', '6b', '67'), ('57', '51', 'ad', '06'), ('b1', 'ae', '7e', 'c0'), ('2c', '5c', '65', 'f1'), ('a5', '73', '0e', '96'), ('f2', '22', 'a3', '90'), ('43', '8c', 'dd', '50'), ('58', '9d', '36', 'eb'), ('fd', 'ee', '38', '7d'), ('0f', 'cc', '9b', 'ed'), ('4c', '40', '46', 'bd'), ('71', 'c7', '4c', 'c2'), ('8c', '29', '74', 'bf'), ('83', 'e5', 'ef', '52'), ('cf', 'a5', 'a9', 'ef'), ('37', '14', '93', '48'), ('bb', '3d', 'e7', 'f7'), ('38', 'd8', '08', 'a5'), ('f7', '7d', 'a1', '4a'), ('48', '26', '45', '20'), ('f3', '1b', 'a2', 'd7'), ('cb', 'c3', 'aa', '72'), ('3c', 'be', '0b', '38'), ('fd', '0d', '42', 'cb'), ('0e', '16', 'e0', '1c'), ('c5', 'd5', '4a', '6e'), ('f9', '6b', '41', '56'), ('b4', '8e', 'f3', '52'), ('ba', '98', '13', '4e'), ('7f', '4d', '59', '20'), ('86', '26', '18', '76')]\n"
          ]
        }
      ],
      "source": [
        "#need to expand the key to be able to encrypt the msg\n",
        "#perform key expansion \n",
        "#need to write the sbox as the byte substituion is a part of key expansion\n",
        "sbox = [0x63, 0x7c, 0x77, 0x7b, 0xf2, 0x6b, 0x6f, 0xc5, 0x30, 0x01, 0x67, 0x2b, 0xfe, 0xd7, 0xab, 0x76,\n",
        "\t\t0xca, 0x82, 0xc9, 0x7d, 0xfa, 0x59, 0x47, 0xf0, 0xad, 0xd4, 0xa2, 0xaf, 0x9c, 0xa4, 0x72, 0xc0,\n",
        "\t\t0xb7, 0xfd, 0x93, 0x26, 0x36, 0x3f, 0xf7, 0xcc, 0x34, 0xa5, 0xe5, 0xf1, 0x71, 0xd8, 0x31, 0x15,\n",
        "\t\t0x04, 0xc7, 0x23, 0xc3, 0x18, 0x96, 0x05, 0x9a, 0x07, 0x12, 0x80, 0xe2, 0xeb, 0x27, 0xb2, 0x75,\n",
        "\t\t0x09, 0x83, 0x2c, 0x1a, 0x1b, 0x6e, 0x5a, 0xa0, 0x52, 0x3b, 0xd6, 0xb3, 0x29, 0xe3, 0x2f, 0x84,\n",
        "\t\t0x53, 0xd1, 0x00, 0xed, 0x20, 0xfc, 0xb1, 0x5b, 0x6a, 0xcb, 0xbe, 0x39, 0x4a, 0x4c, 0x58, 0xcf,\n",
        "\t\t0xd0, 0xef, 0xaa, 0xfb, 0x43, 0x4d, 0x33, 0x85, 0x45, 0xf9, 0x02, 0x7f, 0x50, 0x3c, 0x9f, 0xa8,\n",
        "\t\t0x51, 0xa3, 0x40, 0x8f, 0x92, 0x9d, 0x38, 0xf5, 0xbc, 0xb6, 0xda, 0x21, 0x10, 0xff, 0xf3, 0xd2,\n",
        "\t\t0xcd, 0x0c, 0x13, 0xec, 0x5f, 0x97, 0x44, 0x17, 0xc4, 0xa7, 0x7e, 0x3d, 0x64, 0x5d, 0x19, 0x73,\n",
        "\t\t0x60, 0x81, 0x4f, 0xdc, 0x22, 0x2a, 0x90, 0x88, 0x46, 0xee, 0xb8, 0x14, 0xde, 0x5e, 0x0b, 0xdb,\n",
        "\t\t0xe0, 0x32, 0x3a, 0x0a, 0x49, 0x06, 0x24, 0x5c, 0xc2, 0xd3, 0xac, 0x62, 0x91, 0x95, 0xe4, 0x79,\n",
        "\t\t0xe7, 0xc8, 0x37, 0x6d, 0x8d, 0xd5, 0x4e, 0xa9, 0x6c, 0x56, 0xf4, 0xea, 0x65, 0x7a, 0xae, 0x08,\n",
        "\t\t0xba, 0x78, 0x25, 0x2e, 0x1c, 0xa6, 0xb4, 0xc6, 0xe8, 0xdd, 0x74, 0x1f, 0x4b, 0xbd, 0x8b, 0x8a,\n",
        "\t\t0x70, 0x3e, 0xb5, 0x66, 0x48, 0x03, 0xf6, 0x0e, 0x61, 0x35, 0x57, 0xb9, 0x86, 0xc1, 0x1d, 0x9e,\n",
        "\t\t0xe1, 0xf8, 0x98, 0x11, 0x69, 0xd9, 0x8e, 0x94, 0x9b, 0x1e, 0x87, 0xe9, 0xce, 0x55, 0x28, 0xdf,\n",
        "\t\t0x8c, 0xa1, 0x89, 0x0d, 0xbf, 0xe6, 0x42, 0x68, 0x41, 0x99, 0x2d, 0x0f, 0xb0, 0x54, 0xbb, 0x16]\n",
        "\n",
        "Rcon = [0x00000000, 0x01000000, 0x02000000,\n",
        "\t\t0x04000000, 0x08000000, 0x10000000, \n",
        "\t\t0x20000000, 0x40000000, 0x80000000, \n",
        "\t\t0x1b000000, 0x36000000]\n",
        "\t\t\n",
        "def keyExpansion(key):\n",
        "\t#prep w list to hold 44 tuples\n",
        "\tw = [()]*44\n",
        "\t\n",
        "\t#fill out first 4 words based on the key\n",
        "\tfor i in range(4):\n",
        "\t\tw[i] = (key[4*i], key[4*i+1], key[4*i+2], key[4*i+3])\n",
        "\t\t\n",
        "\t#fill out the rest based on previews words, rotword, subword and rcon values\n",
        "\tfor i in range(4, 44):\n",
        "\t\t#get required previous keywords\n",
        "\t\ttemp = w[i-1]\n",
        "\t\tword = w[i-4]\n",
        "\n",
        "\t\t#if multiple of 4 use rot, sub, rcon etc\n",
        "\t\tif i % 4 == 0:\n",
        "\t\t\tx = RotWord(temp)\n",
        "\t\t\ty = SubWord(x)\n",
        "\t\t\trcon = Rcon[int(i/4)]\n",
        "\n",
        "\t\t\ttemp = hexor(y, hex(rcon)[2:]) \n",
        "\t\t\t\n",
        "\t\t#creating strings of hex rather than tuple\n",
        "\t\tword = ''.join(word)\n",
        "\t\ttemp = ''.join(temp)\n",
        "\t\t\n",
        "\t\t#xor the two hex values\n",
        "\t\txord = hexor(word, temp)\n",
        "\t\tw[i] = (xord[:2], xord[2:4], xord[4:6], xord[6:8])\n",
        "\t\t\n",
        "\treturn w\n",
        "\t\n",
        "#takes two hex values and calculates hex1 xor hex2\n",
        "def hexor(hex1, hex2):\n",
        "\t#convert to binary\n",
        "\tbin1 = hex2binary(hex1)\n",
        "\tbin2 = hex2binary(hex2)\n",
        "\t\n",
        "\t#calculate\n",
        "\txord = int(bin1, 2) ^ int(bin2, 2)\n",
        "\t\n",
        "\t#cut prefix\n",
        "\thexed = hex(xord)[2:]\n",
        "\t\n",
        "\t#leading 0s get cut above, if not length 8 add a leading 0\n",
        "\tif len(hexed) != 8:\n",
        "\t\thexed = '0' + hexed\n",
        "\t\t\n",
        "\treturn hexed\n",
        "\t\n",
        "#takes a hex value and returns binary\n",
        "def hex2binary(hex):\n",
        "\treturn bin(int(str(hex), 16))\n",
        "\n",
        "\t\n",
        "#takes from 1 to the end, adds on from the start to 1\n",
        "def RotWord(word):\n",
        "\treturn word[1:] + word[:1]\n",
        "\t\t\n",
        "\t\t\n",
        "#selects correct value from sbox based on the current word\n",
        "def SubWord(word):\n",
        "\tsWord = ()\n",
        "\t\n",
        "\t#loop throug the current word\n",
        "\tfor i in range(4):\n",
        "\t\t\n",
        "\t\t#check first char, if its a letter(a-f) get corresponding decimal\n",
        "\t\t#otherwise just take the value and add 1\n",
        "\t\tif word[i][0].isdigit() == False:\n",
        "\t\t\trow = ord(word[i][0]) - 86\n",
        "\t\telse:\n",
        "\t\t\trow = int(word[i][0])+1\n",
        "\n",
        "\t\t#repeat above for the seoncd char\n",
        "\t\tif word[i][1].isdigit() == False:\n",
        "\t\t\tcol = ord(word[i][1]) - 86\n",
        "\t\telse:\n",
        "\t\t\tcol = int(word[i][1])+1\n",
        "\t\t\n",
        "\t\t#get the index base on row and col (16x16 grid)\n",
        "\t\tsBoxIndex = (row*16) - (17-col)\n",
        "\t\t\n",
        "\t\t#get the value from sbox without prefix\n",
        "\t\tpiece = hex(sbox[sBoxIndex])[2:]\n",
        "\t\t\n",
        "\t\t#check length to ensure leading 0s are not forgotton\n",
        "\t\tif len(piece) != 2:\n",
        "\t\t\tpiece = '0' + piece\n",
        "\t\t\n",
        "\t\t#form tuple\n",
        "\t\tsWord = (*sWord, piece)\n",
        "\t\t\n",
        "\t#return string\n",
        "\treturn ''.join(sWord)\n",
        "\n",
        "key = [\"0f\", \"15\", \"71\", \"c9\", \"47\", \"d9\", \"e8\", \"59\", \"0c\", \"b7\", \"ad\", \"d6\", \"af\", \"7f\", \"67\", \"98\"]\n",
        "\t#expand key\n",
        "result = keyExpansion(key)\n",
        "print( result ) "
      ]
    },
    {
      "cell_type": "code",
      "source": [
        "#concatinat four arrays to gether to get the roundkey\n",
        "roundkeys= [()]*11\n",
        "for i in range(0,11):\n",
        "  #for going through the roundkey array 11 times to isert the input \n",
        "  for j in range(0,4):\n",
        "    #for concatinating every 4 array in the result array in one element in roundkeys\n",
        "    roundkeys [i] = roundkeys[i] + result[j]\n",
        "  roundstring=''.join(roundkeys[i])\n",
        "  roundkeys[i]= roundstring\n",
        "print (roundkeys)\n",
        "    "
      ],
      "metadata": {
        "colab": {
          "base_uri": "https://localhost:8080/"
        },
        "id": "dVVbmZZ2X-LR",
        "outputId": "50d50ea0-ee23-4bc0-a94a-6f9f40992419"
      },
      "execution_count": 242,
      "outputs": [
        {
          "output_type": "stream",
          "name": "stdout",
          "text": [
            "['0f1571c947d9e8590cb7add6af7f6798', '0f1571c947d9e8590cb7add6af7f6798', '0f1571c947d9e8590cb7add6af7f6798', '0f1571c947d9e8590cb7add6af7f6798', '0f1571c947d9e8590cb7add6af7f6798', '0f1571c947d9e8590cb7add6af7f6798', '0f1571c947d9e8590cb7add6af7f6798', '0f1571c947d9e8590cb7add6af7f6798', '0f1571c947d9e8590cb7add6af7f6798', '0f1571c947d9e8590cb7add6af7f6798', '0f1571c947d9e8590cb7add6af7f6798']\n"
          ]
        }
      ]
    },
    {
      "cell_type": "code",
      "source": [
        "# we need to convert the roundkeys and the plain text into binary to be able to do the XOR operation\n",
        "#def toBinary\n",
        "plaintext= ''.join(format(ord(i), '08b') for i in plaintext)\n",
        "print (plaintext)\n",
        "for i in range (0,11):\n",
        "  roundkeys[i]= ''.join(format(ord(i), '08b') for i in roundkeys[i])\n",
        "print(roundkeys)"
      ],
      "metadata": {
        "colab": {
          "base_uri": "https://localhost:8080/"
        },
        "id": "1Nr51ATTYEkY",
        "outputId": "1485869d-28cc-4200-bdf4-afac60eedf16"
      },
      "execution_count": 243,
      "outputs": [
        {
          "output_type": "stream",
          "name": "stdout",
          "text": [
            "011010010010000001101000011011110111000001100101001000000111011101100101001000000110001101100001011011100010000001100111011001010111010000100000011011110111011001100101011100100010000001010100011010000110100101110011\n",
            "['0011000001100110001100010011010100110111001100010110001100111001001101000011011101100100001110010110010100111000001101010011100100110000011000110110001000110111011000010110010001100100001101100110000101100110001101110110011000110110001101110011100100111000', '0011000001100110001100010011010100110111001100010110001100111001001101000011011101100100001110010110010100111000001101010011100100110000011000110110001000110111011000010110010001100100001101100110000101100110001101110110011000110110001101110011100100111000', '0011000001100110001100010011010100110111001100010110001100111001001101000011011101100100001110010110010100111000001101010011100100110000011000110110001000110111011000010110010001100100001101100110000101100110001101110110011000110110001101110011100100111000', '0011000001100110001100010011010100110111001100010110001100111001001101000011011101100100001110010110010100111000001101010011100100110000011000110110001000110111011000010110010001100100001101100110000101100110001101110110011000110110001101110011100100111000', '0011000001100110001100010011010100110111001100010110001100111001001101000011011101100100001110010110010100111000001101010011100100110000011000110110001000110111011000010110010001100100001101100110000101100110001101110110011000110110001101110011100100111000', '0011000001100110001100010011010100110111001100010110001100111001001101000011011101100100001110010110010100111000001101010011100100110000011000110110001000110111011000010110010001100100001101100110000101100110001101110110011000110110001101110011100100111000', '0011000001100110001100010011010100110111001100010110001100111001001101000011011101100100001110010110010100111000001101010011100100110000011000110110001000110111011000010110010001100100001101100110000101100110001101110110011000110110001101110011100100111000', '0011000001100110001100010011010100110111001100010110001100111001001101000011011101100100001110010110010100111000001101010011100100110000011000110110001000110111011000010110010001100100001101100110000101100110001101110110011000110110001101110011100100111000', '0011000001100110001100010011010100110111001100010110001100111001001101000011011101100100001110010110010100111000001101010011100100110000011000110110001000110111011000010110010001100100001101100110000101100110001101110110011000110110001101110011100100111000', '0011000001100110001100010011010100110111001100010110001100111001001101000011011101100100001110010110010100111000001101010011100100110000011000110110001000110111011000010110010001100100001101100110000101100110001101110110011000110110001101110011100100111000', '0011000001100110001100010011010100110111001100010110001100111001001101000011011101100100001110010110010100111000001101010011100100110000011000110110001000110111011000010110010001100100001101100110000101100110001101110110011000110110001101110011100100111000']\n"
          ]
        }
      ]
    },
    {
      "cell_type": "markdown",
      "source": [
        "**Padding the message**"
      ],
      "metadata": {
        "id": "tX9IQfiMYXG1"
      }
    },
    {
      "cell_type": "code",
      "source": [
        "#the lenght of the message to be a multiple of the block size\n",
        "#check whether the plain text is less than or equal to 16 byte= 128 bits\n",
        "counter=len(plaintext)\n",
        "if (len(plaintext) % 128 == len(plaintext)):\n",
        "  for i in range (len(plaintext), 129):\n",
        "     plaintext+='0' \n",
        "else:\n",
        "  if (len(plaintext) %128!= 0):\n",
        "    while counter %128 != 0:\n",
        "      plaintext+='0'\n",
        "      counter+=1\n",
        "\n",
        "print (plaintext)\n",
        "print(len(plaintext))\n"
      ],
      "metadata": {
        "colab": {
          "base_uri": "https://localhost:8080/"
        },
        "id": "1sL5jrPbYQSG",
        "outputId": "e1b08c64-3a1d-4fff-8f89-e868f87c77f3"
      },
      "execution_count": 244,
      "outputs": [
        {
          "output_type": "stream",
          "name": "stdout",
          "text": [
            "0110100100100000011010000110111101110000011001010010000001110111011001010010000001100011011000010110111000100000011001110110010101110100001000000110111101110110011001010111001000100000010101000110100001101001011100110000000000000000000000000000000000000000\n",
            "256\n"
          ]
        }
      ]
    },
    {
      "cell_type": "code",
      "source": [
        "plaintextblocks = []\n",
        "\n",
        "n=128\n",
        "i = 0\n",
        "while i < len(plaintext):\n",
        "    if i+n < len(plaintext):\n",
        "        plaintextblocks.append(plaintext[i:i+n])\n",
        "    else:\n",
        "        plaintextblocks.append(plaintext[i:len(plaintext)])\n",
        "    i += n\n",
        "print(plaintextblocks)\n",
        "\n"
      ],
      "metadata": {
        "colab": {
          "base_uri": "https://localhost:8080/"
        },
        "id": "c6ZRYhXdYmN9",
        "outputId": "92bdeeec-5f41-4ca1-fa8c-e343a3a48bc8"
      },
      "execution_count": 245,
      "outputs": [
        {
          "output_type": "stream",
          "name": "stdout",
          "text": [
            "['01101001001000000110100001101111011100000110010100100000011101110110010100100000011000110110000101101110001000000110011101100101', '01110100001000000110111101110110011001010111001000100000010101000110100001101001011100110000000000000000000000000000000000000000']\n"
          ]
        }
      ]
    },
    {
      "cell_type": "code",
      "source": [
        " #start to XOP the rounded key with the plaintext block\n",
        "input=[]\n",
        "for i in range (128):\n",
        "  if (plaintextblocks [0][i]== roundkeys[0][i]):\n",
        "    input+= '0'\n",
        "  else:\n",
        "    input+= '1'\n",
        "input"
      ],
      "metadata": {
        "colab": {
          "base_uri": "https://localhost:8080/"
        },
        "id": "QNhpE92dsYDF",
        "outputId": "776a9483-32c9-4c8b-e0fa-75b1d4cd9a30"
      },
      "execution_count": 250,
      "outputs": [
        {
          "output_type": "execute_result",
          "data": {
            "text/plain": [
              "['0',\n",
              " '1',\n",
              " '0',\n",
              " '1',\n",
              " '1',\n",
              " '0',\n",
              " '0',\n",
              " '1',\n",
              " '0',\n",
              " '1',\n",
              " '0',\n",
              " '0',\n",
              " '0',\n",
              " '1',\n",
              " '1',\n",
              " '0',\n",
              " '0',\n",
              " '1',\n",
              " '0',\n",
              " '1',\n",
              " '1',\n",
              " '0',\n",
              " '0',\n",
              " '1',\n",
              " '0',\n",
              " '1',\n",
              " '0',\n",
              " '1',\n",
              " '1',\n",
              " '0',\n",
              " '1',\n",
              " '0',\n",
              " '0',\n",
              " '1',\n",
              " '0',\n",
              " '0',\n",
              " '0',\n",
              " '1',\n",
              " '1',\n",
              " '1',\n",
              " '0',\n",
              " '1',\n",
              " '0',\n",
              " '1',\n",
              " '0',\n",
              " '1',\n",
              " '0',\n",
              " '0',\n",
              " '0',\n",
              " '1',\n",
              " '0',\n",
              " '0',\n",
              " '0',\n",
              " '0',\n",
              " '1',\n",
              " '1',\n",
              " '0',\n",
              " '1',\n",
              " '0',\n",
              " '0',\n",
              " '1',\n",
              " '1',\n",
              " '1',\n",
              " '0',\n",
              " '0',\n",
              " '1',\n",
              " '0',\n",
              " '1',\n",
              " '0',\n",
              " '0',\n",
              " '0',\n",
              " '1',\n",
              " '0',\n",
              " '0',\n",
              " '0',\n",
              " '1',\n",
              " '0',\n",
              " '1',\n",
              " '1',\n",
              " '1',\n",
              " '0',\n",
              " '0',\n",
              " '0',\n",
              " '0',\n",
              " '0',\n",
              " '1',\n",
              " '1',\n",
              " '1',\n",
              " '0',\n",
              " '1',\n",
              " '0',\n",
              " '1',\n",
              " '1',\n",
              " '0',\n",
              " '0',\n",
              " '0',\n",
              " '0',\n",
              " '0',\n",
              " '0',\n",
              " '0',\n",
              " '1',\n",
              " '0',\n",
              " '1',\n",
              " '1',\n",
              " '0',\n",
              " '0',\n",
              " '0',\n",
              " '1',\n",
              " '1',\n",
              " '0',\n",
              " '0',\n",
              " '0',\n",
              " '0',\n",
              " '1',\n",
              " '0',\n",
              " '1',\n",
              " '0',\n",
              " '0',\n",
              " '1',\n",
              " '0',\n",
              " '0',\n",
              " '1',\n",
              " '0',\n",
              " '1',\n",
              " '1',\n",
              " '1',\n",
              " '0',\n",
              " '0']"
            ]
          },
          "metadata": {},
          "execution_count": 250
        }
      ]
    },
    {
      "cell_type": "code",
      "source": [
        "#for i in range (0,len(input)):\n",
        " # convert= input[i]+input[i+1]+input[i+2]+input[i+3]\n",
        "  "
      ],
      "metadata": {
        "id": "5MqKAsRDd6Uw"
      },
      "execution_count": 234,
      "outputs": []
    },
    {
      "cell_type": "code",
      "source": [
        "\n"
      ],
      "metadata": {
        "id": "-R0cfebDq1CU"
      },
      "execution_count": 234,
      "outputs": []
    },
    {
      "cell_type": "code",
      "source": [
        "#put the input into a grid\n",
        "#first convert it to hexadecimals\n"
      ],
      "metadata": {
        "id": "ATP0zbxhNzhi"
      },
      "execution_count": 235,
      "outputs": []
    },
    {
      "cell_type": "markdown",
      "source": [
        "**Shifting Rows**"
      ],
      "metadata": {
        "id": "ALzjvaMYqDL9"
      }
    },
    {
      "cell_type": "code",
      "source": [
        "def rotate_row_left(row, n=1):\n",
        "    return row[n:] + row[:n]"
      ],
      "metadata": {
        "id": "Y5DwbcTkqCU5"
      },
      "execution_count": 236,
      "outputs": []
    },
    {
      "cell_type": "markdown",
      "source": [
        "**mix colmuns**"
      ],
      "metadata": {
        "id": "Hux0IvtEqLZS"
      }
    },
    {
      "cell_type": "markdown",
      "source": [],
      "metadata": {
        "id": "TPpaABYKo_OJ"
      }
    },
    {
      "cell_type": "code",
      "source": [
        "def multiply_by_2(v):\n",
        "    s = v << 1\n",
        "    s &= 0xff\n",
        "    if (v & 128) != 0:\n",
        "        s = s ^ 0x1b\n",
        "    return s\n",
        "\n",
        "\n",
        "def multiply_by_3(v):\n",
        "    return multiply_by_2(v) ^ v\n",
        "\n",
        "\n",
        "def mix_columns(grid):\n",
        "    new_grid = [[], [], [], []]\n",
        "    for i in range(4):\n",
        "        col = [grid[j][i] for j in range(4)]\n",
        "        col = mix_column(col)\n",
        "        for i in range(4):\n",
        "            new_grid[i].append(col[i])\n",
        "    return new_grid\n",
        "\n",
        "\n",
        "def mix_column(column):\n",
        "    r = [\n",
        "        multiply_by_2(column[0]) ^ multiply_by_3(\n",
        "            column[1]) ^ column[2] ^ column[3],\n",
        "        multiply_by_2(column[1]) ^ multiply_by_3(\n",
        "            column[2]) ^ column[3] ^ column[0],\n",
        "        multiply_by_2(column[2]) ^ multiply_by_3(\n",
        "            column[3]) ^ column[0] ^ column[1],\n",
        "        multiply_by_2(column[3]) ^ multiply_by_3(\n",
        "            column[0]) ^ column[1] ^ column[2],\n",
        "    ]\n",
        "    return r"
      ],
      "metadata": {
        "id": "DWDvl60TqXTP"
      },
      "execution_count": 237,
      "outputs": []
    },
    {
      "cell_type": "code",
      "source": [
        "#start the rounds to get the cipher text\n"
      ],
      "metadata": {
        "id": "tAx4FZg1nxya"
      },
      "execution_count": 238,
      "outputs": []
    },
    {
      "cell_type": "code",
      "source": [
        "#encrypion method\n"
      ],
      "metadata": {
        "id": "WoqFqIiWn5YA"
      },
      "execution_count": 239,
      "outputs": []
    }
  ]
}