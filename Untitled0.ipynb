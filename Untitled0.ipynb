{
  "nbformat": 4,
  "nbformat_minor": 0,
  "metadata": {
    "colab": {
      "provenance": [],
      "authorship_tag": "ABX9TyOSxLptl8rp8meTAcr8rhEb",
      "include_colab_link": true
    },
    "kernelspec": {
      "name": "python3",
      "display_name": "Python 3"
    },
    "language_info": {
      "name": "python"
    }
  },
  "cells": [
    {
      "cell_type": "markdown",
      "metadata": {
        "id": "view-in-github",
        "colab_type": "text"
      },
      "source": [
        "<a href=\"https://colab.research.google.com/github/Rahmaatef2001/W2022/blob/main/Untitled0.ipynb\" target=\"_parent\"><img src=\"https://colab.research.google.com/assets/colab-badge.svg\" alt=\"Open In Colab\"/></a>"
      ]
    },
    {
      "cell_type": "markdown",
      "source": [
        "**Block Ciphers**\n",
        "\n",
        "Block ciphers as opposed to stream ciphers take a block of the plaintext (a specific amount of bytes) and encrypts it into a block with the same size. In this section we will use the Advanced Encryption Standard (AES) to understand block ciphers. In the next schema it is shown how an original message of arbitrary  N  bytes is converted into a ciphertext having blocks of  K  bytes. The ciphertext size is always a multiple of  K  bytes."
      ],
      "metadata": {
        "id": "3Wrj-z5pBmIL"
      }
    },
    {
      "cell_type": "code",
      "execution_count": 110,
      "metadata": {
        "colab": {
          "base_uri": "https://localhost:8080/"
        },
        "id": "eRzp8soyBjzi",
        "outputId": "507ca383-42a6-4c61-c2fb-4fe0defeb8ad"
      },
      "outputs": [
        {
          "name": "stdout",
          "output_type": "stream",
          "text": [
            "Enter the message that needs encryptionrahooom\n"
          ]
        }
      ],
      "source": [
        "#taking a msg from the user\n",
        "plaintext= input( 'Enter the message that needs encryption')"
      ]
    },
    {
      "cell_type": "markdown",
      "source": [
        "**Encrypting using AES (Advanced Encryption Standard)**"
      ],
      "metadata": {
        "id": "1Diy04T-FlgO"
      }
    },
    {
      "cell_type": "code",
      "source": [],
      "metadata": {
        "id": "Kw4bQP_gKBK3"
      },
      "execution_count": 110,
      "outputs": []
    },
    {
      "cell_type": "code",
      "source": [
        "#need to expand the key to be able to encrypt the msg\n",
        "#perform key expansion \n",
        "import math\n",
        "#need to write the sbox as the byte substituion is a part of key expansion\n",
        "sbox = [0x63, 0x7c, 0x77, 0x7b, 0xf2, 0x6b, 0x6f, 0xc5, 0x30, 0x01, 0x67, 0x2b, 0xfe, 0xd7, 0xab, 0x76,\n",
        "\t\t0xca, 0x82, 0xc9, 0x7d, 0xfa, 0x59, 0x47, 0xf0, 0xad, 0xd4, 0xa2, 0xaf, 0x9c, 0xa4, 0x72, 0xc0,\n",
        "\t\t0xb7, 0xfd, 0x93, 0x26, 0x36, 0x3f, 0xf7, 0xcc, 0x34, 0xa5, 0xe5, 0xf1, 0x71, 0xd8, 0x31, 0x15,\n",
        "\t\t0x04, 0xc7, 0x23, 0xc3, 0x18, 0x96, 0x05, 0x9a, 0x07, 0x12, 0x80, 0xe2, 0xeb, 0x27, 0xb2, 0x75,\n",
        "\t\t0x09, 0x83, 0x2c, 0x1a, 0x1b, 0x6e, 0x5a, 0xa0, 0x52, 0x3b, 0xd6, 0xb3, 0x29, 0xe3, 0x2f, 0x84,\n",
        "\t\t0x53, 0xd1, 0x00, 0xed, 0x20, 0xfc, 0xb1, 0x5b, 0x6a, 0xcb, 0xbe, 0x39, 0x4a, 0x4c, 0x58, 0xcf,\n",
        "\t\t0xd0, 0xef, 0xaa, 0xfb, 0x43, 0x4d, 0x33, 0x85, 0x45, 0xf9, 0x02, 0x7f, 0x50, 0x3c, 0x9f, 0xa8,\n",
        "\t\t0x51, 0xa3, 0x40, 0x8f, 0x92, 0x9d, 0x38, 0xf5, 0xbc, 0xb6, 0xda, 0x21, 0x10, 0xff, 0xf3, 0xd2,\n",
        "\t\t0xcd, 0x0c, 0x13, 0xec, 0x5f, 0x97, 0x44, 0x17, 0xc4, 0xa7, 0x7e, 0x3d, 0x64, 0x5d, 0x19, 0x73,\n",
        "\t\t0x60, 0x81, 0x4f, 0xdc, 0x22, 0x2a, 0x90, 0x88, 0x46, 0xee, 0xb8, 0x14, 0xde, 0x5e, 0x0b, 0xdb,\n",
        "\t\t0xe0, 0x32, 0x3a, 0x0a, 0x49, 0x06, 0x24, 0x5c, 0xc2, 0xd3, 0xac, 0x62, 0x91, 0x95, 0xe4, 0x79,\n",
        "\t\t0xe7, 0xc8, 0x37, 0x6d, 0x8d, 0xd5, 0x4e, 0xa9, 0x6c, 0x56, 0xf4, 0xea, 0x65, 0x7a, 0xae, 0x08,\n",
        "\t\t0xba, 0x78, 0x25, 0x2e, 0x1c, 0xa6, 0xb4, 0xc6, 0xe8, 0xdd, 0x74, 0x1f, 0x4b, 0xbd, 0x8b, 0x8a,\n",
        "\t\t0x70, 0x3e, 0xb5, 0x66, 0x48, 0x03, 0xf6, 0x0e, 0x61, 0x35, 0x57, 0xb9, 0x86, 0xc1, 0x1d, 0x9e,\n",
        "\t\t0xe1, 0xf8, 0x98, 0x11, 0x69, 0xd9, 0x8e, 0x94, 0x9b, 0x1e, 0x87, 0xe9, 0xce, 0x55, 0x28, 0xdf,\n",
        "\t\t0x8c, 0xa1, 0x89, 0x0d, 0xbf, 0xe6, 0x42, 0x68, 0x41, 0x99, 0x2d, 0x0f, 0xb0, 0x54, 0xbb, 0x16]\n",
        "Rcon = [0x00000000, 0x01000000, 0x02000000,\n",
        "\t\t0x04000000, 0x08000000, 0x10000000, \n",
        "\t\t0x20000000, 0x40000000, 0x80000000, \n",
        "\t\t0x1b000000, 0x36000000]\n",
        "  #key is expanded to array of words\n",
        "def keyExpansion(key):\n",
        "\t#prep w list to hold 44 tuples\n",
        "\tw = [()]*44\n",
        "\t\n",
        "\t#fill out first 4 words based on the key\n",
        "\tfor i in range(4):\n",
        "\t\tw[i] = (key[4*i], key[4*i+1], key[4*i+2], key[4*i+3])\n",
        "\t\t\n",
        "\t#fill out the rest based on previews words, rotword, subword and rcon values\n",
        "\tfor i in range(4, 44):\n",
        "\t\t#get required previous keywords\n",
        "\t\ttemp = w[i-1]\n",
        "\t\tword = w[i-4]\n",
        "\n",
        "\t\t#if multiple of 4 use rot, sub, rcon etc\n",
        "\t\tif i % 4 == 0:\n",
        "\t\t\tx = RotWord(temp)\n",
        "\t\t\ty = SubWord(x)\n",
        "\t\t\trcon = Rcon[int(i/4)]\n",
        "\n",
        "\t\t\ttemp = hexor(y, hex(rcon)[2:]) \n",
        "\t\t\t\n",
        "\t\t#creating strings of hex rather than tuple\n",
        "\t\tword = ''.join(word)\n",
        "\t\ttemp = ''.join(temp)\n",
        "\t\t\n",
        "\t\t#xor the two hex values\n",
        "\t\txord = hexor(word, temp)\n",
        "\t\tw[i] = (xord[:2], xord[2:4], xord[4:6], xord[6:8])\n",
        "\t\t\n",
        "\treturn w\n",
        "\t\n",
        "#takes two hex values and calculates hex1 xor hex2\n",
        "def hexor(hex1, hex2):\n",
        "\t#convert to binary\n",
        "\tbin1 = hex2binary(hex1)\n",
        "\tbin2 = hex2binary(hex2)\n",
        "\t\n",
        "\t#calculate\n",
        "\txord = int(bin1, 2) ^ int(bin2, 2)\n",
        "\t\n",
        "\t#cut prefix\n",
        "\thexed = hex(xord)[2:]\n",
        "\t\n",
        "\t#leading 0s get cut above, if not length 8 add a leading 0\n",
        "\tif len(hexed) != 8:\n",
        "\t\thexed = '0' + hexed\n",
        "\t\t\n",
        "\treturn hexed\n",
        "\t\n",
        "#takes a hex value and returns binary\n",
        "def hex2binary(hex):\n",
        "\treturn bin(int(str(hex), 16))\n",
        "\n",
        "\t\n",
        "#takes from 1 to the end, adds on from the start to 1\n",
        "def RotWord(word):\n",
        "\treturn word[1:] + word[:1]\n",
        "\t\t\n",
        "\t\t\n",
        "#selects correct value from sbox based on the current word\n",
        "def SubWord(word):\n",
        "\tsWord = ()\n",
        "\t\n",
        "\t#loop throug the current word\n",
        "\tfor i in range(4):\n",
        "\t\t\n",
        "\t\t#check first char, if its a letter(a-f) get corresponding decimal\n",
        "\t\t#otherwise just take the value and add 1\n",
        "\t\tif word[i][0].isdigit() == False:\n",
        "\t\t\trow = ord(word[i][0]) - 86\n",
        "\t\telse:\n",
        "\t\t\trow = int(word[i][0])+1\n",
        "\n",
        "\t\t#repeat above for the seoncd char\n",
        "\t\tif word[i][1].isdigit() == False:\n",
        "\t\t\tcol = ord(word[i][1]) - 86\n",
        "\t\telse:\n",
        "\t\t\tcol = int(word[i][1])+1\n",
        "\t\t\n",
        "\t\t#get the index base on row and col (16x16 grid)\n",
        "\t\tsBoxIndex = (row*16) - (17-col)\n",
        "\t\t\n",
        "\t\t#get the value from sbox without prefix\n",
        "\t\tpiece = hex(sbox[sBoxIndex])[2:]\n",
        "\t\t\n",
        "\t\t#check length to ensure leading 0s are not forgotton\n",
        "\t\tif len(piece) != 2:\n",
        "\t\t\tpiece = '0' + piece\n",
        "\t\t\n",
        "\t\t#form tuple\n",
        "\t\tsWord = (*sWord, piece)\n",
        "\t\t\n",
        "\t#return string\n",
        "\treturn ''.join(sWord)\n",
        " \n",
        "keys =  [\"0f\", \"15\", \"71\", \"c9\", \"47\", \"d9\", \"e8\", \"59\", \"0c\", \"b7\", \"ad\", \"d6\", \"af\", \"7f\", \"67\", \"98\"] \n",
        "result = keyExpansion (keys)\n",
        "print(result)"
      ],
      "metadata": {
        "colab": {
          "base_uri": "https://localhost:8080/",
          "height": 339
        },
        "id": "c6nxTTGRCIu0",
        "outputId": "6aaa5288-2921-4ed8-d83c-995881396fb5"
      },
      "execution_count": 113,
      "outputs": [
        {
          "output_type": "error",
          "ename": "TypeError",
          "evalue": "ignored",
          "traceback": [
            "\u001b[0;31m---------------------------------------------------------------------------\u001b[0m",
            "\u001b[0;31mTypeError\u001b[0m                                 Traceback (most recent call last)",
            "\u001b[0;32m<ipython-input-113-aabe90835a41>\u001b[0m in \u001b[0;36m<module>\u001b[0;34m\u001b[0m\n\u001b[1;32m    121\u001b[0m \u001b[0;34m\u001b[0m\u001b[0m\n\u001b[1;32m    122\u001b[0m \u001b[0mkeys\u001b[0m \u001b[0;34m=\u001b[0m  \u001b[0;34m[\u001b[0m\u001b[0;34m\"0f\"\u001b[0m\u001b[0;34m,\u001b[0m \u001b[0;34m\"15\"\u001b[0m\u001b[0;34m,\u001b[0m \u001b[0;34m\"71\"\u001b[0m\u001b[0;34m,\u001b[0m \u001b[0;34m\"c9\"\u001b[0m\u001b[0;34m,\u001b[0m \u001b[0;34m\"47\"\u001b[0m\u001b[0;34m,\u001b[0m \u001b[0;34m\"d9\"\u001b[0m\u001b[0;34m,\u001b[0m \u001b[0;34m\"e8\"\u001b[0m\u001b[0;34m,\u001b[0m \u001b[0;34m\"59\"\u001b[0m\u001b[0;34m,\u001b[0m \u001b[0;34m\"0c\"\u001b[0m\u001b[0;34m,\u001b[0m \u001b[0;34m\"b7\"\u001b[0m\u001b[0;34m,\u001b[0m \u001b[0;34m\"ad\"\u001b[0m\u001b[0;34m,\u001b[0m \u001b[0;34m\"d6\"\u001b[0m\u001b[0;34m,\u001b[0m \u001b[0;34m\"af\"\u001b[0m\u001b[0;34m,\u001b[0m \u001b[0;34m\"7f\"\u001b[0m\u001b[0;34m,\u001b[0m \u001b[0;34m\"67\"\u001b[0m\u001b[0;34m,\u001b[0m \u001b[0;34m\"98\"\u001b[0m\u001b[0;34m]\u001b[0m\u001b[0;34m\u001b[0m\u001b[0;34m\u001b[0m\u001b[0m\n\u001b[0;32m--> 123\u001b[0;31m \u001b[0mresult\u001b[0m \u001b[0;34m=\u001b[0m \u001b[0mkeyExpansion\u001b[0m \u001b[0;34m(\u001b[0m\u001b[0mkeys\u001b[0m\u001b[0;34m)\u001b[0m\u001b[0;34m\u001b[0m\u001b[0;34m\u001b[0m\u001b[0m\n\u001b[0m\u001b[1;32m    124\u001b[0m \u001b[0mprint\u001b[0m\u001b[0;34m(\u001b[0m\u001b[0mresult\u001b[0m\u001b[0;34m)\u001b[0m\u001b[0;34m\u001b[0m\u001b[0;34m\u001b[0m\u001b[0m\n",
            "\u001b[0;32m<ipython-input-113-aabe90835a41>\u001b[0m in \u001b[0;36mkeyExpansion\u001b[0;34m(key)\u001b[0m\n\u001b[1;32m     29\u001b[0m \u001b[0;34m\u001b[0m\u001b[0m\n\u001b[1;32m     30\u001b[0m         \u001b[0;31m#fill out first 4 words based on the key\u001b[0m\u001b[0;34m\u001b[0m\u001b[0;34m\u001b[0m\u001b[0;34m\u001b[0m\u001b[0m\n\u001b[0;32m---> 31\u001b[0;31m         \u001b[0;32mfor\u001b[0m \u001b[0mi\u001b[0m \u001b[0;32min\u001b[0m \u001b[0mrange\u001b[0m\u001b[0;34m(\u001b[0m\u001b[0;36m4\u001b[0m\u001b[0;34m)\u001b[0m\u001b[0;34m:\u001b[0m\u001b[0;34m\u001b[0m\u001b[0;34m\u001b[0m\u001b[0m\n\u001b[0m\u001b[1;32m     32\u001b[0m                 \u001b[0mw\u001b[0m\u001b[0;34m[\u001b[0m\u001b[0mi\u001b[0m\u001b[0;34m]\u001b[0m \u001b[0;34m=\u001b[0m \u001b[0;34m(\u001b[0m\u001b[0mkey\u001b[0m\u001b[0;34m[\u001b[0m\u001b[0;36m4\u001b[0m\u001b[0;34m*\u001b[0m\u001b[0mi\u001b[0m\u001b[0;34m]\u001b[0m\u001b[0;34m,\u001b[0m \u001b[0mkey\u001b[0m\u001b[0;34m[\u001b[0m\u001b[0;36m4\u001b[0m\u001b[0;34m*\u001b[0m\u001b[0mi\u001b[0m\u001b[0;34m+\u001b[0m\u001b[0;36m1\u001b[0m\u001b[0;34m]\u001b[0m\u001b[0;34m,\u001b[0m \u001b[0mkey\u001b[0m\u001b[0;34m[\u001b[0m\u001b[0;36m4\u001b[0m\u001b[0;34m*\u001b[0m\u001b[0mi\u001b[0m\u001b[0;34m+\u001b[0m\u001b[0;36m2\u001b[0m\u001b[0;34m]\u001b[0m\u001b[0;34m,\u001b[0m \u001b[0mkey\u001b[0m\u001b[0;34m[\u001b[0m\u001b[0;36m4\u001b[0m\u001b[0;34m*\u001b[0m\u001b[0mi\u001b[0m\u001b[0;34m+\u001b[0m\u001b[0;36m3\u001b[0m\u001b[0;34m]\u001b[0m\u001b[0;34m)\u001b[0m\u001b[0;34m\u001b[0m\u001b[0;34m\u001b[0m\u001b[0m\n\u001b[1;32m     33\u001b[0m \u001b[0;34m\u001b[0m\u001b[0m\n",
            "\u001b[0;31mTypeError\u001b[0m: 'int' object is not callable"
          ]
        }
      ]
    },
    {
      "cell_type": "code",
      "source": [
        "#concatinat four arrays to gether to get the roundkey\n",
        "roundkeys= [()]*11\n",
        "for i in range(0,11):\n",
        "  #for going through the roundkey array 11 times to isert the input \n",
        "  for j in range(0,4):\n",
        "    #for concatinating every 4 array in the result array in one element in roundkeys\n",
        "    roundkeys [i] = roundkeys[i] + result[j]\n",
        "  roundstring=''.join(roundkeys[i])\n",
        "  roundkeys[i]= roundstring\n",
        "print (roundkeys)\n",
        "    \n",
        "\n"
      ],
      "metadata": {
        "id": "ihPIsO-VPX7c"
      },
      "execution_count": null,
      "outputs": []
    },
    {
      "cell_type": "code",
      "source": [
        "# we need to convert the roundkeys and the plain text into binary to be able to do the XOR operation\n",
        "#def toBinary\n",
        "plaintext= ''.join(format(ord(i), '08b') for i in plaintext)\n",
        "print (plaintext)\n",
        "for i in range (0,11):\n",
        "  roundkeys[i]= ''.join(format(ord(i), '08b') for i in roundkeys[i])\n",
        "print(roundkeys)"
      ],
      "metadata": {
        "id": "Oero33wvZVjY"
      },
      "execution_count": null,
      "outputs": []
    },
    {
      "cell_type": "markdown",
      "source": [
        "**Padding a message**"
      ],
      "metadata": {
        "id": "LYy_sOOuFtsn"
      }
    },
    {
      "cell_type": "code",
      "source": [
        "#the lenght of the message to be a multiple of the block size\n",
        "#check whether the plain text is less than or equal to 16 byte= 128 bits\n",
        "plaintextSize= len(plaintext) \n",
        "\n",
        "if (plaintextSize % 128 == plaintextSize):\n",
        "  for i in range (plaintextSize, 128):\n",
        "     plaintext = \"0\" + plaintext  \n",
        "if (plaintextSize %128!= 0):\n",
        "  for i in range (0,(plaintextSize %128)):\n",
        "    plaintext = \"0\" + plaintext\n",
        "\n",
        "print (plaintext)\n"
      ],
      "metadata": {
        "id": "E9QGeUkWFxzu"
      },
      "execution_count": null,
      "outputs": []
    },
    {
      "cell_type": "code",
      "source": [
        "#start to put the plain text into blocks\n",
        "range= int (plaintextSize/128)\n",
        "counter=0 # number of splits\n",
        "plaintextBlocks=[()]*range\n",
        "for i in  range (0,range):\n",
        "  #need to split the plaintext into blocks\n",
        "  block= plaintext.split(plaintextSize==128)\n",
        "  plaintextBlocks[i]= block \n",
        "print (plaintextBlocks)"
      ],
      "metadata": {
        "id": "KvAjvuaHkPFB"
      },
      "execution_count": null,
      "outputs": []
    },
    {
      "cell_type": "markdown",
      "source": [
        "step two in AES (shift rows) in which the first row stay the same, second row does one byte shift to the left,3rd row does two shifts two the left, 4th row does 3 shifts to the left "
      ],
      "metadata": {
        "id": "XTfXoC4AGVA3"
      }
    },
    {
      "cell_type": "code",
      "source": [
        "\n",
        "def rotate_row_left(row, n=1):\n",
        "    return row[n:] + row[:n]"
      ],
      "metadata": {
        "id": "l1-SqstBGTac"
      },
      "execution_count": null,
      "outputs": []
    },
    {
      "cell_type": "markdown",
      "source": [
        "step three is to mix colmuns in which we can express eaach colmun as 4 equations to derive each new byte in colmun"
      ],
      "metadata": {
        "id": "CXLyd_BGHiJh"
      }
    },
    {
      "cell_type": "code",
      "source": [
        "def multiply_by_2(v):\n",
        "    s = v << 1\n",
        "    s &= 0xff\n",
        "    if (v & 128) != 0:\n",
        "        s = s ^ 0x1b\n",
        "    return s\n",
        "\n",
        "\n",
        "def multiply_by_3(v):\n",
        "    return multiply_by_2(v) ^ v\n",
        "\n",
        "\n",
        "def mix_columns(grid):\n",
        "    new_grid = [[], [], [], []]\n",
        "    for i in range(4):\n",
        "        col = [grid[j][i] for j in range(4)]\n",
        "        col = mix_column(col)\n",
        "        for i in range(4):\n",
        "            new_grid[i].append(col[i])\n",
        "    return new_grid\n",
        "\n",
        "\n",
        "def mix_column(column):\n",
        "    r = [\n",
        "        multiply_by_2(column[0]) ^ multiply_by_3(\n",
        "            column[1]) ^ column[2] ^ column[3],\n",
        "        multiply_by_2(column[1]) ^ multiply_by_3(\n",
        "            column[2]) ^ column[3] ^ column[0],\n",
        "        multiply_by_2(column[2]) ^ multiply_by_3(\n",
        "            column[3]) ^ column[0] ^ column[1],\n",
        "        multiply_by_2(column[3]) ^ multiply_by_3(\n",
        "            column[0]) ^ column[1] ^ column[2],\n",
        "    ]\n",
        "    return r"
      ],
      "metadata": {
        "id": "XLulNgAtJaYS"
      },
      "execution_count": null,
      "outputs": []
    }
  ]
}