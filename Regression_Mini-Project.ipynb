{
  "cells": [
    {
      "cell_type": "markdown",
      "metadata": {
        "id": "REwVrAm0Goeg"
      },
      "source": [
        "# Linear Regression - Mini-Project 1\n"
      ]
    },
    {
      "cell_type": "markdown",
      "metadata": {
        "id": "BtqE219YGoeo"
      },
      "source": [
        "***Edit this cell with your name(s), tutorial number(s) and ID(s)***\n",
        "\n",
        "---\n",
        "\n",
        "Name: Rahma Atef Abdelhamid\n",
        "\n",
        "ID: 49-12703\n",
        "\n",
        "Tutorial: T08\n",
        "\n",
        "---\n",
        "\n",
        "Name: zahra Khaled shaker\n",
        "\n",
        "ID: 49-5956\n",
        "\n",
        "Tutorial: T08\n",
        "\n"
      ]
    },
    {
      "cell_type": "markdown",
      "metadata": {
        "id": "RqOX_S4DGoeq"
      },
      "source": [
        "## Dataset Description\n",
        "\n",
        "The dataset contains historical car auction sales prices, scraped from the outside internet sources and collected in 2015.\n",
        "\n",
        "Each row represents a sale at a used car auction. Each column is described below.\n",
        "\n",
        "| Column       | Description                                                                                          |\n",
        "| ------------ | ---------------------------------------------------------------------------------------------------- |\n",
        "| year         | Car's year of production                                                                             |\n",
        "| make         | Car make/brand                                                                                       |\n",
        "| model        | Car model                                                                                            |\n",
        "| trim         | Car's trim or grade, which specifies a car model's level of performance, features, options or extras |\n",
        "| body         | Car body type (e.g. Sedan, SUV, Coupe, etc.)                                                         |\n",
        "| transmission | Car transmission type. The mechanism that moves the power from the engine to the wheels.             |\n",
        "| vin          | Vehicle Identification Number, a unique code to identify individual motor vehicles.                  |\n",
        "| state        | The state in which the car was auctioned.                                                            |\n",
        "| condition    | The condition of the cars being at the time of auction, 5 being the best score and 1 being the worst.|\n",
        "| odometer     | The distance traveled by a vehicle since being manufactured, in miles                                |\n",
        "| color        | Exterior color of the car                                                                            |\n",
        "| interior     | Interior color of the car                                                                            |\n",
        "| seller       | The seller of the car or car dealer                                                                  |\n",
        "| mmr          | Manheim\\* Market Report, the market estimated price of the cars. An indicator of wholesale prices.   |\n",
        "| sellingprice | The price a car was sold at in auction.                                                              |\n",
        "| saledate     | The date on which the car has been sold.                                                             |\n",
        "\n",
        "\\*Manheim is a company established in 1945 as a car auction company. It has grown to a very reputable company in the industry and its MMR estimate is a baseline tool for wholesale car price determination. They base their price calculations on over 10 million transaction over the past 13-month period.\n"
      ]
    },
    {
      "cell_type": "markdown",
      "metadata": {
        "id": "Gm4VWiB7Goes"
      },
      "source": [
        "## Importing Libraries \\& Dataset\n"
      ]
    },
    {
      "cell_type": "code",
      "execution_count": 39,
      "metadata": {
        "colab": {
          "base_uri": "https://localhost:8080/",
          "height": 424
        },
        "id": "WLuR8yM3Goet",
        "outputId": "47a45ccb-320f-41c9-d358-850c2cb9fc3b"
      },
      "outputs": [
        {
          "output_type": "execute_result",
          "data": {
            "text/plain": [
              "   year     make         model   trim          body transmission  \\\n",
              "0  2013  Hyundai        Sonata    GLS         sedan    automatic   \n",
              "1  2014   Toyota       4Runner    SR5           SUV    automatic   \n",
              "2  2012    Lexus        IS 250   Base         Sedan    automatic   \n",
              "3  2002      BMW            X5   4.4i           SUV    automatic   \n",
              "4  2014     Ford  E-Series Van  E-250  E-Series Van    automatic   \n",
              "\n",
              "                 vin state  condition    odometer   color interior  \\\n",
              "0  5npeb4acxdh702805    ma        3.9   50404.0mi   black     gray   \n",
              "1  jtezu5jr2e5064567    fl        4.9   17846.0mi    gray        —   \n",
              "2  jthbf5c24c5168599    fl        4.1   21122.0mi  silver    black   \n",
              "3  5uxfb33562lh33864    fl        1.9  145303.0mi   black    black   \n",
              "4  1ftne2ew0eda31832    wa        4.9    6714.0mi   white     gray   \n",
              "\n",
              "                             seller     mmr sellingprice  \\\n",
              "0             the hertz corporation  $11000       $10900   \n",
              "1  award auto sales and leasing inc  $28700       $29900   \n",
              "2          lexus financial services  $22200       $24200   \n",
              "3                        peddle llc   $3675        $3200   \n",
              "4                            u-haul  $22500       $22100   \n",
              "\n",
              "                                  saledate  \n",
              "0  Tue Jun 02 2015 02:30:00 GMT-0700 (PDT)  \n",
              "1  Wed Feb 18 2015 07:15:00 GMT-0800 (PST)  \n",
              "2  Tue Jan 20 2015 01:30:00 GMT-0800 (PST)  \n",
              "3  Wed Mar 04 2015 07:10:00 GMT-0800 (PST)  \n",
              "4  Wed Feb 18 2015 06:45:00 GMT-0800 (PST)  "
            ],
            "text/html": [
              "\n",
              "  <div id=\"df-aa0c10e4-62e5-4534-bad8-541e0eac32b4\">\n",
              "    <div class=\"colab-df-container\">\n",
              "      <div>\n",
              "<style scoped>\n",
              "    .dataframe tbody tr th:only-of-type {\n",
              "        vertical-align: middle;\n",
              "    }\n",
              "\n",
              "    .dataframe tbody tr th {\n",
              "        vertical-align: top;\n",
              "    }\n",
              "\n",
              "    .dataframe thead th {\n",
              "        text-align: right;\n",
              "    }\n",
              "</style>\n",
              "<table border=\"1\" class=\"dataframe\">\n",
              "  <thead>\n",
              "    <tr style=\"text-align: right;\">\n",
              "      <th></th>\n",
              "      <th>year</th>\n",
              "      <th>make</th>\n",
              "      <th>model</th>\n",
              "      <th>trim</th>\n",
              "      <th>body</th>\n",
              "      <th>transmission</th>\n",
              "      <th>vin</th>\n",
              "      <th>state</th>\n",
              "      <th>condition</th>\n",
              "      <th>odometer</th>\n",
              "      <th>color</th>\n",
              "      <th>interior</th>\n",
              "      <th>seller</th>\n",
              "      <th>mmr</th>\n",
              "      <th>sellingprice</th>\n",
              "      <th>saledate</th>\n",
              "    </tr>\n",
              "  </thead>\n",
              "  <tbody>\n",
              "    <tr>\n",
              "      <th>0</th>\n",
              "      <td>2013</td>\n",
              "      <td>Hyundai</td>\n",
              "      <td>Sonata</td>\n",
              "      <td>GLS</td>\n",
              "      <td>sedan</td>\n",
              "      <td>automatic</td>\n",
              "      <td>5npeb4acxdh702805</td>\n",
              "      <td>ma</td>\n",
              "      <td>3.9</td>\n",
              "      <td>50404.0mi</td>\n",
              "      <td>black</td>\n",
              "      <td>gray</td>\n",
              "      <td>the hertz corporation</td>\n",
              "      <td>$11000</td>\n",
              "      <td>$10900</td>\n",
              "      <td>Tue Jun 02 2015 02:30:00 GMT-0700 (PDT)</td>\n",
              "    </tr>\n",
              "    <tr>\n",
              "      <th>1</th>\n",
              "      <td>2014</td>\n",
              "      <td>Toyota</td>\n",
              "      <td>4Runner</td>\n",
              "      <td>SR5</td>\n",
              "      <td>SUV</td>\n",
              "      <td>automatic</td>\n",
              "      <td>jtezu5jr2e5064567</td>\n",
              "      <td>fl</td>\n",
              "      <td>4.9</td>\n",
              "      <td>17846.0mi</td>\n",
              "      <td>gray</td>\n",
              "      <td>—</td>\n",
              "      <td>award auto sales and leasing inc</td>\n",
              "      <td>$28700</td>\n",
              "      <td>$29900</td>\n",
              "      <td>Wed Feb 18 2015 07:15:00 GMT-0800 (PST)</td>\n",
              "    </tr>\n",
              "    <tr>\n",
              "      <th>2</th>\n",
              "      <td>2012</td>\n",
              "      <td>Lexus</td>\n",
              "      <td>IS 250</td>\n",
              "      <td>Base</td>\n",
              "      <td>Sedan</td>\n",
              "      <td>automatic</td>\n",
              "      <td>jthbf5c24c5168599</td>\n",
              "      <td>fl</td>\n",
              "      <td>4.1</td>\n",
              "      <td>21122.0mi</td>\n",
              "      <td>silver</td>\n",
              "      <td>black</td>\n",
              "      <td>lexus financial services</td>\n",
              "      <td>$22200</td>\n",
              "      <td>$24200</td>\n",
              "      <td>Tue Jan 20 2015 01:30:00 GMT-0800 (PST)</td>\n",
              "    </tr>\n",
              "    <tr>\n",
              "      <th>3</th>\n",
              "      <td>2002</td>\n",
              "      <td>BMW</td>\n",
              "      <td>X5</td>\n",
              "      <td>4.4i</td>\n",
              "      <td>SUV</td>\n",
              "      <td>automatic</td>\n",
              "      <td>5uxfb33562lh33864</td>\n",
              "      <td>fl</td>\n",
              "      <td>1.9</td>\n",
              "      <td>145303.0mi</td>\n",
              "      <td>black</td>\n",
              "      <td>black</td>\n",
              "      <td>peddle llc</td>\n",
              "      <td>$3675</td>\n",
              "      <td>$3200</td>\n",
              "      <td>Wed Mar 04 2015 07:10:00 GMT-0800 (PST)</td>\n",
              "    </tr>\n",
              "    <tr>\n",
              "      <th>4</th>\n",
              "      <td>2014</td>\n",
              "      <td>Ford</td>\n",
              "      <td>E-Series Van</td>\n",
              "      <td>E-250</td>\n",
              "      <td>E-Series Van</td>\n",
              "      <td>automatic</td>\n",
              "      <td>1ftne2ew0eda31832</td>\n",
              "      <td>wa</td>\n",
              "      <td>4.9</td>\n",
              "      <td>6714.0mi</td>\n",
              "      <td>white</td>\n",
              "      <td>gray</td>\n",
              "      <td>u-haul</td>\n",
              "      <td>$22500</td>\n",
              "      <td>$22100</td>\n",
              "      <td>Wed Feb 18 2015 06:45:00 GMT-0800 (PST)</td>\n",
              "    </tr>\n",
              "  </tbody>\n",
              "</table>\n",
              "</div>\n",
              "      <button class=\"colab-df-convert\" onclick=\"convertToInteractive('df-aa0c10e4-62e5-4534-bad8-541e0eac32b4')\"\n",
              "              title=\"Convert this dataframe to an interactive table.\"\n",
              "              style=\"display:none;\">\n",
              "        \n",
              "  <svg xmlns=\"http://www.w3.org/2000/svg\" height=\"24px\"viewBox=\"0 0 24 24\"\n",
              "       width=\"24px\">\n",
              "    <path d=\"M0 0h24v24H0V0z\" fill=\"none\"/>\n",
              "    <path d=\"M18.56 5.44l.94 2.06.94-2.06 2.06-.94-2.06-.94-.94-2.06-.94 2.06-2.06.94zm-11 1L8.5 8.5l.94-2.06 2.06-.94-2.06-.94L8.5 2.5l-.94 2.06-2.06.94zm10 10l.94 2.06.94-2.06 2.06-.94-2.06-.94-.94-2.06-.94 2.06-2.06.94z\"/><path d=\"M17.41 7.96l-1.37-1.37c-.4-.4-.92-.59-1.43-.59-.52 0-1.04.2-1.43.59L10.3 9.45l-7.72 7.72c-.78.78-.78 2.05 0 2.83L4 21.41c.39.39.9.59 1.41.59.51 0 1.02-.2 1.41-.59l7.78-7.78 2.81-2.81c.8-.78.8-2.07 0-2.86zM5.41 20L4 18.59l7.72-7.72 1.47 1.35L5.41 20z\"/>\n",
              "  </svg>\n",
              "      </button>\n",
              "      \n",
              "  <style>\n",
              "    .colab-df-container {\n",
              "      display:flex;\n",
              "      flex-wrap:wrap;\n",
              "      gap: 12px;\n",
              "    }\n",
              "\n",
              "    .colab-df-convert {\n",
              "      background-color: #E8F0FE;\n",
              "      border: none;\n",
              "      border-radius: 50%;\n",
              "      cursor: pointer;\n",
              "      display: none;\n",
              "      fill: #1967D2;\n",
              "      height: 32px;\n",
              "      padding: 0 0 0 0;\n",
              "      width: 32px;\n",
              "    }\n",
              "\n",
              "    .colab-df-convert:hover {\n",
              "      background-color: #E2EBFA;\n",
              "      box-shadow: 0px 1px 2px rgba(60, 64, 67, 0.3), 0px 1px 3px 1px rgba(60, 64, 67, 0.15);\n",
              "      fill: #174EA6;\n",
              "    }\n",
              "\n",
              "    [theme=dark] .colab-df-convert {\n",
              "      background-color: #3B4455;\n",
              "      fill: #D2E3FC;\n",
              "    }\n",
              "\n",
              "    [theme=dark] .colab-df-convert:hover {\n",
              "      background-color: #434B5C;\n",
              "      box-shadow: 0px 1px 3px 1px rgba(0, 0, 0, 0.15);\n",
              "      filter: drop-shadow(0px 1px 2px rgba(0, 0, 0, 0.3));\n",
              "      fill: #FFFFFF;\n",
              "    }\n",
              "  </style>\n",
              "\n",
              "      <script>\n",
              "        const buttonEl =\n",
              "          document.querySelector('#df-aa0c10e4-62e5-4534-bad8-541e0eac32b4 button.colab-df-convert');\n",
              "        buttonEl.style.display =\n",
              "          google.colab.kernel.accessAllowed ? 'block' : 'none';\n",
              "\n",
              "        async function convertToInteractive(key) {\n",
              "          const element = document.querySelector('#df-aa0c10e4-62e5-4534-bad8-541e0eac32b4');\n",
              "          const dataTable =\n",
              "            await google.colab.kernel.invokeFunction('convertToInteractive',\n",
              "                                                     [key], {});\n",
              "          if (!dataTable) return;\n",
              "\n",
              "          const docLinkHtml = 'Like what you see? Visit the ' +\n",
              "            '<a target=\"_blank\" href=https://colab.research.google.com/notebooks/data_table.ipynb>data table notebook</a>'\n",
              "            + ' to learn more about interactive tables.';\n",
              "          element.innerHTML = '';\n",
              "          dataTable['output_type'] = 'display_data';\n",
              "          await google.colab.output.renderOutput(dataTable, element);\n",
              "          const docLink = document.createElement('div');\n",
              "          docLink.innerHTML = docLinkHtml;\n",
              "          element.appendChild(docLink);\n",
              "        }\n",
              "      </script>\n",
              "    </div>\n",
              "  </div>\n",
              "  "
            ]
          },
          "metadata": {},
          "execution_count": 39
        }
      ],
      "source": [
        "import pandas as pd\n",
        "import numpy as np\n",
        "import matplotlib.pyplot as plt\n",
        "import seaborn as sns\n",
        "\n",
        "%matplotlib inline\n",
        "plt.style.use(\"seaborn\")\n",
        "\n",
        "try:\n",
        "    df = pd.read_csv('car_prices.csv')\n",
        "except:\n",
        "    df = pd.read_csv('https://raw.githubusercontent.com/GUC-DM/W2022/main/data/car_prices.csv')\n",
        "\n",
        "df.head()"
      ]
    },
    {
      "cell_type": "markdown",
      "metadata": {
        "id": "KLFaotsUGoex"
      },
      "source": [
        "## Data Inspection\n",
        "\n",
        "Perform data inspection tasks here (recommended for data understanding)."
      ]
    },
    {
      "cell_type": "code",
      "execution_count": 40,
      "metadata": {
        "colab": {
          "base_uri": "https://localhost:8080/"
        },
        "id": "M9bpX60iGoey",
        "outputId": "fc719414-0bb4-4f06-9340-8e442f10508a"
      },
      "outputs": [
        {
          "output_type": "stream",
          "name": "stdout",
          "text": [
            "<class 'pandas.core.frame.DataFrame'>\n",
            "RangeIndex: 46578 entries, 0 to 46577\n",
            "Data columns (total 16 columns):\n",
            " #   Column        Non-Null Count  Dtype  \n",
            "---  ------        --------------  -----  \n",
            " 0   year          46578 non-null  int64  \n",
            " 1   make          46578 non-null  object \n",
            " 2   model         46578 non-null  object \n",
            " 3   trim          46578 non-null  object \n",
            " 4   body          46578 non-null  object \n",
            " 5   transmission  46578 non-null  object \n",
            " 6   vin           46578 non-null  object \n",
            " 7   state         46578 non-null  object \n",
            " 8   condition     46578 non-null  float64\n",
            " 9   odometer      46578 non-null  object \n",
            " 10  color         46578 non-null  object \n",
            " 11  interior      46578 non-null  object \n",
            " 12  seller        46578 non-null  object \n",
            " 13  mmr           46578 non-null  object \n",
            " 14  sellingprice  46578 non-null  object \n",
            " 15  saledate      46578 non-null  object \n",
            "dtypes: float64(1), int64(1), object(14)\n",
            "memory usage: 5.7+ MB\n"
          ]
        }
      ],
      "source": [
        "df.info()"
      ]
    },
    {
      "cell_type": "markdown",
      "metadata": {
        "id": "zF3QHNZ-Goez"
      },
      "source": [
        "## Data Pre-Processing & Cleaning\n",
        "\n",
        "_Apply any data preprocessing and/or feature engineering below. Show/output the changes to the dataset._"
      ]
    },
    {
      "cell_type": "code",
      "execution_count": 41,
      "metadata": {
        "colab": {
          "base_uri": "https://localhost:8080/",
          "height": 815
        },
        "id": "GIWJJiqIGoe0",
        "outputId": "f1e5cea3-630e-4ced-98fc-b77838fe88e0"
      },
      "outputs": [
        {
          "output_type": "execute_result",
          "data": {
            "text/plain": [
              "       year      make         model         trim          body transmission  \\\n",
              "0      2013   Hyundai        Sonata          GLS         sedan    automatic   \n",
              "1      2014    Toyota       4Runner          SR5           SUV    automatic   \n",
              "2      2012     Lexus        IS 250         Base         Sedan    automatic   \n",
              "3      2002       BMW            X5         4.4i           SUV    automatic   \n",
              "4      2014      Ford  E-Series Van        E-250  E-Series Van    automatic   \n",
              "...     ...       ...           ...          ...           ...          ...   \n",
              "46573  2013      Ford          Edge           SE           SUV    automatic   \n",
              "46574  2012  Infiniti       G Sedan  G37 Journey       g sedan    automatic   \n",
              "46575  2013       BMW      3 Series         328i         Sedan    automatic   \n",
              "46576  2013    Toyota         Camry           LE         Sedan    automatic   \n",
              "46577  2013       Kia           Rio           LX         Sedan    automatic   \n",
              "\n",
              "                     vin state  condition  odometer   color interior  \\\n",
              "0      5npeb4acxdh702805    ma        3.9   50404.0   black     gray   \n",
              "1      jtezu5jr2e5064567    fl        4.9   17846.0    gray        —   \n",
              "2      jthbf5c24c5168599    fl        4.1   21122.0  silver    black   \n",
              "3      5uxfb33562lh33864    fl        1.9  145303.0   black    black   \n",
              "4      1ftne2ew0eda31832    wa        4.9    6714.0   white     gray   \n",
              "...                  ...   ...        ...       ...     ...      ...   \n",
              "46573  2fmdk4gc2dbc03247    va        3.5   52844.0       —     gray   \n",
              "46574  jn1cv6ap9cm623162    ca        4.5   23185.0   black    black   \n",
              "46575  wba3a5c56df356614    tx        4.2   45357.0   white    beige   \n",
              "46576  4t1bf1fk8du254684    ca        3.5   43376.0   black    beige   \n",
              "46577  knadm4a32d6164825    ga        4.1   49953.0  silver    black   \n",
              "\n",
              "                                 seller      mmr  sellingprice  \\\n",
              "0                 the hertz corporation  11000.0       10900.0   \n",
              "1      award auto sales and leasing inc  28700.0       29900.0   \n",
              "2              lexus financial services  22200.0       24200.0   \n",
              "3                            peddle llc   3675.0        3200.0   \n",
              "4                                u-haul  22500.0       22100.0   \n",
              "...                                 ...      ...           ...   \n",
              "46573               wheels exchange llc  15650.0       17000.0   \n",
              "46574                nissan infiniti lt  19350.0       21500.0   \n",
              "46575          motorcars of south texas  22200.0       22000.0   \n",
              "46576              avis rac/san leandro  13400.0       13800.0   \n",
              "46577                kia motors finance   9700.0        9300.0   \n",
              "\n",
              "                                      saledate  \n",
              "0      Tue Jun 02 2015 02:30:00 GMT-0700 (PDT)  \n",
              "1      Wed Feb 18 2015 07:15:00 GMT-0800 (PST)  \n",
              "2      Tue Jan 20 2015 01:30:00 GMT-0800 (PST)  \n",
              "3      Wed Mar 04 2015 07:10:00 GMT-0800 (PST)  \n",
              "4      Wed Feb 18 2015 06:45:00 GMT-0800 (PST)  \n",
              "...                                        ...  \n",
              "46573  Wed Jan 07 2015 09:30:00 GMT-0800 (PST)  \n",
              "46574  Thu Jun 18 2015 05:30:00 GMT-0700 (PDT)  \n",
              "46575  Wed Feb 18 2015 02:00:00 GMT-0800 (PST)  \n",
              "46576  Wed Jan 14 2015 04:30:00 GMT-0800 (PST)  \n",
              "46577  Thu Dec 18 2014 10:00:00 GMT-0800 (PST)  \n",
              "\n",
              "[46578 rows x 16 columns]"
            ],
            "text/html": [
              "\n",
              "  <div id=\"df-4df53a95-aba8-431e-b866-b4da7311d6ae\">\n",
              "    <div class=\"colab-df-container\">\n",
              "      <div>\n",
              "<style scoped>\n",
              "    .dataframe tbody tr th:only-of-type {\n",
              "        vertical-align: middle;\n",
              "    }\n",
              "\n",
              "    .dataframe tbody tr th {\n",
              "        vertical-align: top;\n",
              "    }\n",
              "\n",
              "    .dataframe thead th {\n",
              "        text-align: right;\n",
              "    }\n",
              "</style>\n",
              "<table border=\"1\" class=\"dataframe\">\n",
              "  <thead>\n",
              "    <tr style=\"text-align: right;\">\n",
              "      <th></th>\n",
              "      <th>year</th>\n",
              "      <th>make</th>\n",
              "      <th>model</th>\n",
              "      <th>trim</th>\n",
              "      <th>body</th>\n",
              "      <th>transmission</th>\n",
              "      <th>vin</th>\n",
              "      <th>state</th>\n",
              "      <th>condition</th>\n",
              "      <th>odometer</th>\n",
              "      <th>color</th>\n",
              "      <th>interior</th>\n",
              "      <th>seller</th>\n",
              "      <th>mmr</th>\n",
              "      <th>sellingprice</th>\n",
              "      <th>saledate</th>\n",
              "    </tr>\n",
              "  </thead>\n",
              "  <tbody>\n",
              "    <tr>\n",
              "      <th>0</th>\n",
              "      <td>2013</td>\n",
              "      <td>Hyundai</td>\n",
              "      <td>Sonata</td>\n",
              "      <td>GLS</td>\n",
              "      <td>sedan</td>\n",
              "      <td>automatic</td>\n",
              "      <td>5npeb4acxdh702805</td>\n",
              "      <td>ma</td>\n",
              "      <td>3.9</td>\n",
              "      <td>50404.0</td>\n",
              "      <td>black</td>\n",
              "      <td>gray</td>\n",
              "      <td>the hertz corporation</td>\n",
              "      <td>11000.0</td>\n",
              "      <td>10900.0</td>\n",
              "      <td>Tue Jun 02 2015 02:30:00 GMT-0700 (PDT)</td>\n",
              "    </tr>\n",
              "    <tr>\n",
              "      <th>1</th>\n",
              "      <td>2014</td>\n",
              "      <td>Toyota</td>\n",
              "      <td>4Runner</td>\n",
              "      <td>SR5</td>\n",
              "      <td>SUV</td>\n",
              "      <td>automatic</td>\n",
              "      <td>jtezu5jr2e5064567</td>\n",
              "      <td>fl</td>\n",
              "      <td>4.9</td>\n",
              "      <td>17846.0</td>\n",
              "      <td>gray</td>\n",
              "      <td>—</td>\n",
              "      <td>award auto sales and leasing inc</td>\n",
              "      <td>28700.0</td>\n",
              "      <td>29900.0</td>\n",
              "      <td>Wed Feb 18 2015 07:15:00 GMT-0800 (PST)</td>\n",
              "    </tr>\n",
              "    <tr>\n",
              "      <th>2</th>\n",
              "      <td>2012</td>\n",
              "      <td>Lexus</td>\n",
              "      <td>IS 250</td>\n",
              "      <td>Base</td>\n",
              "      <td>Sedan</td>\n",
              "      <td>automatic</td>\n",
              "      <td>jthbf5c24c5168599</td>\n",
              "      <td>fl</td>\n",
              "      <td>4.1</td>\n",
              "      <td>21122.0</td>\n",
              "      <td>silver</td>\n",
              "      <td>black</td>\n",
              "      <td>lexus financial services</td>\n",
              "      <td>22200.0</td>\n",
              "      <td>24200.0</td>\n",
              "      <td>Tue Jan 20 2015 01:30:00 GMT-0800 (PST)</td>\n",
              "    </tr>\n",
              "    <tr>\n",
              "      <th>3</th>\n",
              "      <td>2002</td>\n",
              "      <td>BMW</td>\n",
              "      <td>X5</td>\n",
              "      <td>4.4i</td>\n",
              "      <td>SUV</td>\n",
              "      <td>automatic</td>\n",
              "      <td>5uxfb33562lh33864</td>\n",
              "      <td>fl</td>\n",
              "      <td>1.9</td>\n",
              "      <td>145303.0</td>\n",
              "      <td>black</td>\n",
              "      <td>black</td>\n",
              "      <td>peddle llc</td>\n",
              "      <td>3675.0</td>\n",
              "      <td>3200.0</td>\n",
              "      <td>Wed Mar 04 2015 07:10:00 GMT-0800 (PST)</td>\n",
              "    </tr>\n",
              "    <tr>\n",
              "      <th>4</th>\n",
              "      <td>2014</td>\n",
              "      <td>Ford</td>\n",
              "      <td>E-Series Van</td>\n",
              "      <td>E-250</td>\n",
              "      <td>E-Series Van</td>\n",
              "      <td>automatic</td>\n",
              "      <td>1ftne2ew0eda31832</td>\n",
              "      <td>wa</td>\n",
              "      <td>4.9</td>\n",
              "      <td>6714.0</td>\n",
              "      <td>white</td>\n",
              "      <td>gray</td>\n",
              "      <td>u-haul</td>\n",
              "      <td>22500.0</td>\n",
              "      <td>22100.0</td>\n",
              "      <td>Wed Feb 18 2015 06:45:00 GMT-0800 (PST)</td>\n",
              "    </tr>\n",
              "    <tr>\n",
              "      <th>...</th>\n",
              "      <td>...</td>\n",
              "      <td>...</td>\n",
              "      <td>...</td>\n",
              "      <td>...</td>\n",
              "      <td>...</td>\n",
              "      <td>...</td>\n",
              "      <td>...</td>\n",
              "      <td>...</td>\n",
              "      <td>...</td>\n",
              "      <td>...</td>\n",
              "      <td>...</td>\n",
              "      <td>...</td>\n",
              "      <td>...</td>\n",
              "      <td>...</td>\n",
              "      <td>...</td>\n",
              "      <td>...</td>\n",
              "    </tr>\n",
              "    <tr>\n",
              "      <th>46573</th>\n",
              "      <td>2013</td>\n",
              "      <td>Ford</td>\n",
              "      <td>Edge</td>\n",
              "      <td>SE</td>\n",
              "      <td>SUV</td>\n",
              "      <td>automatic</td>\n",
              "      <td>2fmdk4gc2dbc03247</td>\n",
              "      <td>va</td>\n",
              "      <td>3.5</td>\n",
              "      <td>52844.0</td>\n",
              "      <td>—</td>\n",
              "      <td>gray</td>\n",
              "      <td>wheels exchange llc</td>\n",
              "      <td>15650.0</td>\n",
              "      <td>17000.0</td>\n",
              "      <td>Wed Jan 07 2015 09:30:00 GMT-0800 (PST)</td>\n",
              "    </tr>\n",
              "    <tr>\n",
              "      <th>46574</th>\n",
              "      <td>2012</td>\n",
              "      <td>Infiniti</td>\n",
              "      <td>G Sedan</td>\n",
              "      <td>G37 Journey</td>\n",
              "      <td>g sedan</td>\n",
              "      <td>automatic</td>\n",
              "      <td>jn1cv6ap9cm623162</td>\n",
              "      <td>ca</td>\n",
              "      <td>4.5</td>\n",
              "      <td>23185.0</td>\n",
              "      <td>black</td>\n",
              "      <td>black</td>\n",
              "      <td>nissan infiniti lt</td>\n",
              "      <td>19350.0</td>\n",
              "      <td>21500.0</td>\n",
              "      <td>Thu Jun 18 2015 05:30:00 GMT-0700 (PDT)</td>\n",
              "    </tr>\n",
              "    <tr>\n",
              "      <th>46575</th>\n",
              "      <td>2013</td>\n",
              "      <td>BMW</td>\n",
              "      <td>3 Series</td>\n",
              "      <td>328i</td>\n",
              "      <td>Sedan</td>\n",
              "      <td>automatic</td>\n",
              "      <td>wba3a5c56df356614</td>\n",
              "      <td>tx</td>\n",
              "      <td>4.2</td>\n",
              "      <td>45357.0</td>\n",
              "      <td>white</td>\n",
              "      <td>beige</td>\n",
              "      <td>motorcars of south texas</td>\n",
              "      <td>22200.0</td>\n",
              "      <td>22000.0</td>\n",
              "      <td>Wed Feb 18 2015 02:00:00 GMT-0800 (PST)</td>\n",
              "    </tr>\n",
              "    <tr>\n",
              "      <th>46576</th>\n",
              "      <td>2013</td>\n",
              "      <td>Toyota</td>\n",
              "      <td>Camry</td>\n",
              "      <td>LE</td>\n",
              "      <td>Sedan</td>\n",
              "      <td>automatic</td>\n",
              "      <td>4t1bf1fk8du254684</td>\n",
              "      <td>ca</td>\n",
              "      <td>3.5</td>\n",
              "      <td>43376.0</td>\n",
              "      <td>black</td>\n",
              "      <td>beige</td>\n",
              "      <td>avis rac/san leandro</td>\n",
              "      <td>13400.0</td>\n",
              "      <td>13800.0</td>\n",
              "      <td>Wed Jan 14 2015 04:30:00 GMT-0800 (PST)</td>\n",
              "    </tr>\n",
              "    <tr>\n",
              "      <th>46577</th>\n",
              "      <td>2013</td>\n",
              "      <td>Kia</td>\n",
              "      <td>Rio</td>\n",
              "      <td>LX</td>\n",
              "      <td>Sedan</td>\n",
              "      <td>automatic</td>\n",
              "      <td>knadm4a32d6164825</td>\n",
              "      <td>ga</td>\n",
              "      <td>4.1</td>\n",
              "      <td>49953.0</td>\n",
              "      <td>silver</td>\n",
              "      <td>black</td>\n",
              "      <td>kia motors finance</td>\n",
              "      <td>9700.0</td>\n",
              "      <td>9300.0</td>\n",
              "      <td>Thu Dec 18 2014 10:00:00 GMT-0800 (PST)</td>\n",
              "    </tr>\n",
              "  </tbody>\n",
              "</table>\n",
              "<p>46578 rows × 16 columns</p>\n",
              "</div>\n",
              "      <button class=\"colab-df-convert\" onclick=\"convertToInteractive('df-4df53a95-aba8-431e-b866-b4da7311d6ae')\"\n",
              "              title=\"Convert this dataframe to an interactive table.\"\n",
              "              style=\"display:none;\">\n",
              "        \n",
              "  <svg xmlns=\"http://www.w3.org/2000/svg\" height=\"24px\"viewBox=\"0 0 24 24\"\n",
              "       width=\"24px\">\n",
              "    <path d=\"M0 0h24v24H0V0z\" fill=\"none\"/>\n",
              "    <path d=\"M18.56 5.44l.94 2.06.94-2.06 2.06-.94-2.06-.94-.94-2.06-.94 2.06-2.06.94zm-11 1L8.5 8.5l.94-2.06 2.06-.94-2.06-.94L8.5 2.5l-.94 2.06-2.06.94zm10 10l.94 2.06.94-2.06 2.06-.94-2.06-.94-.94-2.06-.94 2.06-2.06.94z\"/><path d=\"M17.41 7.96l-1.37-1.37c-.4-.4-.92-.59-1.43-.59-.52 0-1.04.2-1.43.59L10.3 9.45l-7.72 7.72c-.78.78-.78 2.05 0 2.83L4 21.41c.39.39.9.59 1.41.59.51 0 1.02-.2 1.41-.59l7.78-7.78 2.81-2.81c.8-.78.8-2.07 0-2.86zM5.41 20L4 18.59l7.72-7.72 1.47 1.35L5.41 20z\"/>\n",
              "  </svg>\n",
              "      </button>\n",
              "      \n",
              "  <style>\n",
              "    .colab-df-container {\n",
              "      display:flex;\n",
              "      flex-wrap:wrap;\n",
              "      gap: 12px;\n",
              "    }\n",
              "\n",
              "    .colab-df-convert {\n",
              "      background-color: #E8F0FE;\n",
              "      border: none;\n",
              "      border-radius: 50%;\n",
              "      cursor: pointer;\n",
              "      display: none;\n",
              "      fill: #1967D2;\n",
              "      height: 32px;\n",
              "      padding: 0 0 0 0;\n",
              "      width: 32px;\n",
              "    }\n",
              "\n",
              "    .colab-df-convert:hover {\n",
              "      background-color: #E2EBFA;\n",
              "      box-shadow: 0px 1px 2px rgba(60, 64, 67, 0.3), 0px 1px 3px 1px rgba(60, 64, 67, 0.15);\n",
              "      fill: #174EA6;\n",
              "    }\n",
              "\n",
              "    [theme=dark] .colab-df-convert {\n",
              "      background-color: #3B4455;\n",
              "      fill: #D2E3FC;\n",
              "    }\n",
              "\n",
              "    [theme=dark] .colab-df-convert:hover {\n",
              "      background-color: #434B5C;\n",
              "      box-shadow: 0px 1px 3px 1px rgba(0, 0, 0, 0.15);\n",
              "      filter: drop-shadow(0px 1px 2px rgba(0, 0, 0, 0.3));\n",
              "      fill: #FFFFFF;\n",
              "    }\n",
              "  </style>\n",
              "\n",
              "      <script>\n",
              "        const buttonEl =\n",
              "          document.querySelector('#df-4df53a95-aba8-431e-b866-b4da7311d6ae button.colab-df-convert');\n",
              "        buttonEl.style.display =\n",
              "          google.colab.kernel.accessAllowed ? 'block' : 'none';\n",
              "\n",
              "        async function convertToInteractive(key) {\n",
              "          const element = document.querySelector('#df-4df53a95-aba8-431e-b866-b4da7311d6ae');\n",
              "          const dataTable =\n",
              "            await google.colab.kernel.invokeFunction('convertToInteractive',\n",
              "                                                     [key], {});\n",
              "          if (!dataTable) return;\n",
              "\n",
              "          const docLinkHtml = 'Like what you see? Visit the ' +\n",
              "            '<a target=\"_blank\" href=https://colab.research.google.com/notebooks/data_table.ipynb>data table notebook</a>'\n",
              "            + ' to learn more about interactive tables.';\n",
              "          element.innerHTML = '';\n",
              "          dataTable['output_type'] = 'display_data';\n",
              "          await google.colab.output.renderOutput(dataTable, element);\n",
              "          const docLink = document.createElement('div');\n",
              "          docLink.innerHTML = docLinkHtml;\n",
              "          element.appendChild(docLink);\n",
              "        }\n",
              "      </script>\n",
              "    </div>\n",
              "  </div>\n",
              "  "
            ]
          },
          "metadata": {},
          "execution_count": 41
        }
      ],
      "source": [
        "df['sellingprice'] = df['sellingprice'].str.extract('([0,-99999999999999]+)', expand=False).str.strip()\n",
        "df['mmr'] = df['mmr'].str.extract('([0,-99999999999999]+)', expand=False).str.strip()\n",
        "df['odometer'] = df['odometer'].str.extract('([0,-99999999999999]+)', expand=False).str.strip()\n",
        "df['sellingprice'] = df['sellingprice'].interpolate().astype(float)\n",
        "df['mmr'] = df['mmr'].interpolate().astype(float)\n",
        "df['odometer'] = df['odometer'].interpolate().astype(float)\n",
        "\n",
        "df"
      ]
    },
    {
      "cell_type": "code",
      "source": [
        "temp=df['interior'].mode()\n",
        "temp"
      ],
      "metadata": {
        "id": "SrbqVtm3uGGC",
        "outputId": "cac92fb3-b4c7-4bcf-d679-543a7cc1e5b2",
        "colab": {
          "base_uri": "https://localhost:8080/"
        }
      },
      "execution_count": 88,
      "outputs": [
        {
          "output_type": "execute_result",
          "data": {
            "text/plain": [
              "0    black\n",
              "dtype: object"
            ]
          },
          "metadata": {},
          "execution_count": 88
        }
      ]
    },
    {
      "cell_type": "code",
      "source": [
        "#taking care of case sencitive\n",
        "df['body'] = df['body'].str.capitalize()\n",
        "\n"
      ],
      "metadata": {
        "id": "6xT_X0MzSbgH"
      },
      "execution_count": 57,
      "outputs": []
    },
    {
      "cell_type": "code",
      "source": [
        "#df['body'].replace(to_replace=\"G sedan\",value=\"Sedan\")\n",
        "df['body']=df['body'].replace(\"Suv\", \"SUV\")\n",
        "df['body']=df['body'].replace([\"Crew cab\",\"Regular cab\",\"Double cab\",\"Supercab\",\"King cab\",\"Quad cab\",\"Crewmax cab\", \"Club cab\", \"Access cab\",\"Cab plus 4\",\"Mega cab\",\"Regular-cab\",\n",
        "       \"Xtracab\",\"Extended cab\",\"Supercrew\"], \"pickup trucks\")\n",
        "df['body']=df['body'].replace([\"Cts wagon\",\"Tsx sport wagon\"], \"Wagon\")\n",
        "df['body']=df['body'].replace([\"G coupe\",\"Genesis coupe\",\"Elantra coupe\",\"Cts-v coupe\",\"Q60 coupe\",\"Cts coupe\"], \"Coupe\")\n",
        "df['body']=df['body'].replace([\"G sedan\"], \"Sedan\")\n",
        "df['body']=df['body'].replace([\"G convertible\", \"Beetle convertible\", \"G37 convertible\",\"Q60 convertible\",\"Granturismo convertible\"], \"Convertible\")\n",
        "df['body']=df['body'].replace([\"E-series van\",\"Van\",\"Promaster cargo van\",\"Transit van\"], \"Minivan\")\n",
        "df['body']=df['body'].replace([\"Koup\"], \"Hatchback\")\n",
        "df\n"
      ],
      "metadata": {
        "colab": {
          "base_uri": "https://localhost:8080/",
          "height": 815
        },
        "id": "rPUuPKF2ab0W",
        "outputId": "d468f49a-af47-4bb1-be18-893f096bd272"
      },
      "execution_count": 85,
      "outputs": [
        {
          "output_type": "execute_result",
          "data": {
            "text/plain": [
              "       year      make         model         trim     body transmission  \\\n",
              "0      2013   Hyundai        Sonata          GLS    Sedan    automatic   \n",
              "1      2014    Toyota       4Runner          SR5      SUV    automatic   \n",
              "2      2012     Lexus        IS 250         Base    Sedan    automatic   \n",
              "3      2002       BMW            X5         4.4i      SUV    automatic   \n",
              "4      2014      Ford  E-Series Van        E-250  Minivan    automatic   \n",
              "...     ...       ...           ...          ...      ...          ...   \n",
              "46573  2013      Ford          Edge           SE      SUV    automatic   \n",
              "46574  2012  Infiniti       G Sedan  G37 Journey    Sedan    automatic   \n",
              "46575  2013       BMW      3 Series         328i    Sedan    automatic   \n",
              "46576  2013    Toyota         Camry           LE    Sedan    automatic   \n",
              "46577  2013       Kia           Rio           LX    Sedan    automatic   \n",
              "\n",
              "                     vin state  condition  odometer   color interior  \\\n",
              "0      5npeb4acxdh702805    ma        3.9   50404.0   black     gray   \n",
              "1      jtezu5jr2e5064567    fl        4.9   17846.0    gray        —   \n",
              "2      jthbf5c24c5168599    fl        4.1   21122.0  silver    black   \n",
              "3      5uxfb33562lh33864    fl        1.9  145303.0   black    black   \n",
              "4      1ftne2ew0eda31832    wa        4.9    6714.0   white     gray   \n",
              "...                  ...   ...        ...       ...     ...      ...   \n",
              "46573  2fmdk4gc2dbc03247    va        3.5   52844.0       —     gray   \n",
              "46574  jn1cv6ap9cm623162    ca        4.5   23185.0   black    black   \n",
              "46575  wba3a5c56df356614    tx        4.2   45357.0   white    beige   \n",
              "46576  4t1bf1fk8du254684    ca        3.5   43376.0   black    beige   \n",
              "46577  knadm4a32d6164825    ga        4.1   49953.0  silver    black   \n",
              "\n",
              "                                 seller      mmr  sellingprice  \\\n",
              "0                 the hertz corporation  11000.0       10900.0   \n",
              "1      award auto sales and leasing inc  28700.0       29900.0   \n",
              "2              lexus financial services  22200.0       24200.0   \n",
              "3                            peddle llc   3675.0        3200.0   \n",
              "4                                u-haul  22500.0       22100.0   \n",
              "...                                 ...      ...           ...   \n",
              "46573               wheels exchange llc  15650.0       17000.0   \n",
              "46574                nissan infiniti lt  19350.0       21500.0   \n",
              "46575          motorcars of south texas  22200.0       22000.0   \n",
              "46576              avis rac/san leandro  13400.0       13800.0   \n",
              "46577                kia motors finance   9700.0        9300.0   \n",
              "\n",
              "                                      saledate  \n",
              "0      Tue Jun 02 2015 02:30:00 GMT-0700 (PDT)  \n",
              "1      Wed Feb 18 2015 07:15:00 GMT-0800 (PST)  \n",
              "2      Tue Jan 20 2015 01:30:00 GMT-0800 (PST)  \n",
              "3      Wed Mar 04 2015 07:10:00 GMT-0800 (PST)  \n",
              "4      Wed Feb 18 2015 06:45:00 GMT-0800 (PST)  \n",
              "...                                        ...  \n",
              "46573  Wed Jan 07 2015 09:30:00 GMT-0800 (PST)  \n",
              "46574  Thu Jun 18 2015 05:30:00 GMT-0700 (PDT)  \n",
              "46575  Wed Feb 18 2015 02:00:00 GMT-0800 (PST)  \n",
              "46576  Wed Jan 14 2015 04:30:00 GMT-0800 (PST)  \n",
              "46577  Thu Dec 18 2014 10:00:00 GMT-0800 (PST)  \n",
              "\n",
              "[46578 rows x 16 columns]"
            ],
            "text/html": [
              "\n",
              "  <div id=\"df-b0acf7ea-5edd-485c-ab81-e42daa495ea8\">\n",
              "    <div class=\"colab-df-container\">\n",
              "      <div>\n",
              "<style scoped>\n",
              "    .dataframe tbody tr th:only-of-type {\n",
              "        vertical-align: middle;\n",
              "    }\n",
              "\n",
              "    .dataframe tbody tr th {\n",
              "        vertical-align: top;\n",
              "    }\n",
              "\n",
              "    .dataframe thead th {\n",
              "        text-align: right;\n",
              "    }\n",
              "</style>\n",
              "<table border=\"1\" class=\"dataframe\">\n",
              "  <thead>\n",
              "    <tr style=\"text-align: right;\">\n",
              "      <th></th>\n",
              "      <th>year</th>\n",
              "      <th>make</th>\n",
              "      <th>model</th>\n",
              "      <th>trim</th>\n",
              "      <th>body</th>\n",
              "      <th>transmission</th>\n",
              "      <th>vin</th>\n",
              "      <th>state</th>\n",
              "      <th>condition</th>\n",
              "      <th>odometer</th>\n",
              "      <th>color</th>\n",
              "      <th>interior</th>\n",
              "      <th>seller</th>\n",
              "      <th>mmr</th>\n",
              "      <th>sellingprice</th>\n",
              "      <th>saledate</th>\n",
              "    </tr>\n",
              "  </thead>\n",
              "  <tbody>\n",
              "    <tr>\n",
              "      <th>0</th>\n",
              "      <td>2013</td>\n",
              "      <td>Hyundai</td>\n",
              "      <td>Sonata</td>\n",
              "      <td>GLS</td>\n",
              "      <td>Sedan</td>\n",
              "      <td>automatic</td>\n",
              "      <td>5npeb4acxdh702805</td>\n",
              "      <td>ma</td>\n",
              "      <td>3.9</td>\n",
              "      <td>50404.0</td>\n",
              "      <td>black</td>\n",
              "      <td>gray</td>\n",
              "      <td>the hertz corporation</td>\n",
              "      <td>11000.0</td>\n",
              "      <td>10900.0</td>\n",
              "      <td>Tue Jun 02 2015 02:30:00 GMT-0700 (PDT)</td>\n",
              "    </tr>\n",
              "    <tr>\n",
              "      <th>1</th>\n",
              "      <td>2014</td>\n",
              "      <td>Toyota</td>\n",
              "      <td>4Runner</td>\n",
              "      <td>SR5</td>\n",
              "      <td>SUV</td>\n",
              "      <td>automatic</td>\n",
              "      <td>jtezu5jr2e5064567</td>\n",
              "      <td>fl</td>\n",
              "      <td>4.9</td>\n",
              "      <td>17846.0</td>\n",
              "      <td>gray</td>\n",
              "      <td>—</td>\n",
              "      <td>award auto sales and leasing inc</td>\n",
              "      <td>28700.0</td>\n",
              "      <td>29900.0</td>\n",
              "      <td>Wed Feb 18 2015 07:15:00 GMT-0800 (PST)</td>\n",
              "    </tr>\n",
              "    <tr>\n",
              "      <th>2</th>\n",
              "      <td>2012</td>\n",
              "      <td>Lexus</td>\n",
              "      <td>IS 250</td>\n",
              "      <td>Base</td>\n",
              "      <td>Sedan</td>\n",
              "      <td>automatic</td>\n",
              "      <td>jthbf5c24c5168599</td>\n",
              "      <td>fl</td>\n",
              "      <td>4.1</td>\n",
              "      <td>21122.0</td>\n",
              "      <td>silver</td>\n",
              "      <td>black</td>\n",
              "      <td>lexus financial services</td>\n",
              "      <td>22200.0</td>\n",
              "      <td>24200.0</td>\n",
              "      <td>Tue Jan 20 2015 01:30:00 GMT-0800 (PST)</td>\n",
              "    </tr>\n",
              "    <tr>\n",
              "      <th>3</th>\n",
              "      <td>2002</td>\n",
              "      <td>BMW</td>\n",
              "      <td>X5</td>\n",
              "      <td>4.4i</td>\n",
              "      <td>SUV</td>\n",
              "      <td>automatic</td>\n",
              "      <td>5uxfb33562lh33864</td>\n",
              "      <td>fl</td>\n",
              "      <td>1.9</td>\n",
              "      <td>145303.0</td>\n",
              "      <td>black</td>\n",
              "      <td>black</td>\n",
              "      <td>peddle llc</td>\n",
              "      <td>3675.0</td>\n",
              "      <td>3200.0</td>\n",
              "      <td>Wed Mar 04 2015 07:10:00 GMT-0800 (PST)</td>\n",
              "    </tr>\n",
              "    <tr>\n",
              "      <th>4</th>\n",
              "      <td>2014</td>\n",
              "      <td>Ford</td>\n",
              "      <td>E-Series Van</td>\n",
              "      <td>E-250</td>\n",
              "      <td>Minivan</td>\n",
              "      <td>automatic</td>\n",
              "      <td>1ftne2ew0eda31832</td>\n",
              "      <td>wa</td>\n",
              "      <td>4.9</td>\n",
              "      <td>6714.0</td>\n",
              "      <td>white</td>\n",
              "      <td>gray</td>\n",
              "      <td>u-haul</td>\n",
              "      <td>22500.0</td>\n",
              "      <td>22100.0</td>\n",
              "      <td>Wed Feb 18 2015 06:45:00 GMT-0800 (PST)</td>\n",
              "    </tr>\n",
              "    <tr>\n",
              "      <th>...</th>\n",
              "      <td>...</td>\n",
              "      <td>...</td>\n",
              "      <td>...</td>\n",
              "      <td>...</td>\n",
              "      <td>...</td>\n",
              "      <td>...</td>\n",
              "      <td>...</td>\n",
              "      <td>...</td>\n",
              "      <td>...</td>\n",
              "      <td>...</td>\n",
              "      <td>...</td>\n",
              "      <td>...</td>\n",
              "      <td>...</td>\n",
              "      <td>...</td>\n",
              "      <td>...</td>\n",
              "      <td>...</td>\n",
              "    </tr>\n",
              "    <tr>\n",
              "      <th>46573</th>\n",
              "      <td>2013</td>\n",
              "      <td>Ford</td>\n",
              "      <td>Edge</td>\n",
              "      <td>SE</td>\n",
              "      <td>SUV</td>\n",
              "      <td>automatic</td>\n",
              "      <td>2fmdk4gc2dbc03247</td>\n",
              "      <td>va</td>\n",
              "      <td>3.5</td>\n",
              "      <td>52844.0</td>\n",
              "      <td>—</td>\n",
              "      <td>gray</td>\n",
              "      <td>wheels exchange llc</td>\n",
              "      <td>15650.0</td>\n",
              "      <td>17000.0</td>\n",
              "      <td>Wed Jan 07 2015 09:30:00 GMT-0800 (PST)</td>\n",
              "    </tr>\n",
              "    <tr>\n",
              "      <th>46574</th>\n",
              "      <td>2012</td>\n",
              "      <td>Infiniti</td>\n",
              "      <td>G Sedan</td>\n",
              "      <td>G37 Journey</td>\n",
              "      <td>Sedan</td>\n",
              "      <td>automatic</td>\n",
              "      <td>jn1cv6ap9cm623162</td>\n",
              "      <td>ca</td>\n",
              "      <td>4.5</td>\n",
              "      <td>23185.0</td>\n",
              "      <td>black</td>\n",
              "      <td>black</td>\n",
              "      <td>nissan infiniti lt</td>\n",
              "      <td>19350.0</td>\n",
              "      <td>21500.0</td>\n",
              "      <td>Thu Jun 18 2015 05:30:00 GMT-0700 (PDT)</td>\n",
              "    </tr>\n",
              "    <tr>\n",
              "      <th>46575</th>\n",
              "      <td>2013</td>\n",
              "      <td>BMW</td>\n",
              "      <td>3 Series</td>\n",
              "      <td>328i</td>\n",
              "      <td>Sedan</td>\n",
              "      <td>automatic</td>\n",
              "      <td>wba3a5c56df356614</td>\n",
              "      <td>tx</td>\n",
              "      <td>4.2</td>\n",
              "      <td>45357.0</td>\n",
              "      <td>white</td>\n",
              "      <td>beige</td>\n",
              "      <td>motorcars of south texas</td>\n",
              "      <td>22200.0</td>\n",
              "      <td>22000.0</td>\n",
              "      <td>Wed Feb 18 2015 02:00:00 GMT-0800 (PST)</td>\n",
              "    </tr>\n",
              "    <tr>\n",
              "      <th>46576</th>\n",
              "      <td>2013</td>\n",
              "      <td>Toyota</td>\n",
              "      <td>Camry</td>\n",
              "      <td>LE</td>\n",
              "      <td>Sedan</td>\n",
              "      <td>automatic</td>\n",
              "      <td>4t1bf1fk8du254684</td>\n",
              "      <td>ca</td>\n",
              "      <td>3.5</td>\n",
              "      <td>43376.0</td>\n",
              "      <td>black</td>\n",
              "      <td>beige</td>\n",
              "      <td>avis rac/san leandro</td>\n",
              "      <td>13400.0</td>\n",
              "      <td>13800.0</td>\n",
              "      <td>Wed Jan 14 2015 04:30:00 GMT-0800 (PST)</td>\n",
              "    </tr>\n",
              "    <tr>\n",
              "      <th>46577</th>\n",
              "      <td>2013</td>\n",
              "      <td>Kia</td>\n",
              "      <td>Rio</td>\n",
              "      <td>LX</td>\n",
              "      <td>Sedan</td>\n",
              "      <td>automatic</td>\n",
              "      <td>knadm4a32d6164825</td>\n",
              "      <td>ga</td>\n",
              "      <td>4.1</td>\n",
              "      <td>49953.0</td>\n",
              "      <td>silver</td>\n",
              "      <td>black</td>\n",
              "      <td>kia motors finance</td>\n",
              "      <td>9700.0</td>\n",
              "      <td>9300.0</td>\n",
              "      <td>Thu Dec 18 2014 10:00:00 GMT-0800 (PST)</td>\n",
              "    </tr>\n",
              "  </tbody>\n",
              "</table>\n",
              "<p>46578 rows × 16 columns</p>\n",
              "</div>\n",
              "      <button class=\"colab-df-convert\" onclick=\"convertToInteractive('df-b0acf7ea-5edd-485c-ab81-e42daa495ea8')\"\n",
              "              title=\"Convert this dataframe to an interactive table.\"\n",
              "              style=\"display:none;\">\n",
              "        \n",
              "  <svg xmlns=\"http://www.w3.org/2000/svg\" height=\"24px\"viewBox=\"0 0 24 24\"\n",
              "       width=\"24px\">\n",
              "    <path d=\"M0 0h24v24H0V0z\" fill=\"none\"/>\n",
              "    <path d=\"M18.56 5.44l.94 2.06.94-2.06 2.06-.94-2.06-.94-.94-2.06-.94 2.06-2.06.94zm-11 1L8.5 8.5l.94-2.06 2.06-.94-2.06-.94L8.5 2.5l-.94 2.06-2.06.94zm10 10l.94 2.06.94-2.06 2.06-.94-2.06-.94-.94-2.06-.94 2.06-2.06.94z\"/><path d=\"M17.41 7.96l-1.37-1.37c-.4-.4-.92-.59-1.43-.59-.52 0-1.04.2-1.43.59L10.3 9.45l-7.72 7.72c-.78.78-.78 2.05 0 2.83L4 21.41c.39.39.9.59 1.41.59.51 0 1.02-.2 1.41-.59l7.78-7.78 2.81-2.81c.8-.78.8-2.07 0-2.86zM5.41 20L4 18.59l7.72-7.72 1.47 1.35L5.41 20z\"/>\n",
              "  </svg>\n",
              "      </button>\n",
              "      \n",
              "  <style>\n",
              "    .colab-df-container {\n",
              "      display:flex;\n",
              "      flex-wrap:wrap;\n",
              "      gap: 12px;\n",
              "    }\n",
              "\n",
              "    .colab-df-convert {\n",
              "      background-color: #E8F0FE;\n",
              "      border: none;\n",
              "      border-radius: 50%;\n",
              "      cursor: pointer;\n",
              "      display: none;\n",
              "      fill: #1967D2;\n",
              "      height: 32px;\n",
              "      padding: 0 0 0 0;\n",
              "      width: 32px;\n",
              "    }\n",
              "\n",
              "    .colab-df-convert:hover {\n",
              "      background-color: #E2EBFA;\n",
              "      box-shadow: 0px 1px 2px rgba(60, 64, 67, 0.3), 0px 1px 3px 1px rgba(60, 64, 67, 0.15);\n",
              "      fill: #174EA6;\n",
              "    }\n",
              "\n",
              "    [theme=dark] .colab-df-convert {\n",
              "      background-color: #3B4455;\n",
              "      fill: #D2E3FC;\n",
              "    }\n",
              "\n",
              "    [theme=dark] .colab-df-convert:hover {\n",
              "      background-color: #434B5C;\n",
              "      box-shadow: 0px 1px 3px 1px rgba(0, 0, 0, 0.15);\n",
              "      filter: drop-shadow(0px 1px 2px rgba(0, 0, 0, 0.3));\n",
              "      fill: #FFFFFF;\n",
              "    }\n",
              "  </style>\n",
              "\n",
              "      <script>\n",
              "        const buttonEl =\n",
              "          document.querySelector('#df-b0acf7ea-5edd-485c-ab81-e42daa495ea8 button.colab-df-convert');\n",
              "        buttonEl.style.display =\n",
              "          google.colab.kernel.accessAllowed ? 'block' : 'none';\n",
              "\n",
              "        async function convertToInteractive(key) {\n",
              "          const element = document.querySelector('#df-b0acf7ea-5edd-485c-ab81-e42daa495ea8');\n",
              "          const dataTable =\n",
              "            await google.colab.kernel.invokeFunction('convertToInteractive',\n",
              "                                                     [key], {});\n",
              "          if (!dataTable) return;\n",
              "\n",
              "          const docLinkHtml = 'Like what you see? Visit the ' +\n",
              "            '<a target=\"_blank\" href=https://colab.research.google.com/notebooks/data_table.ipynb>data table notebook</a>'\n",
              "            + ' to learn more about interactive tables.';\n",
              "          element.innerHTML = '';\n",
              "          dataTable['output_type'] = 'display_data';\n",
              "          await google.colab.output.renderOutput(dataTable, element);\n",
              "          const docLink = document.createElement('div');\n",
              "          docLink.innerHTML = docLinkHtml;\n",
              "          element.appendChild(docLink);\n",
              "        }\n",
              "      </script>\n",
              "    </div>\n",
              "  </div>\n",
              "  "
            ]
          },
          "metadata": {},
          "execution_count": 85
        }
      ]
    },
    {
      "cell_type": "code",
      "source": [
        "# unique values of body\n",
        "df['body'].unique()"
      ],
      "metadata": {
        "id": "fs6cKzLts-DI",
        "outputId": "98002432-ac1b-4e46-b373-b00d1ccc94ca",
        "colab": {
          "base_uri": "https://localhost:8080/"
        }
      },
      "execution_count": 89,
      "outputs": [
        {
          "output_type": "execute_result",
          "data": {
            "text/plain": [
              "array(['Sedan', 'SUV', 'Minivan', 'pickup trucks', 'Wagon', 'Coupe',\n",
              "       'Convertible', 'Hatchback'], dtype=object)"
            ]
          },
          "metadata": {},
          "execution_count": 89
        }
      ]
    },
    {
      "cell_type": "code",
      "source": [
        "#Resolving inconsistencies in categorical columns\n",
        "#function get dumies"
      ],
      "metadata": {
        "colab": {
          "base_uri": "https://localhost:8080/",
          "height": 815
        },
        "id": "0N8LiN5pID1O",
        "outputId": "c2b64055-2b0c-48c8-a664-ae3e37b67b23"
      },
      "execution_count": 45,
      "outputs": [
        {
          "output_type": "execute_result",
          "data": {
            "text/plain": [
              "       year      make         model         trim          body transmission  \\\n",
              "0      2013   Hyundai        Sonata          GLS         Sedan    automatic   \n",
              "1      2014    Toyota       4Runner          SR5           Suv    automatic   \n",
              "2      2012     Lexus        IS 250         Base         Sedan    automatic   \n",
              "3      2002       BMW            X5         4.4i           Suv    automatic   \n",
              "4      2014      Ford  E-Series Van        E-250  E-series van    automatic   \n",
              "...     ...       ...           ...          ...           ...          ...   \n",
              "46573  2013      Ford          Edge           SE           Suv    automatic   \n",
              "46574  2012  Infiniti       G Sedan  G37 Journey       G sedan    automatic   \n",
              "46575  2013       BMW      3 Series         328i         Sedan    automatic   \n",
              "46576  2013    Toyota         Camry           LE         Sedan    automatic   \n",
              "46577  2013       Kia           Rio           LX         Sedan    automatic   \n",
              "\n",
              "                     vin state  condition  odometer   color interior  \\\n",
              "0      5npeb4acxdh702805    ma        3.9   50404.0   black     gray   \n",
              "1      jtezu5jr2e5064567    fl        4.9   17846.0    gray        —   \n",
              "2      jthbf5c24c5168599    fl        4.1   21122.0  silver    black   \n",
              "3      5uxfb33562lh33864    fl        1.9  145303.0   black    black   \n",
              "4      1ftne2ew0eda31832    wa        4.9    6714.0   white     gray   \n",
              "...                  ...   ...        ...       ...     ...      ...   \n",
              "46573  2fmdk4gc2dbc03247    va        3.5   52844.0       —     gray   \n",
              "46574  jn1cv6ap9cm623162    ca        4.5   23185.0   black    black   \n",
              "46575  wba3a5c56df356614    tx        4.2   45357.0   white    beige   \n",
              "46576  4t1bf1fk8du254684    ca        3.5   43376.0   black    beige   \n",
              "46577  knadm4a32d6164825    ga        4.1   49953.0  silver    black   \n",
              "\n",
              "                                 seller      mmr  sellingprice  \\\n",
              "0                 the hertz corporation  11000.0       10900.0   \n",
              "1      award auto sales and leasing inc  28700.0       29900.0   \n",
              "2              lexus financial services  22200.0       24200.0   \n",
              "3                            peddle llc   3675.0        3200.0   \n",
              "4                                u-haul  22500.0       22100.0   \n",
              "...                                 ...      ...           ...   \n",
              "46573               wheels exchange llc  15650.0       17000.0   \n",
              "46574                nissan infiniti lt  19350.0       21500.0   \n",
              "46575          motorcars of south texas  22200.0       22000.0   \n",
              "46576              avis rac/san leandro  13400.0       13800.0   \n",
              "46577                kia motors finance   9700.0        9300.0   \n",
              "\n",
              "                                      saledate  \n",
              "0      Tue Jun 02 2015 02:30:00 GMT-0700 (PDT)  \n",
              "1      Wed Feb 18 2015 07:15:00 GMT-0800 (PST)  \n",
              "2      Tue Jan 20 2015 01:30:00 GMT-0800 (PST)  \n",
              "3      Wed Mar 04 2015 07:10:00 GMT-0800 (PST)  \n",
              "4      Wed Feb 18 2015 06:45:00 GMT-0800 (PST)  \n",
              "...                                        ...  \n",
              "46573  Wed Jan 07 2015 09:30:00 GMT-0800 (PST)  \n",
              "46574  Thu Jun 18 2015 05:30:00 GMT-0700 (PDT)  \n",
              "46575  Wed Feb 18 2015 02:00:00 GMT-0800 (PST)  \n",
              "46576  Wed Jan 14 2015 04:30:00 GMT-0800 (PST)  \n",
              "46577  Thu Dec 18 2014 10:00:00 GMT-0800 (PST)  \n",
              "\n",
              "[46578 rows x 16 columns]"
            ],
            "text/html": [
              "\n",
              "  <div id=\"df-320d8115-7f52-4687-bb3d-dd32bbafa1ef\">\n",
              "    <div class=\"colab-df-container\">\n",
              "      <div>\n",
              "<style scoped>\n",
              "    .dataframe tbody tr th:only-of-type {\n",
              "        vertical-align: middle;\n",
              "    }\n",
              "\n",
              "    .dataframe tbody tr th {\n",
              "        vertical-align: top;\n",
              "    }\n",
              "\n",
              "    .dataframe thead th {\n",
              "        text-align: right;\n",
              "    }\n",
              "</style>\n",
              "<table border=\"1\" class=\"dataframe\">\n",
              "  <thead>\n",
              "    <tr style=\"text-align: right;\">\n",
              "      <th></th>\n",
              "      <th>year</th>\n",
              "      <th>make</th>\n",
              "      <th>model</th>\n",
              "      <th>trim</th>\n",
              "      <th>body</th>\n",
              "      <th>transmission</th>\n",
              "      <th>vin</th>\n",
              "      <th>state</th>\n",
              "      <th>condition</th>\n",
              "      <th>odometer</th>\n",
              "      <th>color</th>\n",
              "      <th>interior</th>\n",
              "      <th>seller</th>\n",
              "      <th>mmr</th>\n",
              "      <th>sellingprice</th>\n",
              "      <th>saledate</th>\n",
              "    </tr>\n",
              "  </thead>\n",
              "  <tbody>\n",
              "    <tr>\n",
              "      <th>0</th>\n",
              "      <td>2013</td>\n",
              "      <td>Hyundai</td>\n",
              "      <td>Sonata</td>\n",
              "      <td>GLS</td>\n",
              "      <td>Sedan</td>\n",
              "      <td>automatic</td>\n",
              "      <td>5npeb4acxdh702805</td>\n",
              "      <td>ma</td>\n",
              "      <td>3.9</td>\n",
              "      <td>50404.0</td>\n",
              "      <td>black</td>\n",
              "      <td>gray</td>\n",
              "      <td>the hertz corporation</td>\n",
              "      <td>11000.0</td>\n",
              "      <td>10900.0</td>\n",
              "      <td>Tue Jun 02 2015 02:30:00 GMT-0700 (PDT)</td>\n",
              "    </tr>\n",
              "    <tr>\n",
              "      <th>1</th>\n",
              "      <td>2014</td>\n",
              "      <td>Toyota</td>\n",
              "      <td>4Runner</td>\n",
              "      <td>SR5</td>\n",
              "      <td>Suv</td>\n",
              "      <td>automatic</td>\n",
              "      <td>jtezu5jr2e5064567</td>\n",
              "      <td>fl</td>\n",
              "      <td>4.9</td>\n",
              "      <td>17846.0</td>\n",
              "      <td>gray</td>\n",
              "      <td>—</td>\n",
              "      <td>award auto sales and leasing inc</td>\n",
              "      <td>28700.0</td>\n",
              "      <td>29900.0</td>\n",
              "      <td>Wed Feb 18 2015 07:15:00 GMT-0800 (PST)</td>\n",
              "    </tr>\n",
              "    <tr>\n",
              "      <th>2</th>\n",
              "      <td>2012</td>\n",
              "      <td>Lexus</td>\n",
              "      <td>IS 250</td>\n",
              "      <td>Base</td>\n",
              "      <td>Sedan</td>\n",
              "      <td>automatic</td>\n",
              "      <td>jthbf5c24c5168599</td>\n",
              "      <td>fl</td>\n",
              "      <td>4.1</td>\n",
              "      <td>21122.0</td>\n",
              "      <td>silver</td>\n",
              "      <td>black</td>\n",
              "      <td>lexus financial services</td>\n",
              "      <td>22200.0</td>\n",
              "      <td>24200.0</td>\n",
              "      <td>Tue Jan 20 2015 01:30:00 GMT-0800 (PST)</td>\n",
              "    </tr>\n",
              "    <tr>\n",
              "      <th>3</th>\n",
              "      <td>2002</td>\n",
              "      <td>BMW</td>\n",
              "      <td>X5</td>\n",
              "      <td>4.4i</td>\n",
              "      <td>Suv</td>\n",
              "      <td>automatic</td>\n",
              "      <td>5uxfb33562lh33864</td>\n",
              "      <td>fl</td>\n",
              "      <td>1.9</td>\n",
              "      <td>145303.0</td>\n",
              "      <td>black</td>\n",
              "      <td>black</td>\n",
              "      <td>peddle llc</td>\n",
              "      <td>3675.0</td>\n",
              "      <td>3200.0</td>\n",
              "      <td>Wed Mar 04 2015 07:10:00 GMT-0800 (PST)</td>\n",
              "    </tr>\n",
              "    <tr>\n",
              "      <th>4</th>\n",
              "      <td>2014</td>\n",
              "      <td>Ford</td>\n",
              "      <td>E-Series Van</td>\n",
              "      <td>E-250</td>\n",
              "      <td>E-series van</td>\n",
              "      <td>automatic</td>\n",
              "      <td>1ftne2ew0eda31832</td>\n",
              "      <td>wa</td>\n",
              "      <td>4.9</td>\n",
              "      <td>6714.0</td>\n",
              "      <td>white</td>\n",
              "      <td>gray</td>\n",
              "      <td>u-haul</td>\n",
              "      <td>22500.0</td>\n",
              "      <td>22100.0</td>\n",
              "      <td>Wed Feb 18 2015 06:45:00 GMT-0800 (PST)</td>\n",
              "    </tr>\n",
              "    <tr>\n",
              "      <th>...</th>\n",
              "      <td>...</td>\n",
              "      <td>...</td>\n",
              "      <td>...</td>\n",
              "      <td>...</td>\n",
              "      <td>...</td>\n",
              "      <td>...</td>\n",
              "      <td>...</td>\n",
              "      <td>...</td>\n",
              "      <td>...</td>\n",
              "      <td>...</td>\n",
              "      <td>...</td>\n",
              "      <td>...</td>\n",
              "      <td>...</td>\n",
              "      <td>...</td>\n",
              "      <td>...</td>\n",
              "      <td>...</td>\n",
              "    </tr>\n",
              "    <tr>\n",
              "      <th>46573</th>\n",
              "      <td>2013</td>\n",
              "      <td>Ford</td>\n",
              "      <td>Edge</td>\n",
              "      <td>SE</td>\n",
              "      <td>Suv</td>\n",
              "      <td>automatic</td>\n",
              "      <td>2fmdk4gc2dbc03247</td>\n",
              "      <td>va</td>\n",
              "      <td>3.5</td>\n",
              "      <td>52844.0</td>\n",
              "      <td>—</td>\n",
              "      <td>gray</td>\n",
              "      <td>wheels exchange llc</td>\n",
              "      <td>15650.0</td>\n",
              "      <td>17000.0</td>\n",
              "      <td>Wed Jan 07 2015 09:30:00 GMT-0800 (PST)</td>\n",
              "    </tr>\n",
              "    <tr>\n",
              "      <th>46574</th>\n",
              "      <td>2012</td>\n",
              "      <td>Infiniti</td>\n",
              "      <td>G Sedan</td>\n",
              "      <td>G37 Journey</td>\n",
              "      <td>G sedan</td>\n",
              "      <td>automatic</td>\n",
              "      <td>jn1cv6ap9cm623162</td>\n",
              "      <td>ca</td>\n",
              "      <td>4.5</td>\n",
              "      <td>23185.0</td>\n",
              "      <td>black</td>\n",
              "      <td>black</td>\n",
              "      <td>nissan infiniti lt</td>\n",
              "      <td>19350.0</td>\n",
              "      <td>21500.0</td>\n",
              "      <td>Thu Jun 18 2015 05:30:00 GMT-0700 (PDT)</td>\n",
              "    </tr>\n",
              "    <tr>\n",
              "      <th>46575</th>\n",
              "      <td>2013</td>\n",
              "      <td>BMW</td>\n",
              "      <td>3 Series</td>\n",
              "      <td>328i</td>\n",
              "      <td>Sedan</td>\n",
              "      <td>automatic</td>\n",
              "      <td>wba3a5c56df356614</td>\n",
              "      <td>tx</td>\n",
              "      <td>4.2</td>\n",
              "      <td>45357.0</td>\n",
              "      <td>white</td>\n",
              "      <td>beige</td>\n",
              "      <td>motorcars of south texas</td>\n",
              "      <td>22200.0</td>\n",
              "      <td>22000.0</td>\n",
              "      <td>Wed Feb 18 2015 02:00:00 GMT-0800 (PST)</td>\n",
              "    </tr>\n",
              "    <tr>\n",
              "      <th>46576</th>\n",
              "      <td>2013</td>\n",
              "      <td>Toyota</td>\n",
              "      <td>Camry</td>\n",
              "      <td>LE</td>\n",
              "      <td>Sedan</td>\n",
              "      <td>automatic</td>\n",
              "      <td>4t1bf1fk8du254684</td>\n",
              "      <td>ca</td>\n",
              "      <td>3.5</td>\n",
              "      <td>43376.0</td>\n",
              "      <td>black</td>\n",
              "      <td>beige</td>\n",
              "      <td>avis rac/san leandro</td>\n",
              "      <td>13400.0</td>\n",
              "      <td>13800.0</td>\n",
              "      <td>Wed Jan 14 2015 04:30:00 GMT-0800 (PST)</td>\n",
              "    </tr>\n",
              "    <tr>\n",
              "      <th>46577</th>\n",
              "      <td>2013</td>\n",
              "      <td>Kia</td>\n",
              "      <td>Rio</td>\n",
              "      <td>LX</td>\n",
              "      <td>Sedan</td>\n",
              "      <td>automatic</td>\n",
              "      <td>knadm4a32d6164825</td>\n",
              "      <td>ga</td>\n",
              "      <td>4.1</td>\n",
              "      <td>49953.0</td>\n",
              "      <td>silver</td>\n",
              "      <td>black</td>\n",
              "      <td>kia motors finance</td>\n",
              "      <td>9700.0</td>\n",
              "      <td>9300.0</td>\n",
              "      <td>Thu Dec 18 2014 10:00:00 GMT-0800 (PST)</td>\n",
              "    </tr>\n",
              "  </tbody>\n",
              "</table>\n",
              "<p>46578 rows × 16 columns</p>\n",
              "</div>\n",
              "      <button class=\"colab-df-convert\" onclick=\"convertToInteractive('df-320d8115-7f52-4687-bb3d-dd32bbafa1ef')\"\n",
              "              title=\"Convert this dataframe to an interactive table.\"\n",
              "              style=\"display:none;\">\n",
              "        \n",
              "  <svg xmlns=\"http://www.w3.org/2000/svg\" height=\"24px\"viewBox=\"0 0 24 24\"\n",
              "       width=\"24px\">\n",
              "    <path d=\"M0 0h24v24H0V0z\" fill=\"none\"/>\n",
              "    <path d=\"M18.56 5.44l.94 2.06.94-2.06 2.06-.94-2.06-.94-.94-2.06-.94 2.06-2.06.94zm-11 1L8.5 8.5l.94-2.06 2.06-.94-2.06-.94L8.5 2.5l-.94 2.06-2.06.94zm10 10l.94 2.06.94-2.06 2.06-.94-2.06-.94-.94-2.06-.94 2.06-2.06.94z\"/><path d=\"M17.41 7.96l-1.37-1.37c-.4-.4-.92-.59-1.43-.59-.52 0-1.04.2-1.43.59L10.3 9.45l-7.72 7.72c-.78.78-.78 2.05 0 2.83L4 21.41c.39.39.9.59 1.41.59.51 0 1.02-.2 1.41-.59l7.78-7.78 2.81-2.81c.8-.78.8-2.07 0-2.86zM5.41 20L4 18.59l7.72-7.72 1.47 1.35L5.41 20z\"/>\n",
              "  </svg>\n",
              "      </button>\n",
              "      \n",
              "  <style>\n",
              "    .colab-df-container {\n",
              "      display:flex;\n",
              "      flex-wrap:wrap;\n",
              "      gap: 12px;\n",
              "    }\n",
              "\n",
              "    .colab-df-convert {\n",
              "      background-color: #E8F0FE;\n",
              "      border: none;\n",
              "      border-radius: 50%;\n",
              "      cursor: pointer;\n",
              "      display: none;\n",
              "      fill: #1967D2;\n",
              "      height: 32px;\n",
              "      padding: 0 0 0 0;\n",
              "      width: 32px;\n",
              "    }\n",
              "\n",
              "    .colab-df-convert:hover {\n",
              "      background-color: #E2EBFA;\n",
              "      box-shadow: 0px 1px 2px rgba(60, 64, 67, 0.3), 0px 1px 3px 1px rgba(60, 64, 67, 0.15);\n",
              "      fill: #174EA6;\n",
              "    }\n",
              "\n",
              "    [theme=dark] .colab-df-convert {\n",
              "      background-color: #3B4455;\n",
              "      fill: #D2E3FC;\n",
              "    }\n",
              "\n",
              "    [theme=dark] .colab-df-convert:hover {\n",
              "      background-color: #434B5C;\n",
              "      box-shadow: 0px 1px 3px 1px rgba(0, 0, 0, 0.15);\n",
              "      filter: drop-shadow(0px 1px 2px rgba(0, 0, 0, 0.3));\n",
              "      fill: #FFFFFF;\n",
              "    }\n",
              "  </style>\n",
              "\n",
              "      <script>\n",
              "        const buttonEl =\n",
              "          document.querySelector('#df-320d8115-7f52-4687-bb3d-dd32bbafa1ef button.colab-df-convert');\n",
              "        buttonEl.style.display =\n",
              "          google.colab.kernel.accessAllowed ? 'block' : 'none';\n",
              "\n",
              "        async function convertToInteractive(key) {\n",
              "          const element = document.querySelector('#df-320d8115-7f52-4687-bb3d-dd32bbafa1ef');\n",
              "          const dataTable =\n",
              "            await google.colab.kernel.invokeFunction('convertToInteractive',\n",
              "                                                     [key], {});\n",
              "          if (!dataTable) return;\n",
              "\n",
              "          const docLinkHtml = 'Like what you see? Visit the ' +\n",
              "            '<a target=\"_blank\" href=https://colab.research.google.com/notebooks/data_table.ipynb>data table notebook</a>'\n",
              "            + ' to learn more about interactive tables.';\n",
              "          element.innerHTML = '';\n",
              "          dataTable['output_type'] = 'display_data';\n",
              "          await google.colab.output.renderOutput(dataTable, element);\n",
              "          const docLink = document.createElement('div');\n",
              "          docLink.innerHTML = docLinkHtml;\n",
              "          element.appendChild(docLink);\n",
              "        }\n",
              "      </script>\n",
              "    </div>\n",
              "  </div>\n",
              "  "
            ]
          },
          "metadata": {},
          "execution_count": 45
        }
      ]
    },
    {
      "cell_type": "markdown",
      "metadata": {
        "id": "ZMwuup3XGoe1"
      },
      "source": [
        "## Exploratory Data Analysis\n"
      ]
    },
    {
      "cell_type": "markdown",
      "metadata": {
        "id": "3sd2PGokGoe2"
      },
      "source": [
        "**Q0 (example): What is the most popular car exterior color?**\n"
      ]
    },
    {
      "cell_type": "markdown",
      "metadata": {
        "id": "VIMR2_MYGoe3"
      },
      "source": [
        "**Visualization**"
      ]
    },
    {
      "cell_type": "code",
      "execution_count": 46,
      "metadata": {
        "colab": {
          "base_uri": "https://localhost:8080/",
          "height": 378
        },
        "id": "r7JO0yYYGoe3",
        "outputId": "ad607315-9c38-4d6c-86d6-bf5c895eaaac"
      },
      "outputs": [
        {
          "output_type": "execute_result",
          "data": {
            "text/plain": [
              "<matplotlib.axes._subplots.AxesSubplot at 0x7fb78dd40890>"
            ]
          },
          "metadata": {},
          "execution_count": 46
        },
        {
          "output_type": "display_data",
          "data": {
            "text/plain": [
              "<Figure size 576x396 with 1 Axes>"
            ],
            "image/png": "[encoded data removed]"
          },
          "metadata": {}
        }
      ],
      "source": [
        "# Basic, minimal plot example\n",
        "sns.countplot(x='color', data=df)"
      ]
    },
    {
      "cell_type": "code",
      "execution_count": 47,
      "metadata": {
        "colab": {
          "base_uri": "https://localhost:8080/",
          "height": 405
        },
        "id": "U90sT9LdGoe4",
        "outputId": "ced40639-431b-40e8-c9a6-b8e1c8d12481"
      },
      "outputs": [
        {
          "output_type": "display_data",
          "data": {
            "text/plain": [
              "<Figure size 576x396 with 1 Axes>"
            ],
            "image/png": "[encoded data removed]"
          },
          "metadata": {}
        }
      ],
      "source": [
        "# Much better plot, with sorting in descending order, rotated x-axis labels for clarity, and a plot title\n",
        "# Your visualizations should be neatly presented like the example below.\n",
        "large_to_small = df.groupby('color').size().sort_values(ascending=False)\n",
        "sns.countplot(x='color', data=df, order=large_to_small.index).set(title='Most popular colors sold on the used car auction market')\n",
        "plt.xticks(rotation=90)\n",
        "plt.tight_layout()"
      ]
    },
    {
      "cell_type": "markdown",
      "metadata": {
        "id": "UMizJ_2_Goe5"
      },
      "source": [
        "**Example note:** _you need to answer using a visualization (above) and a written/text answer (below)._\n",
        "\n",
        "**Answer for Q0**: Black is the most popular exterior color of used cars sold in auctions, followed very closely by white."
      ]
    },
    {
      "cell_type": "markdown",
      "metadata": {
        "id": "Dw6HKZ6pGoe6"
      },
      "source": [
        "**Q1: What are the most popular car brands? (mention at least 3)**\n"
      ]
    },
    {
      "cell_type": "markdown",
      "metadata": {
        "id": "CqutviP1Goe6"
      },
      "source": [
        "**Visualization**"
      ]
    },
    {
      "cell_type": "code",
      "execution_count": 48,
      "metadata": {
        "colab": {
          "base_uri": "https://localhost:8080/",
          "height": 405
        },
        "id": "4AYyoBVkGoe7",
        "outputId": "0cbe375c-c22b-4f3b-e2fd-3e1ec6a519a5"
      },
      "outputs": [
        {
          "output_type": "display_data",
          "data": {
            "text/plain": [
              "<Figure size 576x396 with 1 Axes>"
            ],
            "image/png": "[encoded data removed]"
          },
          "metadata": {}
        }
      ],
      "source": [
        "large_to_small = df.groupby('make').size().sort_values(ascending=False)\n",
        "sns.countplot(x='make', data=df, order=large_to_small.index).set(title='Most popular colors sold on the used car auction market')\n",
        "plt.xticks(rotation=90)\n",
        "plt.tight_layout()"
      ]
    },
    {
      "cell_type": "markdown",
      "metadata": {
        "id": "MLdxAqniGoe7"
      },
      "source": [
        "**Answer for Q1**: Your answer here"
      ]
    },
    {
      "cell_type": "markdown",
      "metadata": {
        "id": "HYcqwiMiGoe8"
      },
      "source": [
        "**Q2: Do automatic cars, on average, sell for a higher price than manual cars?**\n"
      ]
    },
    {
      "cell_type": "markdown",
      "metadata": {
        "id": "fQBKmONCGoe8"
      },
      "source": [
        "**Visualization**"
      ]
    },
    {
      "cell_type": "code",
      "execution_count": 49,
      "metadata": {
        "colab": {
          "base_uri": "https://localhost:8080/",
          "height": 378
        },
        "id": "3avX9S8iGoe9",
        "outputId": "1a814a67-ad22-4a9c-e73a-2460cb190c1f"
      },
      "outputs": [
        {
          "output_type": "execute_result",
          "data": {
            "text/plain": [
              "<matplotlib.axes._subplots.AxesSubplot at 0x7fb78d290ed0>"
            ]
          },
          "metadata": {},
          "execution_count": 49
        },
        {
          "output_type": "display_data",
          "data": {
            "text/plain": [
              "<Figure size 576x396 with 1 Axes>"
            ],
            "image/png": "[encoded data removed]"
          },
          "metadata": {}
        }
      ],
      "source": [
        " #Draw a bar plot showing the selling price of each of the transmission categories\n",
        "sns.barplot(data=df, x=\"transmission\", y=\"sellingprice\")"
      ]
    },
    {
      "cell_type": "markdown",
      "metadata": {
        "id": "5uuIB6hPGoe9"
      },
      "source": [
        "**Answer for Q2**: Your answer here"
      ]
    },
    {
      "cell_type": "markdown",
      "metadata": {
        "id": "0HmkSupsGoe-"
      },
      "source": [
        "**Q3: Draw a box plot showing the distribution of the selling prices of each car make. Which car makes have the widest distribution of selling price (name two)? Which are the most expensive (name two)?**\n"
      ]
    },
    {
      "cell_type": "markdown",
      "metadata": {
        "id": "Kslipwy_Goe-"
      },
      "source": [
        "**Visualization**"
      ]
    },
    {
      "cell_type": "code",
      "execution_count": 50,
      "metadata": {
        "colab": {
          "base_uri": "https://localhost:8080/",
          "height": 1000
        },
        "id": "uS4unNnJGoe_",
        "outputId": "f94a5eeb-6c35-4809-d165-c5b055f0ff49"
      },
      "outputs": [
        {
          "output_type": "execute_result",
          "data": {
            "text/plain": [
              "<matplotlib.axes._subplots.AxesSubplot at 0x7fb78d140ad0>"
            ]
          },
          "metadata": {},
          "execution_count": 50
        },
        {
          "output_type": "display_data",
          "data": {
            "text/plain": [
              "<Figure size 2880x2880 with 1 Axes>"
            ],
            "image/png": "[encoded data removed]"
          },
          "metadata": {}
        }
      ],
      "source": [
        "f = plt.figure(figsize=(40,40))\n",
        "sns.boxplot(data=df, x=\"sellingprice\", y=\"make\")\n"
      ]
    },
    {
      "cell_type": "markdown",
      "metadata": {
        "id": "GPee0Ex_Goe_"
      },
      "source": [
        "**Answer for Q3**: Your answer here"
      ]
    },
    {
      "cell_type": "markdown",
      "metadata": {
        "id": "iesjx_DmGoe_"
      },
      "source": [
        "**Q4: How correlated is the odometer reading or mileage with the car's sale price? (Hint: plot a line of best fit.)**"
      ]
    },
    {
      "cell_type": "markdown",
      "metadata": {
        "id": "HnBrHGr_GofA"
      },
      "source": [
        "**Visualization**"
      ]
    },
    {
      "cell_type": "code",
      "execution_count": 51,
      "metadata": {
        "colab": {
          "base_uri": "https://localhost:8080/",
          "height": 602
        },
        "id": "2Ybqi4jiGofA",
        "outputId": "d4a7bd57-97f0-460a-c617-9125b126bf3a"
      },
      "outputs": [
        {
          "output_type": "execute_result",
          "data": {
            "text/plain": [
              "<seaborn.axisgrid.FacetGrid at 0x7fb78cec8610>"
            ]
          },
          "metadata": {},
          "execution_count": 51
        },
        {
          "output_type": "display_data",
          "data": {
            "text/plain": [
              "<Figure size 576x576 with 1 Axes>"
            ],
            "image/png": "[encoded data removed]"
          },
          "metadata": {}
        }
      ],
      "source": [
        "sns.lmplot(x='sellingprice', y='odometer', data=df, height=8)"
      ]
    },
    {
      "cell_type": "markdown",
      "metadata": {
        "id": "iKMwMeubGofA"
      },
      "source": [
        "**Answer for Q4**: strong, nigativly correlated"
      ]
    },
    {
      "cell_type": "markdown",
      "metadata": {
        "id": "rs3botjHGofA"
      },
      "source": [
        "**Q5: Likewise, how correlated is the car's condition with its sale price? (Hint: plot a line of best fit.)**"
      ]
    },
    {
      "cell_type": "markdown",
      "metadata": {
        "id": "0__HayKOGofA"
      },
      "source": [
        "**Visualization**"
      ]
    },
    {
      "cell_type": "code",
      "execution_count": 52,
      "metadata": {
        "colab": {
          "base_uri": "https://localhost:8080/",
          "height": 602
        },
        "id": "kv2Uz6n1GofA",
        "outputId": "95699b21-2d87-4f70-a16e-01cdbdda6601"
      },
      "outputs": [
        {
          "output_type": "execute_result",
          "data": {
            "text/plain": [
              "<seaborn.axisgrid.FacetGrid at 0x7fb78e642e50>"
            ]
          },
          "metadata": {},
          "execution_count": 52
        },
        {
          "output_type": "display_data",
          "data": {
            "text/plain": [
              "<Figure size 576x576 with 1 Axes>"
            ],
            "image/png": "[encoded data removed]"
          },
          "metadata": {}
        }
      ],
      "source": [
        "sns.lmplot(x='condition', y='sellingprice', data=df, height=8)"
      ]
    },
    {
      "cell_type": "markdown",
      "metadata": {
        "id": "flNS4k-bGofB"
      },
      "source": [
        "**Answer for Q5**: Your answer here"
      ]
    },
    {
      "cell_type": "markdown",
      "metadata": {
        "id": "68c-IrfrGofB"
      },
      "source": [
        "**Q6: Are there differences in the average car price due to the car's body type? If so, rank their order and state the most expensive and least expensive car body type.**"
      ]
    },
    {
      "cell_type": "markdown",
      "metadata": {
        "id": "TuWC0x4cGofB"
      },
      "source": [
        "**Visualization**"
      ]
    },
    {
      "cell_type": "code",
      "execution_count": 52,
      "metadata": {
        "id": "0XDuBVfnGofB"
      },
      "outputs": [],
      "source": []
    },
    {
      "cell_type": "markdown",
      "metadata": {
        "id": "1h3rvkQeGofB"
      },
      "source": [
        "**Answer for Q6**: Your answer here"
      ]
    },
    {
      "cell_type": "markdown",
      "metadata": {
        "id": "czcOxOBUGofC"
      },
      "source": [
        "## Data Preparation for Modelling\n",
        "\n",
        "_Apply any additional data preparation steps needed before modelling below. Show/output the changes to the dataset._"
      ]
    },
    {
      "cell_type": "code",
      "execution_count": 52,
      "metadata": {
        "id": "vA1U3KIHGofC"
      },
      "outputs": [],
      "source": []
    },
    {
      "cell_type": "markdown",
      "metadata": {
        "id": "LP6WSgQDGofC"
      },
      "source": [
        "## Modelling\n",
        "\n",
        "_Apply the linear regression model below._"
      ]
    },
    {
      "cell_type": "code",
      "execution_count": 52,
      "metadata": {
        "id": "JeD83JtxGofC"
      },
      "outputs": [],
      "source": []
    },
    {
      "cell_type": "markdown",
      "metadata": {
        "id": "pSTZwtSuGofC"
      },
      "source": [
        "## Model Evaluation\n",
        "\n",
        "_Evaluate the model you applied._"
      ]
    },
    {
      "cell_type": "code",
      "execution_count": 52,
      "metadata": {
        "id": "GfT9xE79GofC"
      },
      "outputs": [],
      "source": []
    },
    {
      "cell_type": "markdown",
      "metadata": {
        "id": "-Ia9CgigGofD"
      },
      "source": [
        "## Model Validation (Optional)\n",
        "\n",
        "_Check if the model you applied meets the necessary assumptions for the chosen model._"
      ]
    },
    {
      "cell_type": "code",
      "execution_count": 52,
      "metadata": {
        "id": "ke0cd5d9GofD"
      },
      "outputs": [],
      "source": []
    },
    {
      "cell_type": "markdown",
      "metadata": {
        "id": "5tT9kQUXGofD"
      },
      "source": [
        "## Conclusion and Recommendations\n",
        "\n",
        "Comment on the model accuracy and your findings from model evaluation and validation. State the problems (if any) and suggest possible solutions. Would you recommend this model for a used cars dealership that wants to get reliable estimates for used car prices?\n",
        "\n",
        "**Answer**: your answer here."
      ]
    }
  ],
  "metadata": {
    "kernelspec": {
      "display_name": "Python 3.8.10 64-bit (microsoft store)",
      "language": "python",
      "name": "python3"
    },
    "language_info": {
      "codemirror_mode": {
        "name": "ipython",
        "version": 3
      },
      "file_extension": ".py",
      "mimetype": "text/x-python",
      "name": "python",
      "nbconvert_exporter": "python",
      "pygments_lexer": "ipython3",
      "version": "3.8.10"
    },
    "vscode": {
      "interpreter": {
        "hash": "53838b41801d6340687d97fd6c2932a6cda47cc00efb016738355d36a9d1dd3a"
      }
    },
    "colab": {
      "provenance": []
    }
  },
  "nbformat": 4,
  "nbformat_minor": 0
}