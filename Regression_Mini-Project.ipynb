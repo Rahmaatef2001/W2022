{
  "cells": [
    {
      "cell_type": "markdown",
      "metadata": {
        "id": "view-in-github",
        "colab_type": "text"
      },
      "source": [
        "<a href=\"https://colab.research.google.com/github/Rahmaatef2001/W2022/blob/main/Regression_Mini-Project.ipynb\" target=\"_parent\"><img src=\"https://colab.research.google.com/assets/colab-badge.svg\" alt=\"Open In Colab\"/></a>"
      ]
    },
    {
      "cell_type": "markdown",
      "metadata": {
        "id": "REwVrAm0Goeg"
      },
      "source": [
        "# Linear Regression - Mini-Project 1\n"
      ]
    },
    {
      "cell_type": "markdown",
      "metadata": {
        "id": "BtqE219YGoeo"
      },
      "source": [
        "***Edit this cell with your name(s), tutorial number(s) and ID(s)***\n",
        "\n",
        "---\n",
        "\n",
        "Name: Rahma Atef Abdelhamid\n",
        "\n",
        "ID: 49-12703\n",
        "\n",
        "Tutorial: T08\n",
        "\n",
        "---\n",
        "\n",
        "Name: zahra Khaled shaker\n",
        "\n",
        "ID: 49-5956\n",
        "\n",
        "Tutorial: T08\n",
        "\n"
      ]
    },
    {
      "cell_type": "markdown",
      "metadata": {
        "id": "RqOX_S4DGoeq"
      },
      "source": [
        "## Dataset Description\n",
        "\n",
        "The dataset contains historical car auction sales prices, scraped from the outside internet sources and collected in 2015.\n",
        "\n",
        "Each row represents a sale at a used car auction. Each column is described below.\n",
        "\n",
        "| Column       | Description                                                                                          |\n",
        "| ------------ | ---------------------------------------------------------------------------------------------------- |\n",
        "| year         | Car's year of production                                                                             |\n",
        "| make         | Car make/brand                                                                                       |\n",
        "| model        | Car model                                                                                            |\n",
        "| trim         | Car's trim or grade, which specifies a car model's level of performance, features, options or extras |\n",
        "| body         | Car body type (e.g. Sedan, SUV, Coupe, etc.)                                                         |\n",
        "| transmission | Car transmission type. The mechanism that moves the power from the engine to the wheels.             |\n",
        "| vin          | Vehicle Identification Number, a unique code to identify individual motor vehicles.                  |\n",
        "| state        | The state in which the car was auctioned.                                                            |\n",
        "| condition    | The condition of the cars being at the time of auction, 5 being the best score and 1 being the worst.|\n",
        "| odometer     | The distance traveled by a vehicle since being manufactured, in miles                                |\n",
        "| color        | Exterior color of the car                                                                            |\n",
        "| interior     | Interior color of the car                                                                            |\n",
        "| seller       | The seller of the car or car dealer                                                                  |\n",
        "| mmr          | Manheim\\* Market Report, the market estimated price of the cars. An indicator of wholesale prices.   |\n",
        "| sellingprice | The price a car was sold at in auction.                                                              |\n",
        "| saledate     | The date on which the car has been sold.                                                             |\n",
        "\n",
        "\\*Manheim is a company established in 1945 as a car auction company. It has grown to a very reputable company in the industry and its MMR estimate is a baseline tool for wholesale car price determination. They base their price calculations on over 10 million transaction over the past 13-month period.\n"
      ]
    },
    {
      "cell_type": "markdown",
      "metadata": {
        "id": "Gm4VWiB7Goes"
      },
      "source": [
        "## Importing Libraries \\& Dataset\n"
      ]
    },
    {
      "cell_type": "code",
      "execution_count": null,
      "metadata": {
        "colab": {
          "base_uri": "https://localhost:8080/",
          "height": 598
        },
        "id": "WLuR8yM3Goet",
        "outputId": "8bcc0f41-c6c4-4cf8-a047-f89a1024eacb"
      },
      "outputs": [
        {
          "output_type": "execute_result",
          "data": {
            "text/plain": [
              "   year     make         model   trim          body transmission  \\\n",
              "0  2013  Hyundai        Sonata    GLS         sedan    automatic   \n",
              "1  2014   Toyota       4Runner    SR5           SUV    automatic   \n",
              "2  2012    Lexus        IS 250   Base         Sedan    automatic   \n",
              "3  2002      BMW            X5   4.4i           SUV    automatic   \n",
              "4  2014     Ford  E-Series Van  E-250  E-Series Van    automatic   \n",
              "\n",
              "                 vin state  condition    odometer   color interior  \\\n",
              "0  5npeb4acxdh702805    ma        3.9   50404.0mi   black     gray   \n",
              "1  jtezu5jr2e5064567    fl        4.9   17846.0mi    gray        —   \n",
              "2  jthbf5c24c5168599    fl        4.1   21122.0mi  silver    black   \n",
              "3  5uxfb33562lh33864    fl        1.9  145303.0mi   black    black   \n",
              "4  1ftne2ew0eda31832    wa        4.9    6714.0mi   white     gray   \n",
              "\n",
              "                             seller     mmr sellingprice  \\\n",
              "0             the hertz corporation  $11000       $10900   \n",
              "1  award auto sales and leasing inc  $28700       $29900   \n",
              "2          lexus financial services  $22200       $24200   \n",
              "3                        peddle llc   $3675        $3200   \n",
              "4                            u-haul  $22500       $22100   \n",
              "\n",
              "                                  saledate  \n",
              "0  Tue Jun 02 2015 02:30:00 GMT-0700 (PDT)  \n",
              "1  Wed Feb 18 2015 07:15:00 GMT-0800 (PST)  \n",
              "2  Tue Jan 20 2015 01:30:00 GMT-0800 (PST)  \n",
              "3  Wed Mar 04 2015 07:10:00 GMT-0800 (PST)  \n",
              "4  Wed Feb 18 2015 06:45:00 GMT-0800 (PST)  "
            ],
            "text/html": [
              "\n",
              "  <div id=\"df-52709d67-5ccf-4236-9c9f-930b419126d3\">\n",
              "    <div class=\"colab-df-container\">\n",
              "      <div>\n",
              "<style scoped>\n",
              "    .dataframe tbody tr th:only-of-type {\n",
              "        vertical-align: middle;\n",
              "    }\n",
              "\n",
              "    .dataframe tbody tr th {\n",
              "        vertical-align: top;\n",
              "    }\n",
              "\n",
              "    .dataframe thead th {\n",
              "        text-align: right;\n",
              "    }\n",
              "</style>\n",
              "<table border=\"1\" class=\"dataframe\">\n",
              "  <thead>\n",
              "    <tr style=\"text-align: right;\">\n",
              "      <th></th>\n",
              "      <th>year</th>\n",
              "      <th>make</th>\n",
              "      <th>model</th>\n",
              "      <th>trim</th>\n",
              "      <th>body</th>\n",
              "      <th>transmission</th>\n",
              "      <th>vin</th>\n",
              "      <th>state</th>\n",
              "      <th>condition</th>\n",
              "      <th>odometer</th>\n",
              "      <th>color</th>\n",
              "      <th>interior</th>\n",
              "      <th>seller</th>\n",
              "      <th>mmr</th>\n",
              "      <th>sellingprice</th>\n",
              "      <th>saledate</th>\n",
              "    </tr>\n",
              "  </thead>\n",
              "  <tbody>\n",
              "    <tr>\n",
              "      <th>0</th>\n",
              "      <td>2013</td>\n",
              "      <td>Hyundai</td>\n",
              "      <td>Sonata</td>\n",
              "      <td>GLS</td>\n",
              "      <td>sedan</td>\n",
              "      <td>automatic</td>\n",
              "      <td>5npeb4acxdh702805</td>\n",
              "      <td>ma</td>\n",
              "      <td>3.9</td>\n",
              "      <td>50404.0mi</td>\n",
              "      <td>black</td>\n",
              "      <td>gray</td>\n",
              "      <td>the hertz corporation</td>\n",
              "      <td>$11000</td>\n",
              "      <td>$10900</td>\n",
              "      <td>Tue Jun 02 2015 02:30:00 GMT-0700 (PDT)</td>\n",
              "    </tr>\n",
              "    <tr>\n",
              "      <th>1</th>\n",
              "      <td>2014</td>\n",
              "      <td>Toyota</td>\n",
              "      <td>4Runner</td>\n",
              "      <td>SR5</td>\n",
              "      <td>SUV</td>\n",
              "      <td>automatic</td>\n",
              "      <td>jtezu5jr2e5064567</td>\n",
              "      <td>fl</td>\n",
              "      <td>4.9</td>\n",
              "      <td>17846.0mi</td>\n",
              "      <td>gray</td>\n",
              "      <td>—</td>\n",
              "      <td>award auto sales and leasing inc</td>\n",
              "      <td>$28700</td>\n",
              "      <td>$29900</td>\n",
              "      <td>Wed Feb 18 2015 07:15:00 GMT-0800 (PST)</td>\n",
              "    </tr>\n",
              "    <tr>\n",
              "      <th>2</th>\n",
              "      <td>2012</td>\n",
              "      <td>Lexus</td>\n",
              "      <td>IS 250</td>\n",
              "      <td>Base</td>\n",
              "      <td>Sedan</td>\n",
              "      <td>automatic</td>\n",
              "      <td>jthbf5c24c5168599</td>\n",
              "      <td>fl</td>\n",
              "      <td>4.1</td>\n",
              "      <td>21122.0mi</td>\n",
              "      <td>silver</td>\n",
              "      <td>black</td>\n",
              "      <td>lexus financial services</td>\n",
              "      <td>$22200</td>\n",
              "      <td>$24200</td>\n",
              "      <td>Tue Jan 20 2015 01:30:00 GMT-0800 (PST)</td>\n",
              "    </tr>\n",
              "    <tr>\n",
              "      <th>3</th>\n",
              "      <td>2002</td>\n",
              "      <td>BMW</td>\n",
              "      <td>X5</td>\n",
              "      <td>4.4i</td>\n",
              "      <td>SUV</td>\n",
              "      <td>automatic</td>\n",
              "      <td>5uxfb33562lh33864</td>\n",
              "      <td>fl</td>\n",
              "      <td>1.9</td>\n",
              "      <td>145303.0mi</td>\n",
              "      <td>black</td>\n",
              "      <td>black</td>\n",
              "      <td>peddle llc</td>\n",
              "      <td>$3675</td>\n",
              "      <td>$3200</td>\n",
              "      <td>Wed Mar 04 2015 07:10:00 GMT-0800 (PST)</td>\n",
              "    </tr>\n",
              "    <tr>\n",
              "      <th>4</th>\n",
              "      <td>2014</td>\n",
              "      <td>Ford</td>\n",
              "      <td>E-Series Van</td>\n",
              "      <td>E-250</td>\n",
              "      <td>E-Series Van</td>\n",
              "      <td>automatic</td>\n",
              "      <td>1ftne2ew0eda31832</td>\n",
              "      <td>wa</td>\n",
              "      <td>4.9</td>\n",
              "      <td>6714.0mi</td>\n",
              "      <td>white</td>\n",
              "      <td>gray</td>\n",
              "      <td>u-haul</td>\n",
              "      <td>$22500</td>\n",
              "      <td>$22100</td>\n",
              "      <td>Wed Feb 18 2015 06:45:00 GMT-0800 (PST)</td>\n",
              "    </tr>\n",
              "  </tbody>\n",
              "</table>\n",
              "</div>\n",
              "      <button class=\"colab-df-convert\" onclick=\"convertToInteractive('df-52709d67-5ccf-4236-9c9f-930b419126d3')\"\n",
              "              title=\"Convert this dataframe to an interactive table.\"\n",
              "              style=\"display:none;\">\n",
              "        \n",
              "  <svg xmlns=\"http://www.w3.org/2000/svg\" height=\"24px\"viewBox=\"0 0 24 24\"\n",
              "       width=\"24px\">\n",
              "    <path d=\"M0 0h24v24H0V0z\" fill=\"none\"/>\n",
              "    <path d=\"M18.56 5.44l.94 2.06.94-2.06 2.06-.94-2.06-.94-.94-2.06-.94 2.06-2.06.94zm-11 1L8.5 8.5l.94-2.06 2.06-.94-2.06-.94L8.5 2.5l-.94 2.06-2.06.94zm10 10l.94 2.06.94-2.06 2.06-.94-2.06-.94-.94-2.06-.94 2.06-2.06.94z\"/><path d=\"M17.41 7.96l-1.37-1.37c-.4-.4-.92-.59-1.43-.59-.52 0-1.04.2-1.43.59L10.3 9.45l-7.72 7.72c-.78.78-.78 2.05 0 2.83L4 21.41c.39.39.9.59 1.41.59.51 0 1.02-.2 1.41-.59l7.78-7.78 2.81-2.81c.8-.78.8-2.07 0-2.86zM5.41 20L4 18.59l7.72-7.72 1.47 1.35L5.41 20z\"/>\n",
              "  </svg>\n",
              "      </button>\n",
              "      \n",
              "  <style>\n",
              "    .colab-df-container {\n",
              "      display:flex;\n",
              "      flex-wrap:wrap;\n",
              "      gap: 12px;\n",
              "    }\n",
              "\n",
              "    .colab-df-convert {\n",
              "      background-color: #E8F0FE;\n",
              "      border: none;\n",
              "      border-radius: 50%;\n",
              "      cursor: pointer;\n",
              "      display: none;\n",
              "      fill: #1967D2;\n",
              "      height: 32px;\n",
              "      padding: 0 0 0 0;\n",
              "      width: 32px;\n",
              "    }\n",
              "\n",
              "    .colab-df-convert:hover {\n",
              "      background-color: #E2EBFA;\n",
              "      box-shadow: 0px 1px 2px rgba(60, 64, 67, 0.3), 0px 1px 3px 1px rgba(60, 64, 67, 0.15);\n",
              "      fill: #174EA6;\n",
              "    }\n",
              "\n",
              "    [theme=dark] .colab-df-convert {\n",
              "      background-color: #3B4455;\n",
              "      fill: #D2E3FC;\n",
              "    }\n",
              "\n",
              "    [theme=dark] .colab-df-convert:hover {\n",
              "      background-color: #434B5C;\n",
              "      box-shadow: 0px 1px 3px 1px rgba(0, 0, 0, 0.15);\n",
              "      filter: drop-shadow(0px 1px 2px rgba(0, 0, 0, 0.3));\n",
              "      fill: #FFFFFF;\n",
              "    }\n",
              "  </style>\n",
              "\n",
              "      <script>\n",
              "        const buttonEl =\n",
              "          document.querySelector('#df-52709d67-5ccf-4236-9c9f-930b419126d3 button.colab-df-convert');\n",
              "        buttonEl.style.display =\n",
              "          google.colab.kernel.accessAllowed ? 'block' : 'none';\n",
              "\n",
              "        async function convertToInteractive(key) {\n",
              "          const element = document.querySelector('#df-52709d67-5ccf-4236-9c9f-930b419126d3');\n",
              "          const dataTable =\n",
              "            await google.colab.kernel.invokeFunction('convertToInteractive',\n",
              "                                                     [key], {});\n",
              "          if (!dataTable) return;\n",
              "\n",
              "          const docLinkHtml = 'Like what you see? Visit the ' +\n",
              "            '<a target=\"_blank\" href=https://colab.research.google.com/notebooks/data_table.ipynb>data table notebook</a>'\n",
              "            + ' to learn more about interactive tables.';\n",
              "          element.innerHTML = '';\n",
              "          dataTable['output_type'] = 'display_data';\n",
              "          await google.colab.output.renderOutput(dataTable, element);\n",
              "          const docLink = document.createElement('div');\n",
              "          docLink.innerHTML = docLinkHtml;\n",
              "          element.appendChild(docLink);\n",
              "        }\n",
              "      </script>\n",
              "    </div>\n",
              "  </div>\n",
              "  "
            ]
          },
          "metadata": {},
          "execution_count": 2
        }
      ],
      "source": [
        "import pandas as pd\n",
        "import numpy as np\n",
        "import matplotlib.pyplot as plt\n",
        "import seaborn as sns\n",
        "\n",
        "%matplotlib inline\n",
        "plt.style.use(\"seaborn\")\n",
        "\n",
        "try:\n",
        "    df = pd.read_csv('car_prices.csv')\n",
        "except:\n",
        "    df = pd.read_csv('https://raw.githubusercontent.com/GUC-DM/W2022/main/data/car_prices.csv')\n",
        "\n",
        "df.head()"
      ]
    },
    {
      "cell_type": "markdown",
      "metadata": {
        "id": "KLFaotsUGoex"
      },
      "source": [
        "## Data Inspection\n",
        "\n",
        "Perform data inspection tasks here (recommended for data understanding)."
      ]
    },
    {
      "cell_type": "code",
      "execution_count": null,
      "metadata": {
        "colab": {
          "base_uri": "https://localhost:8080/"
        },
        "id": "M9bpX60iGoey",
        "outputId": "a1a79e06-f066-4842-8a13-046081b1b4f3"
      },
      "outputs": [
        {
          "output_type": "stream",
          "name": "stdout",
          "text": [
            "<class 'pandas.core.frame.DataFrame'>\n",
            "RangeIndex: 46578 entries, 0 to 46577\n",
            "Data columns (total 16 columns):\n",
            " #   Column        Non-Null Count  Dtype  \n",
            "---  ------        --------------  -----  \n",
            " 0   year          46578 non-null  int64  \n",
            " 1   make          46578 non-null  object \n",
            " 2   model         46578 non-null  object \n",
            " 3   trim          46578 non-null  object \n",
            " 4   body          46578 non-null  object \n",
            " 5   transmission  46578 non-null  object \n",
            " 6   vin           46578 non-null  object \n",
            " 7   state         46578 non-null  object \n",
            " 8   condition     46578 non-null  float64\n",
            " 9   odometer      46578 non-null  object \n",
            " 10  color         46578 non-null  object \n",
            " 11  interior      46578 non-null  object \n",
            " 12  seller        46578 non-null  object \n",
            " 13  mmr           46578 non-null  object \n",
            " 14  sellingprice  46578 non-null  object \n",
            " 15  saledate      46578 non-null  object \n",
            "dtypes: float64(1), int64(1), object(14)\n",
            "memory usage: 5.7+ MB\n"
          ]
        }
      ],
      "source": [
        "df.info()\n",
        "#needed to know the data type for each attribute to know which need to be changed"
      ]
    },
    {
      "cell_type": "markdown",
      "metadata": {
        "id": "zF3QHNZ-Goez"
      },
      "source": [
        "## Data Pre-Processing & Cleaning\n",
        "\n",
        "_Apply any data preprocessing and/or feature engineering below. Show/output the changes to the dataset._"
      ]
    },
    {
      "cell_type": "code",
      "execution_count": null,
      "metadata": {
        "colab": {
          "base_uri": "https://localhost:8080/",
          "height": 1000
        },
        "id": "GIWJJiqIGoe0",
        "outputId": "fe2f8e30-4b4e-42ef-cbed-4dd65d253167"
      },
      "outputs": [
        {
          "output_type": "execute_result",
          "data": {
            "text/plain": [
              "       year      make         model         trim          body transmission  \\\n",
              "0      2013   Hyundai        Sonata          GLS         sedan    automatic   \n",
              "1      2014    Toyota       4Runner          SR5           SUV    automatic   \n",
              "2      2012     Lexus        IS 250         Base         Sedan    automatic   \n",
              "3      2002       BMW            X5         4.4i           SUV    automatic   \n",
              "4      2014      Ford  E-Series Van        E-250  E-Series Van    automatic   \n",
              "...     ...       ...           ...          ...           ...          ...   \n",
              "46573  2013      Ford          Edge           SE           SUV    automatic   \n",
              "46574  2012  Infiniti       G Sedan  G37 Journey       g sedan    automatic   \n",
              "46575  2013       BMW      3 Series         328i         Sedan    automatic   \n",
              "46576  2013    Toyota         Camry           LE         Sedan    automatic   \n",
              "46577  2013       Kia           Rio           LX         Sedan    automatic   \n",
              "\n",
              "                     vin state  condition  odometer   color interior  \\\n",
              "0      5npeb4acxdh702805    ma        3.9   50404.0   black     gray   \n",
              "1      jtezu5jr2e5064567    fl        4.9   17846.0    gray        —   \n",
              "2      jthbf5c24c5168599    fl        4.1   21122.0  silver    black   \n",
              "3      5uxfb33562lh33864    fl        1.9  145303.0   black    black   \n",
              "4      1ftne2ew0eda31832    wa        4.9    6714.0   white     gray   \n",
              "...                  ...   ...        ...       ...     ...      ...   \n",
              "46573  2fmdk4gc2dbc03247    va        3.5   52844.0       —     gray   \n",
              "46574  jn1cv6ap9cm623162    ca        4.5   23185.0   black    black   \n",
              "46575  wba3a5c56df356614    tx        4.2   45357.0   white    beige   \n",
              "46576  4t1bf1fk8du254684    ca        3.5   43376.0   black    beige   \n",
              "46577  knadm4a32d6164825    ga        4.1   49953.0  silver    black   \n",
              "\n",
              "                                 seller      mmr  sellingprice  \\\n",
              "0                 the hertz corporation  11000.0       10900.0   \n",
              "1      award auto sales and leasing inc  28700.0       29900.0   \n",
              "2              lexus financial services  22200.0       24200.0   \n",
              "3                            peddle llc   3675.0        3200.0   \n",
              "4                                u-haul  22500.0       22100.0   \n",
              "...                                 ...      ...           ...   \n",
              "46573               wheels exchange llc  15650.0       17000.0   \n",
              "46574                nissan infiniti lt  19350.0       21500.0   \n",
              "46575          motorcars of south texas  22200.0       22000.0   \n",
              "46576              avis rac/san leandro  13400.0       13800.0   \n",
              "46577                kia motors finance   9700.0        9300.0   \n",
              "\n",
              "                                      saledate  \n",
              "0      Tue Jun 02 2015 02:30:00 GMT-0700 (PDT)  \n",
              "1      Wed Feb 18 2015 07:15:00 GMT-0800 (PST)  \n",
              "2      Tue Jan 20 2015 01:30:00 GMT-0800 (PST)  \n",
              "3      Wed Mar 04 2015 07:10:00 GMT-0800 (PST)  \n",
              "4      Wed Feb 18 2015 06:45:00 GMT-0800 (PST)  \n",
              "...                                        ...  \n",
              "46573  Wed Jan 07 2015 09:30:00 GMT-0800 (PST)  \n",
              "46574  Thu Jun 18 2015 05:30:00 GMT-0700 (PDT)  \n",
              "46575  Wed Feb 18 2015 02:00:00 GMT-0800 (PST)  \n",
              "46576  Wed Jan 14 2015 04:30:00 GMT-0800 (PST)  \n",
              "46577  Thu Dec 18 2014 10:00:00 GMT-0800 (PST)  \n",
              "\n",
              "[46578 rows x 16 columns]"
            ],
            "text/html": [
              "\n",
              "  <div id=\"df-ad334b1f-31b4-472a-8222-0198dd926a8a\">\n",
              "    <div class=\"colab-df-container\">\n",
              "      <div>\n",
              "<style scoped>\n",
              "    .dataframe tbody tr th:only-of-type {\n",
              "        vertical-align: middle;\n",
              "    }\n",
              "\n",
              "    .dataframe tbody tr th {\n",
              "        vertical-align: top;\n",
              "    }\n",
              "\n",
              "    .dataframe thead th {\n",
              "        text-align: right;\n",
              "    }\n",
              "</style>\n",
              "<table border=\"1\" class=\"dataframe\">\n",
              "  <thead>\n",
              "    <tr style=\"text-align: right;\">\n",
              "      <th></th>\n",
              "      <th>year</th>\n",
              "      <th>make</th>\n",
              "      <th>model</th>\n",
              "      <th>trim</th>\n",
              "      <th>body</th>\n",
              "      <th>transmission</th>\n",
              "      <th>vin</th>\n",
              "      <th>state</th>\n",
              "      <th>condition</th>\n",
              "      <th>odometer</th>\n",
              "      <th>color</th>\n",
              "      <th>interior</th>\n",
              "      <th>seller</th>\n",
              "      <th>mmr</th>\n",
              "      <th>sellingprice</th>\n",
              "      <th>saledate</th>\n",
              "    </tr>\n",
              "  </thead>\n",
              "  <tbody>\n",
              "    <tr>\n",
              "      <th>0</th>\n",
              "      <td>2013</td>\n",
              "      <td>Hyundai</td>\n",
              "      <td>Sonata</td>\n",
              "      <td>GLS</td>\n",
              "      <td>sedan</td>\n",
              "      <td>automatic</td>\n",
              "      <td>5npeb4acxdh702805</td>\n",
              "      <td>ma</td>\n",
              "      <td>3.9</td>\n",
              "      <td>50404.0</td>\n",
              "      <td>black</td>\n",
              "      <td>gray</td>\n",
              "      <td>the hertz corporation</td>\n",
              "      <td>11000.0</td>\n",
              "      <td>10900.0</td>\n",
              "      <td>Tue Jun 02 2015 02:30:00 GMT-0700 (PDT)</td>\n",
              "    </tr>\n",
              "    <tr>\n",
              "      <th>1</th>\n",
              "      <td>2014</td>\n",
              "      <td>Toyota</td>\n",
              "      <td>4Runner</td>\n",
              "      <td>SR5</td>\n",
              "      <td>SUV</td>\n",
              "      <td>automatic</td>\n",
              "      <td>jtezu5jr2e5064567</td>\n",
              "      <td>fl</td>\n",
              "      <td>4.9</td>\n",
              "      <td>17846.0</td>\n",
              "      <td>gray</td>\n",
              "      <td>—</td>\n",
              "      <td>award auto sales and leasing inc</td>\n",
              "      <td>28700.0</td>\n",
              "      <td>29900.0</td>\n",
              "      <td>Wed Feb 18 2015 07:15:00 GMT-0800 (PST)</td>\n",
              "    </tr>\n",
              "    <tr>\n",
              "      <th>2</th>\n",
              "      <td>2012</td>\n",
              "      <td>Lexus</td>\n",
              "      <td>IS 250</td>\n",
              "      <td>Base</td>\n",
              "      <td>Sedan</td>\n",
              "      <td>automatic</td>\n",
              "      <td>jthbf5c24c5168599</td>\n",
              "      <td>fl</td>\n",
              "      <td>4.1</td>\n",
              "      <td>21122.0</td>\n",
              "      <td>silver</td>\n",
              "      <td>black</td>\n",
              "      <td>lexus financial services</td>\n",
              "      <td>22200.0</td>\n",
              "      <td>24200.0</td>\n",
              "      <td>Tue Jan 20 2015 01:30:00 GMT-0800 (PST)</td>\n",
              "    </tr>\n",
              "    <tr>\n",
              "      <th>3</th>\n",
              "      <td>2002</td>\n",
              "      <td>BMW</td>\n",
              "      <td>X5</td>\n",
              "      <td>4.4i</td>\n",
              "      <td>SUV</td>\n",
              "      <td>automatic</td>\n",
              "      <td>5uxfb33562lh33864</td>\n",
              "      <td>fl</td>\n",
              "      <td>1.9</td>\n",
              "      <td>145303.0</td>\n",
              "      <td>black</td>\n",
              "      <td>black</td>\n",
              "      <td>peddle llc</td>\n",
              "      <td>3675.0</td>\n",
              "      <td>3200.0</td>\n",
              "      <td>Wed Mar 04 2015 07:10:00 GMT-0800 (PST)</td>\n",
              "    </tr>\n",
              "    <tr>\n",
              "      <th>4</th>\n",
              "      <td>2014</td>\n",
              "      <td>Ford</td>\n",
              "      <td>E-Series Van</td>\n",
              "      <td>E-250</td>\n",
              "      <td>E-Series Van</td>\n",
              "      <td>automatic</td>\n",
              "      <td>1ftne2ew0eda31832</td>\n",
              "      <td>wa</td>\n",
              "      <td>4.9</td>\n",
              "      <td>6714.0</td>\n",
              "      <td>white</td>\n",
              "      <td>gray</td>\n",
              "      <td>u-haul</td>\n",
              "      <td>22500.0</td>\n",
              "      <td>22100.0</td>\n",
              "      <td>Wed Feb 18 2015 06:45:00 GMT-0800 (PST)</td>\n",
              "    </tr>\n",
              "    <tr>\n",
              "      <th>...</th>\n",
              "      <td>...</td>\n",
              "      <td>...</td>\n",
              "      <td>...</td>\n",
              "      <td>...</td>\n",
              "      <td>...</td>\n",
              "      <td>...</td>\n",
              "      <td>...</td>\n",
              "      <td>...</td>\n",
              "      <td>...</td>\n",
              "      <td>...</td>\n",
              "      <td>...</td>\n",
              "      <td>...</td>\n",
              "      <td>...</td>\n",
              "      <td>...</td>\n",
              "      <td>...</td>\n",
              "      <td>...</td>\n",
              "    </tr>\n",
              "    <tr>\n",
              "      <th>46573</th>\n",
              "      <td>2013</td>\n",
              "      <td>Ford</td>\n",
              "      <td>Edge</td>\n",
              "      <td>SE</td>\n",
              "      <td>SUV</td>\n",
              "      <td>automatic</td>\n",
              "      <td>2fmdk4gc2dbc03247</td>\n",
              "      <td>va</td>\n",
              "      <td>3.5</td>\n",
              "      <td>52844.0</td>\n",
              "      <td>—</td>\n",
              "      <td>gray</td>\n",
              "      <td>wheels exchange llc</td>\n",
              "      <td>15650.0</td>\n",
              "      <td>17000.0</td>\n",
              "      <td>Wed Jan 07 2015 09:30:00 GMT-0800 (PST)</td>\n",
              "    </tr>\n",
              "    <tr>\n",
              "      <th>46574</th>\n",
              "      <td>2012</td>\n",
              "      <td>Infiniti</td>\n",
              "      <td>G Sedan</td>\n",
              "      <td>G37 Journey</td>\n",
              "      <td>g sedan</td>\n",
              "      <td>automatic</td>\n",
              "      <td>jn1cv6ap9cm623162</td>\n",
              "      <td>ca</td>\n",
              "      <td>4.5</td>\n",
              "      <td>23185.0</td>\n",
              "      <td>black</td>\n",
              "      <td>black</td>\n",
              "      <td>nissan infiniti lt</td>\n",
              "      <td>19350.0</td>\n",
              "      <td>21500.0</td>\n",
              "      <td>Thu Jun 18 2015 05:30:00 GMT-0700 (PDT)</td>\n",
              "    </tr>\n",
              "    <tr>\n",
              "      <th>46575</th>\n",
              "      <td>2013</td>\n",
              "      <td>BMW</td>\n",
              "      <td>3 Series</td>\n",
              "      <td>328i</td>\n",
              "      <td>Sedan</td>\n",
              "      <td>automatic</td>\n",
              "      <td>wba3a5c56df356614</td>\n",
              "      <td>tx</td>\n",
              "      <td>4.2</td>\n",
              "      <td>45357.0</td>\n",
              "      <td>white</td>\n",
              "      <td>beige</td>\n",
              "      <td>motorcars of south texas</td>\n",
              "      <td>22200.0</td>\n",
              "      <td>22000.0</td>\n",
              "      <td>Wed Feb 18 2015 02:00:00 GMT-0800 (PST)</td>\n",
              "    </tr>\n",
              "    <tr>\n",
              "      <th>46576</th>\n",
              "      <td>2013</td>\n",
              "      <td>Toyota</td>\n",
              "      <td>Camry</td>\n",
              "      <td>LE</td>\n",
              "      <td>Sedan</td>\n",
              "      <td>automatic</td>\n",
              "      <td>4t1bf1fk8du254684</td>\n",
              "      <td>ca</td>\n",
              "      <td>3.5</td>\n",
              "      <td>43376.0</td>\n",
              "      <td>black</td>\n",
              "      <td>beige</td>\n",
              "      <td>avis rac/san leandro</td>\n",
              "      <td>13400.0</td>\n",
              "      <td>13800.0</td>\n",
              "      <td>Wed Jan 14 2015 04:30:00 GMT-0800 (PST)</td>\n",
              "    </tr>\n",
              "    <tr>\n",
              "      <th>46577</th>\n",
              "      <td>2013</td>\n",
              "      <td>Kia</td>\n",
              "      <td>Rio</td>\n",
              "      <td>LX</td>\n",
              "      <td>Sedan</td>\n",
              "      <td>automatic</td>\n",
              "      <td>knadm4a32d6164825</td>\n",
              "      <td>ga</td>\n",
              "      <td>4.1</td>\n",
              "      <td>49953.0</td>\n",
              "      <td>silver</td>\n",
              "      <td>black</td>\n",
              "      <td>kia motors finance</td>\n",
              "      <td>9700.0</td>\n",
              "      <td>9300.0</td>\n",
              "      <td>Thu Dec 18 2014 10:00:00 GMT-0800 (PST)</td>\n",
              "    </tr>\n",
              "  </tbody>\n",
              "</table>\n",
              "<p>46578 rows × 16 columns</p>\n",
              "</div>\n",
              "      <button class=\"colab-df-convert\" onclick=\"convertToInteractive('df-ad334b1f-31b4-472a-8222-0198dd926a8a')\"\n",
              "              title=\"Convert this dataframe to an interactive table.\"\n",
              "              style=\"display:none;\">\n",
              "        \n",
              "  <svg xmlns=\"http://www.w3.org/2000/svg\" height=\"24px\"viewBox=\"0 0 24 24\"\n",
              "       width=\"24px\">\n",
              "    <path d=\"M0 0h24v24H0V0z\" fill=\"none\"/>\n",
              "    <path d=\"M18.56 5.44l.94 2.06.94-2.06 2.06-.94-2.06-.94-.94-2.06-.94 2.06-2.06.94zm-11 1L8.5 8.5l.94-2.06 2.06-.94-2.06-.94L8.5 2.5l-.94 2.06-2.06.94zm10 10l.94 2.06.94-2.06 2.06-.94-2.06-.94-.94-2.06-.94 2.06-2.06.94z\"/><path d=\"M17.41 7.96l-1.37-1.37c-.4-.4-.92-.59-1.43-.59-.52 0-1.04.2-1.43.59L10.3 9.45l-7.72 7.72c-.78.78-.78 2.05 0 2.83L4 21.41c.39.39.9.59 1.41.59.51 0 1.02-.2 1.41-.59l7.78-7.78 2.81-2.81c.8-.78.8-2.07 0-2.86zM5.41 20L4 18.59l7.72-7.72 1.47 1.35L5.41 20z\"/>\n",
              "  </svg>\n",
              "      </button>\n",
              "      \n",
              "  <style>\n",
              "    .colab-df-container {\n",
              "      display:flex;\n",
              "      flex-wrap:wrap;\n",
              "      gap: 12px;\n",
              "    }\n",
              "\n",
              "    .colab-df-convert {\n",
              "      background-color: #E8F0FE;\n",
              "      border: none;\n",
              "      border-radius: 50%;\n",
              "      cursor: pointer;\n",
              "      display: none;\n",
              "      fill: #1967D2;\n",
              "      height: 32px;\n",
              "      padding: 0 0 0 0;\n",
              "      width: 32px;\n",
              "    }\n",
              "\n",
              "    .colab-df-convert:hover {\n",
              "      background-color: #E2EBFA;\n",
              "      box-shadow: 0px 1px 2px rgba(60, 64, 67, 0.3), 0px 1px 3px 1px rgba(60, 64, 67, 0.15);\n",
              "      fill: #174EA6;\n",
              "    }\n",
              "\n",
              "    [theme=dark] .colab-df-convert {\n",
              "      background-color: #3B4455;\n",
              "      fill: #D2E3FC;\n",
              "    }\n",
              "\n",
              "    [theme=dark] .colab-df-convert:hover {\n",
              "      background-color: #434B5C;\n",
              "      box-shadow: 0px 1px 3px 1px rgba(0, 0, 0, 0.15);\n",
              "      filter: drop-shadow(0px 1px 2px rgba(0, 0, 0, 0.3));\n",
              "      fill: #FFFFFF;\n",
              "    }\n",
              "  </style>\n",
              "\n",
              "      <script>\n",
              "        const buttonEl =\n",
              "          document.querySelector('#df-ad334b1f-31b4-472a-8222-0198dd926a8a button.colab-df-convert');\n",
              "        buttonEl.style.display =\n",
              "          google.colab.kernel.accessAllowed ? 'block' : 'none';\n",
              "\n",
              "        async function convertToInteractive(key) {\n",
              "          const element = document.querySelector('#df-ad334b1f-31b4-472a-8222-0198dd926a8a');\n",
              "          const dataTable =\n",
              "            await google.colab.kernel.invokeFunction('convertToInteractive',\n",
              "                                                     [key], {});\n",
              "          if (!dataTable) return;\n",
              "\n",
              "          const docLinkHtml = 'Like what you see? Visit the ' +\n",
              "            '<a target=\"_blank\" href=https://colab.research.google.com/notebooks/data_table.ipynb>data table notebook</a>'\n",
              "            + ' to learn more about interactive tables.';\n",
              "          element.innerHTML = '';\n",
              "          dataTable['output_type'] = 'display_data';\n",
              "          await google.colab.output.renderOutput(dataTable, element);\n",
              "          const docLink = document.createElement('div');\n",
              "          docLink.innerHTML = docLinkHtml;\n",
              "          element.appendChild(docLink);\n",
              "        }\n",
              "      </script>\n",
              "    </div>\n",
              "  </div>\n",
              "  "
            ]
          },
          "metadata": {},
          "execution_count": 4
        }
      ],
      "source": [
        "df['sellingprice'] = df['sellingprice'].str.extract('([0,-99999999999999]+)', expand=False).str.strip()\n",
        "df['mmr'] = df['mmr'].str.extract('([0,-99999999999999]+)', expand=False).str.strip()\n",
        "df['odometer'] = df['odometer'].str.extract('([0,-99999999999999]+)', expand=False).str.strip()\n",
        "df['sellingprice'] = df['sellingprice'].interpolate().astype(float)\n",
        "df['mmr'] = df['mmr'].interpolate().astype(float)\n",
        "df['odometer'] = df['odometer'].interpolate().astype(float)\n",
        "#all of the above were numaric numbers that had the datatype object do we had to type cast them but first we removied the $ sign and the mi\n",
        "df"
      ]
    },
    {
      "cell_type": "code",
      "source": [
        "temp=df['interior'].mode()[0]\n",
        "temp\n",
        "df['interior']=df['interior'].replace('—', temp)\n",
        "#we tried to clean the data from all the emaning less values and put the most commen element in the colmun\n",
        "df"
      ],
      "metadata": {
        "colab": {
          "base_uri": "https://localhost:8080/",
          "height": 1000
        },
        "id": "SrbqVtm3uGGC",
        "outputId": "bec20de8-b31e-461b-fed4-537e7b633682"
      },
      "execution_count": null,
      "outputs": [
        {
          "output_type": "execute_result",
          "data": {
            "text/plain": [
              "       year      make         model         trim          body transmission  \\\n",
              "0      2013   Hyundai        Sonata          GLS         sedan    automatic   \n",
              "1      2014    Toyota       4Runner          SR5           SUV    automatic   \n",
              "2      2012     Lexus        IS 250         Base         Sedan    automatic   \n",
              "3      2002       BMW            X5         4.4i           SUV    automatic   \n",
              "4      2014      Ford  E-Series Van        E-250  E-Series Van    automatic   \n",
              "...     ...       ...           ...          ...           ...          ...   \n",
              "46573  2013      Ford          Edge           SE           SUV    automatic   \n",
              "46574  2012  Infiniti       G Sedan  G37 Journey       g sedan    automatic   \n",
              "46575  2013       BMW      3 Series         328i         Sedan    automatic   \n",
              "46576  2013    Toyota         Camry           LE         Sedan    automatic   \n",
              "46577  2013       Kia           Rio           LX         Sedan    automatic   \n",
              "\n",
              "                     vin state  condition  odometer   color interior  \\\n",
              "0      5npeb4acxdh702805    ma        3.9   50404.0   black     gray   \n",
              "1      jtezu5jr2e5064567    fl        4.9   17846.0    gray    black   \n",
              "2      jthbf5c24c5168599    fl        4.1   21122.0  silver    black   \n",
              "3      5uxfb33562lh33864    fl        1.9  145303.0   black    black   \n",
              "4      1ftne2ew0eda31832    wa        4.9    6714.0   white     gray   \n",
              "...                  ...   ...        ...       ...     ...      ...   \n",
              "46573  2fmdk4gc2dbc03247    va        3.5   52844.0       —     gray   \n",
              "46574  jn1cv6ap9cm623162    ca        4.5   23185.0   black    black   \n",
              "46575  wba3a5c56df356614    tx        4.2   45357.0   white    beige   \n",
              "46576  4t1bf1fk8du254684    ca        3.5   43376.0   black    beige   \n",
              "46577  knadm4a32d6164825    ga        4.1   49953.0  silver    black   \n",
              "\n",
              "                                 seller      mmr  sellingprice  \\\n",
              "0                 the hertz corporation  11000.0       10900.0   \n",
              "1      award auto sales and leasing inc  28700.0       29900.0   \n",
              "2              lexus financial services  22200.0       24200.0   \n",
              "3                            peddle llc   3675.0        3200.0   \n",
              "4                                u-haul  22500.0       22100.0   \n",
              "...                                 ...      ...           ...   \n",
              "46573               wheels exchange llc  15650.0       17000.0   \n",
              "46574                nissan infiniti lt  19350.0       21500.0   \n",
              "46575          motorcars of south texas  22200.0       22000.0   \n",
              "46576              avis rac/san leandro  13400.0       13800.0   \n",
              "46577                kia motors finance   9700.0        9300.0   \n",
              "\n",
              "                                      saledate  \n",
              "0      Tue Jun 02 2015 02:30:00 GMT-0700 (PDT)  \n",
              "1      Wed Feb 18 2015 07:15:00 GMT-0800 (PST)  \n",
              "2      Tue Jan 20 2015 01:30:00 GMT-0800 (PST)  \n",
              "3      Wed Mar 04 2015 07:10:00 GMT-0800 (PST)  \n",
              "4      Wed Feb 18 2015 06:45:00 GMT-0800 (PST)  \n",
              "...                                        ...  \n",
              "46573  Wed Jan 07 2015 09:30:00 GMT-0800 (PST)  \n",
              "46574  Thu Jun 18 2015 05:30:00 GMT-0700 (PDT)  \n",
              "46575  Wed Feb 18 2015 02:00:00 GMT-0800 (PST)  \n",
              "46576  Wed Jan 14 2015 04:30:00 GMT-0800 (PST)  \n",
              "46577  Thu Dec 18 2014 10:00:00 GMT-0800 (PST)  \n",
              "\n",
              "[46578 rows x 16 columns]"
            ],
            "text/html": [
              "\n",
              "  <div id=\"df-a28af3d0-8c2c-43da-aca5-56919b0cd77f\">\n",
              "    <div class=\"colab-df-container\">\n",
              "      <div>\n",
              "<style scoped>\n",
              "    .dataframe tbody tr th:only-of-type {\n",
              "        vertical-align: middle;\n",
              "    }\n",
              "\n",
              "    .dataframe tbody tr th {\n",
              "        vertical-align: top;\n",
              "    }\n",
              "\n",
              "    .dataframe thead th {\n",
              "        text-align: right;\n",
              "    }\n",
              "</style>\n",
              "<table border=\"1\" class=\"dataframe\">\n",
              "  <thead>\n",
              "    <tr style=\"text-align: right;\">\n",
              "      <th></th>\n",
              "      <th>year</th>\n",
              "      <th>make</th>\n",
              "      <th>model</th>\n",
              "      <th>trim</th>\n",
              "      <th>body</th>\n",
              "      <th>transmission</th>\n",
              "      <th>vin</th>\n",
              "      <th>state</th>\n",
              "      <th>condition</th>\n",
              "      <th>odometer</th>\n",
              "      <th>color</th>\n",
              "      <th>interior</th>\n",
              "      <th>seller</th>\n",
              "      <th>mmr</th>\n",
              "      <th>sellingprice</th>\n",
              "      <th>saledate</th>\n",
              "    </tr>\n",
              "  </thead>\n",
              "  <tbody>\n",
              "    <tr>\n",
              "      <th>0</th>\n",
              "      <td>2013</td>\n",
              "      <td>Hyundai</td>\n",
              "      <td>Sonata</td>\n",
              "      <td>GLS</td>\n",
              "      <td>sedan</td>\n",
              "      <td>automatic</td>\n",
              "      <td>5npeb4acxdh702805</td>\n",
              "      <td>ma</td>\n",
              "      <td>3.9</td>\n",
              "      <td>50404.0</td>\n",
              "      <td>black</td>\n",
              "      <td>gray</td>\n",
              "      <td>the hertz corporation</td>\n",
              "      <td>11000.0</td>\n",
              "      <td>10900.0</td>\n",
              "      <td>Tue Jun 02 2015 02:30:00 GMT-0700 (PDT)</td>\n",
              "    </tr>\n",
              "    <tr>\n",
              "      <th>1</th>\n",
              "      <td>2014</td>\n",
              "      <td>Toyota</td>\n",
              "      <td>4Runner</td>\n",
              "      <td>SR5</td>\n",
              "      <td>SUV</td>\n",
              "      <td>automatic</td>\n",
              "      <td>jtezu5jr2e5064567</td>\n",
              "      <td>fl</td>\n",
              "      <td>4.9</td>\n",
              "      <td>17846.0</td>\n",
              "      <td>gray</td>\n",
              "      <td>black</td>\n",
              "      <td>award auto sales and leasing inc</td>\n",
              "      <td>28700.0</td>\n",
              "      <td>29900.0</td>\n",
              "      <td>Wed Feb 18 2015 07:15:00 GMT-0800 (PST)</td>\n",
              "    </tr>\n",
              "    <tr>\n",
              "      <th>2</th>\n",
              "      <td>2012</td>\n",
              "      <td>Lexus</td>\n",
              "      <td>IS 250</td>\n",
              "      <td>Base</td>\n",
              "      <td>Sedan</td>\n",
              "      <td>automatic</td>\n",
              "      <td>jthbf5c24c5168599</td>\n",
              "      <td>fl</td>\n",
              "      <td>4.1</td>\n",
              "      <td>21122.0</td>\n",
              "      <td>silver</td>\n",
              "      <td>black</td>\n",
              "      <td>lexus financial services</td>\n",
              "      <td>22200.0</td>\n",
              "      <td>24200.0</td>\n",
              "      <td>Tue Jan 20 2015 01:30:00 GMT-0800 (PST)</td>\n",
              "    </tr>\n",
              "    <tr>\n",
              "      <th>3</th>\n",
              "      <td>2002</td>\n",
              "      <td>BMW</td>\n",
              "      <td>X5</td>\n",
              "      <td>4.4i</td>\n",
              "      <td>SUV</td>\n",
              "      <td>automatic</td>\n",
              "      <td>5uxfb33562lh33864</td>\n",
              "      <td>fl</td>\n",
              "      <td>1.9</td>\n",
              "      <td>145303.0</td>\n",
              "      <td>black</td>\n",
              "      <td>black</td>\n",
              "      <td>peddle llc</td>\n",
              "      <td>3675.0</td>\n",
              "      <td>3200.0</td>\n",
              "      <td>Wed Mar 04 2015 07:10:00 GMT-0800 (PST)</td>\n",
              "    </tr>\n",
              "    <tr>\n",
              "      <th>4</th>\n",
              "      <td>2014</td>\n",
              "      <td>Ford</td>\n",
              "      <td>E-Series Van</td>\n",
              "      <td>E-250</td>\n",
              "      <td>E-Series Van</td>\n",
              "      <td>automatic</td>\n",
              "      <td>1ftne2ew0eda31832</td>\n",
              "      <td>wa</td>\n",
              "      <td>4.9</td>\n",
              "      <td>6714.0</td>\n",
              "      <td>white</td>\n",
              "      <td>gray</td>\n",
              "      <td>u-haul</td>\n",
              "      <td>22500.0</td>\n",
              "      <td>22100.0</td>\n",
              "      <td>Wed Feb 18 2015 06:45:00 GMT-0800 (PST)</td>\n",
              "    </tr>\n",
              "    <tr>\n",
              "      <th>...</th>\n",
              "      <td>...</td>\n",
              "      <td>...</td>\n",
              "      <td>...</td>\n",
              "      <td>...</td>\n",
              "      <td>...</td>\n",
              "      <td>...</td>\n",
              "      <td>...</td>\n",
              "      <td>...</td>\n",
              "      <td>...</td>\n",
              "      <td>...</td>\n",
              "      <td>...</td>\n",
              "      <td>...</td>\n",
              "      <td>...</td>\n",
              "      <td>...</td>\n",
              "      <td>...</td>\n",
              "      <td>...</td>\n",
              "    </tr>\n",
              "    <tr>\n",
              "      <th>46573</th>\n",
              "      <td>2013</td>\n",
              "      <td>Ford</td>\n",
              "      <td>Edge</td>\n",
              "      <td>SE</td>\n",
              "      <td>SUV</td>\n",
              "      <td>automatic</td>\n",
              "      <td>2fmdk4gc2dbc03247</td>\n",
              "      <td>va</td>\n",
              "      <td>3.5</td>\n",
              "      <td>52844.0</td>\n",
              "      <td>—</td>\n",
              "      <td>gray</td>\n",
              "      <td>wheels exchange llc</td>\n",
              "      <td>15650.0</td>\n",
              "      <td>17000.0</td>\n",
              "      <td>Wed Jan 07 2015 09:30:00 GMT-0800 (PST)</td>\n",
              "    </tr>\n",
              "    <tr>\n",
              "      <th>46574</th>\n",
              "      <td>2012</td>\n",
              "      <td>Infiniti</td>\n",
              "      <td>G Sedan</td>\n",
              "      <td>G37 Journey</td>\n",
              "      <td>g sedan</td>\n",
              "      <td>automatic</td>\n",
              "      <td>jn1cv6ap9cm623162</td>\n",
              "      <td>ca</td>\n",
              "      <td>4.5</td>\n",
              "      <td>23185.0</td>\n",
              "      <td>black</td>\n",
              "      <td>black</td>\n",
              "      <td>nissan infiniti lt</td>\n",
              "      <td>19350.0</td>\n",
              "      <td>21500.0</td>\n",
              "      <td>Thu Jun 18 2015 05:30:00 GMT-0700 (PDT)</td>\n",
              "    </tr>\n",
              "    <tr>\n",
              "      <th>46575</th>\n",
              "      <td>2013</td>\n",
              "      <td>BMW</td>\n",
              "      <td>3 Series</td>\n",
              "      <td>328i</td>\n",
              "      <td>Sedan</td>\n",
              "      <td>automatic</td>\n",
              "      <td>wba3a5c56df356614</td>\n",
              "      <td>tx</td>\n",
              "      <td>4.2</td>\n",
              "      <td>45357.0</td>\n",
              "      <td>white</td>\n",
              "      <td>beige</td>\n",
              "      <td>motorcars of south texas</td>\n",
              "      <td>22200.0</td>\n",
              "      <td>22000.0</td>\n",
              "      <td>Wed Feb 18 2015 02:00:00 GMT-0800 (PST)</td>\n",
              "    </tr>\n",
              "    <tr>\n",
              "      <th>46576</th>\n",
              "      <td>2013</td>\n",
              "      <td>Toyota</td>\n",
              "      <td>Camry</td>\n",
              "      <td>LE</td>\n",
              "      <td>Sedan</td>\n",
              "      <td>automatic</td>\n",
              "      <td>4t1bf1fk8du254684</td>\n",
              "      <td>ca</td>\n",
              "      <td>3.5</td>\n",
              "      <td>43376.0</td>\n",
              "      <td>black</td>\n",
              "      <td>beige</td>\n",
              "      <td>avis rac/san leandro</td>\n",
              "      <td>13400.0</td>\n",
              "      <td>13800.0</td>\n",
              "      <td>Wed Jan 14 2015 04:30:00 GMT-0800 (PST)</td>\n",
              "    </tr>\n",
              "    <tr>\n",
              "      <th>46577</th>\n",
              "      <td>2013</td>\n",
              "      <td>Kia</td>\n",
              "      <td>Rio</td>\n",
              "      <td>LX</td>\n",
              "      <td>Sedan</td>\n",
              "      <td>automatic</td>\n",
              "      <td>knadm4a32d6164825</td>\n",
              "      <td>ga</td>\n",
              "      <td>4.1</td>\n",
              "      <td>49953.0</td>\n",
              "      <td>silver</td>\n",
              "      <td>black</td>\n",
              "      <td>kia motors finance</td>\n",
              "      <td>9700.0</td>\n",
              "      <td>9300.0</td>\n",
              "      <td>Thu Dec 18 2014 10:00:00 GMT-0800 (PST)</td>\n",
              "    </tr>\n",
              "  </tbody>\n",
              "</table>\n",
              "<p>46578 rows × 16 columns</p>\n",
              "</div>\n",
              "      <button class=\"colab-df-convert\" onclick=\"convertToInteractive('df-a28af3d0-8c2c-43da-aca5-56919b0cd77f')\"\n",
              "              title=\"Convert this dataframe to an interactive table.\"\n",
              "              style=\"display:none;\">\n",
              "        \n",
              "  <svg xmlns=\"http://www.w3.org/2000/svg\" height=\"24px\"viewBox=\"0 0 24 24\"\n",
              "       width=\"24px\">\n",
              "    <path d=\"M0 0h24v24H0V0z\" fill=\"none\"/>\n",
              "    <path d=\"M18.56 5.44l.94 2.06.94-2.06 2.06-.94-2.06-.94-.94-2.06-.94 2.06-2.06.94zm-11 1L8.5 8.5l.94-2.06 2.06-.94-2.06-.94L8.5 2.5l-.94 2.06-2.06.94zm10 10l.94 2.06.94-2.06 2.06-.94-2.06-.94-.94-2.06-.94 2.06-2.06.94z\"/><path d=\"M17.41 7.96l-1.37-1.37c-.4-.4-.92-.59-1.43-.59-.52 0-1.04.2-1.43.59L10.3 9.45l-7.72 7.72c-.78.78-.78 2.05 0 2.83L4 21.41c.39.39.9.59 1.41.59.51 0 1.02-.2 1.41-.59l7.78-7.78 2.81-2.81c.8-.78.8-2.07 0-2.86zM5.41 20L4 18.59l7.72-7.72 1.47 1.35L5.41 20z\"/>\n",
              "  </svg>\n",
              "      </button>\n",
              "      \n",
              "  <style>\n",
              "    .colab-df-container {\n",
              "      display:flex;\n",
              "      flex-wrap:wrap;\n",
              "      gap: 12px;\n",
              "    }\n",
              "\n",
              "    .colab-df-convert {\n",
              "      background-color: #E8F0FE;\n",
              "      border: none;\n",
              "      border-radius: 50%;\n",
              "      cursor: pointer;\n",
              "      display: none;\n",
              "      fill: #1967D2;\n",
              "      height: 32px;\n",
              "      padding: 0 0 0 0;\n",
              "      width: 32px;\n",
              "    }\n",
              "\n",
              "    .colab-df-convert:hover {\n",
              "      background-color: #E2EBFA;\n",
              "      box-shadow: 0px 1px 2px rgba(60, 64, 67, 0.3), 0px 1px 3px 1px rgba(60, 64, 67, 0.15);\n",
              "      fill: #174EA6;\n",
              "    }\n",
              "\n",
              "    [theme=dark] .colab-df-convert {\n",
              "      background-color: #3B4455;\n",
              "      fill: #D2E3FC;\n",
              "    }\n",
              "\n",
              "    [theme=dark] .colab-df-convert:hover {\n",
              "      background-color: #434B5C;\n",
              "      box-shadow: 0px 1px 3px 1px rgba(0, 0, 0, 0.15);\n",
              "      filter: drop-shadow(0px 1px 2px rgba(0, 0, 0, 0.3));\n",
              "      fill: #FFFFFF;\n",
              "    }\n",
              "  </style>\n",
              "\n",
              "      <script>\n",
              "        const buttonEl =\n",
              "          document.querySelector('#df-a28af3d0-8c2c-43da-aca5-56919b0cd77f button.colab-df-convert');\n",
              "        buttonEl.style.display =\n",
              "          google.colab.kernel.accessAllowed ? 'block' : 'none';\n",
              "\n",
              "        async function convertToInteractive(key) {\n",
              "          const element = document.querySelector('#df-a28af3d0-8c2c-43da-aca5-56919b0cd77f');\n",
              "          const dataTable =\n",
              "            await google.colab.kernel.invokeFunction('convertToInteractive',\n",
              "                                                     [key], {});\n",
              "          if (!dataTable) return;\n",
              "\n",
              "          const docLinkHtml = 'Like what you see? Visit the ' +\n",
              "            '<a target=\"_blank\" href=https://colab.research.google.com/notebooks/data_table.ipynb>data table notebook</a>'\n",
              "            + ' to learn more about interactive tables.';\n",
              "          element.innerHTML = '';\n",
              "          dataTable['output_type'] = 'display_data';\n",
              "          await google.colab.output.renderOutput(dataTable, element);\n",
              "          const docLink = document.createElement('div');\n",
              "          docLink.innerHTML = docLinkHtml;\n",
              "          element.appendChild(docLink);\n",
              "        }\n",
              "      </script>\n",
              "    </div>\n",
              "  </div>\n",
              "  "
            ]
          },
          "metadata": {},
          "execution_count": 5
        }
      ]
    },
    {
      "cell_type": "code",
      "source": [
        "df.interior.unique()"
      ],
      "metadata": {
        "colab": {
          "base_uri": "https://localhost:8080/"
        },
        "id": "Mem7G0dm0A-K",
        "outputId": "739afcd9-4847-4ab7-8b36-bb97e01ba5ac"
      },
      "execution_count": null,
      "outputs": [
        {
          "output_type": "execute_result",
          "data": {
            "text/plain": [
              "array(['gray', 'black', 'beige', 'tan', 'red', 'blue', 'brown',\n",
              "       'off-white', 'silver', 'orange', 'purple', 'white', 'gold',\n",
              "       'burgundy', 'green', 'yellow'], dtype=object)"
            ]
          },
          "metadata": {},
          "execution_count": 6
        }
      ]
    },
    {
      "cell_type": "code",
      "source": [
        "df.color.unique()"
      ],
      "metadata": {
        "colab": {
          "base_uri": "https://localhost:8080/"
        },
        "id": "_FrM3j9s0UE4",
        "outputId": "2b9c5bcf-5957-4873-8101-d8d06760a3c6"
      },
      "execution_count": null,
      "outputs": [
        {
          "output_type": "execute_result",
          "data": {
            "text/plain": [
              "array(['black', 'gray', 'silver', 'white', 'blue', 'burgundy', 'beige',\n",
              "       'gold', 'green', 'red', 'purple', '—', 'yellow', 'brown',\n",
              "       'turquoise', 'orange', 'off-white', 'charcoal', 'pink', 'lime'],\n",
              "      dtype=object)"
            ]
          },
          "metadata": {},
          "execution_count": 7
        }
      ]
    },
    {
      "cell_type": "code",
      "source": [
        "temp=df['color'].mode()[0]\n",
        "temp\n",
        "df['color']=df['color'].replace('—', temp)\n",
        "df"
      ],
      "metadata": {
        "colab": {
          "base_uri": "https://localhost:8080/",
          "height": 1000
        },
        "id": "zmKt54psz_Kq",
        "outputId": "439ee5b1-4fe1-466d-ab7f-5445dae9e813"
      },
      "execution_count": null,
      "outputs": [
        {
          "output_type": "execute_result",
          "data": {
            "text/plain": [
              "       year      make         model         trim          body transmission  \\\n",
              "0      2013   Hyundai        Sonata          GLS         sedan    automatic   \n",
              "1      2014    Toyota       4Runner          SR5           SUV    automatic   \n",
              "2      2012     Lexus        IS 250         Base         Sedan    automatic   \n",
              "3      2002       BMW            X5         4.4i           SUV    automatic   \n",
              "4      2014      Ford  E-Series Van        E-250  E-Series Van    automatic   \n",
              "...     ...       ...           ...          ...           ...          ...   \n",
              "46573  2013      Ford          Edge           SE           SUV    automatic   \n",
              "46574  2012  Infiniti       G Sedan  G37 Journey       g sedan    automatic   \n",
              "46575  2013       BMW      3 Series         328i         Sedan    automatic   \n",
              "46576  2013    Toyota         Camry           LE         Sedan    automatic   \n",
              "46577  2013       Kia           Rio           LX         Sedan    automatic   \n",
              "\n",
              "                     vin state  condition  odometer   color interior  \\\n",
              "0      5npeb4acxdh702805    ma        3.9   50404.0   black     gray   \n",
              "1      jtezu5jr2e5064567    fl        4.9   17846.0    gray    black   \n",
              "2      jthbf5c24c5168599    fl        4.1   21122.0  silver    black   \n",
              "3      5uxfb33562lh33864    fl        1.9  145303.0   black    black   \n",
              "4      1ftne2ew0eda31832    wa        4.9    6714.0   white     gray   \n",
              "...                  ...   ...        ...       ...     ...      ...   \n",
              "46573  2fmdk4gc2dbc03247    va        3.5   52844.0   black     gray   \n",
              "46574  jn1cv6ap9cm623162    ca        4.5   23185.0   black    black   \n",
              "46575  wba3a5c56df356614    tx        4.2   45357.0   white    beige   \n",
              "46576  4t1bf1fk8du254684    ca        3.5   43376.0   black    beige   \n",
              "46577  knadm4a32d6164825    ga        4.1   49953.0  silver    black   \n",
              "\n",
              "                                 seller      mmr  sellingprice  \\\n",
              "0                 the hertz corporation  11000.0       10900.0   \n",
              "1      award auto sales and leasing inc  28700.0       29900.0   \n",
              "2              lexus financial services  22200.0       24200.0   \n",
              "3                            peddle llc   3675.0        3200.0   \n",
              "4                                u-haul  22500.0       22100.0   \n",
              "...                                 ...      ...           ...   \n",
              "46573               wheels exchange llc  15650.0       17000.0   \n",
              "46574                nissan infiniti lt  19350.0       21500.0   \n",
              "46575          motorcars of south texas  22200.0       22000.0   \n",
              "46576              avis rac/san leandro  13400.0       13800.0   \n",
              "46577                kia motors finance   9700.0        9300.0   \n",
              "\n",
              "                                      saledate  \n",
              "0      Tue Jun 02 2015 02:30:00 GMT-0700 (PDT)  \n",
              "1      Wed Feb 18 2015 07:15:00 GMT-0800 (PST)  \n",
              "2      Tue Jan 20 2015 01:30:00 GMT-0800 (PST)  \n",
              "3      Wed Mar 04 2015 07:10:00 GMT-0800 (PST)  \n",
              "4      Wed Feb 18 2015 06:45:00 GMT-0800 (PST)  \n",
              "...                                        ...  \n",
              "46573  Wed Jan 07 2015 09:30:00 GMT-0800 (PST)  \n",
              "46574  Thu Jun 18 2015 05:30:00 GMT-0700 (PDT)  \n",
              "46575  Wed Feb 18 2015 02:00:00 GMT-0800 (PST)  \n",
              "46576  Wed Jan 14 2015 04:30:00 GMT-0800 (PST)  \n",
              "46577  Thu Dec 18 2014 10:00:00 GMT-0800 (PST)  \n",
              "\n",
              "[46578 rows x 16 columns]"
            ],
            "text/html": [
              "\n",
              "  <div id=\"df-336b04d0-8430-4cff-95eb-afa580afcfdc\">\n",
              "    <div class=\"colab-df-container\">\n",
              "      <div>\n",
              "<style scoped>\n",
              "    .dataframe tbody tr th:only-of-type {\n",
              "        vertical-align: middle;\n",
              "    }\n",
              "\n",
              "    .dataframe tbody tr th {\n",
              "        vertical-align: top;\n",
              "    }\n",
              "\n",
              "    .dataframe thead th {\n",
              "        text-align: right;\n",
              "    }\n",
              "</style>\n",
              "<table border=\"1\" class=\"dataframe\">\n",
              "  <thead>\n",
              "    <tr style=\"text-align: right;\">\n",
              "      <th></th>\n",
              "      <th>year</th>\n",
              "      <th>make</th>\n",
              "      <th>model</th>\n",
              "      <th>trim</th>\n",
              "      <th>body</th>\n",
              "      <th>transmission</th>\n",
              "      <th>vin</th>\n",
              "      <th>state</th>\n",
              "      <th>condition</th>\n",
              "      <th>odometer</th>\n",
              "      <th>color</th>\n",
              "      <th>interior</th>\n",
              "      <th>seller</th>\n",
              "      <th>mmr</th>\n",
              "      <th>sellingprice</th>\n",
              "      <th>saledate</th>\n",
              "    </tr>\n",
              "  </thead>\n",
              "  <tbody>\n",
              "    <tr>\n",
              "      <th>0</th>\n",
              "      <td>2013</td>\n",
              "      <td>Hyundai</td>\n",
              "      <td>Sonata</td>\n",
              "      <td>GLS</td>\n",
              "      <td>sedan</td>\n",
              "      <td>automatic</td>\n",
              "      <td>5npeb4acxdh702805</td>\n",
              "      <td>ma</td>\n",
              "      <td>3.9</td>\n",
              "      <td>50404.0</td>\n",
              "      <td>black</td>\n",
              "      <td>gray</td>\n",
              "      <td>the hertz corporation</td>\n",
              "      <td>11000.0</td>\n",
              "      <td>10900.0</td>\n",
              "      <td>Tue Jun 02 2015 02:30:00 GMT-0700 (PDT)</td>\n",
              "    </tr>\n",
              "    <tr>\n",
              "      <th>1</th>\n",
              "      <td>2014</td>\n",
              "      <td>Toyota</td>\n",
              "      <td>4Runner</td>\n",
              "      <td>SR5</td>\n",
              "      <td>SUV</td>\n",
              "      <td>automatic</td>\n",
              "      <td>jtezu5jr2e5064567</td>\n",
              "      <td>fl</td>\n",
              "      <td>4.9</td>\n",
              "      <td>17846.0</td>\n",
              "      <td>gray</td>\n",
              "      <td>black</td>\n",
              "      <td>award auto sales and leasing inc</td>\n",
              "      <td>28700.0</td>\n",
              "      <td>29900.0</td>\n",
              "      <td>Wed Feb 18 2015 07:15:00 GMT-0800 (PST)</td>\n",
              "    </tr>\n",
              "    <tr>\n",
              "      <th>2</th>\n",
              "      <td>2012</td>\n",
              "      <td>Lexus</td>\n",
              "      <td>IS 250</td>\n",
              "      <td>Base</td>\n",
              "      <td>Sedan</td>\n",
              "      <td>automatic</td>\n",
              "      <td>jthbf5c24c5168599</td>\n",
              "      <td>fl</td>\n",
              "      <td>4.1</td>\n",
              "      <td>21122.0</td>\n",
              "      <td>silver</td>\n",
              "      <td>black</td>\n",
              "      <td>lexus financial services</td>\n",
              "      <td>22200.0</td>\n",
              "      <td>24200.0</td>\n",
              "      <td>Tue Jan 20 2015 01:30:00 GMT-0800 (PST)</td>\n",
              "    </tr>\n",
              "    <tr>\n",
              "      <th>3</th>\n",
              "      <td>2002</td>\n",
              "      <td>BMW</td>\n",
              "      <td>X5</td>\n",
              "      <td>4.4i</td>\n",
              "      <td>SUV</td>\n",
              "      <td>automatic</td>\n",
              "      <td>5uxfb33562lh33864</td>\n",
              "      <td>fl</td>\n",
              "      <td>1.9</td>\n",
              "      <td>145303.0</td>\n",
              "      <td>black</td>\n",
              "      <td>black</td>\n",
              "      <td>peddle llc</td>\n",
              "      <td>3675.0</td>\n",
              "      <td>3200.0</td>\n",
              "      <td>Wed Mar 04 2015 07:10:00 GMT-0800 (PST)</td>\n",
              "    </tr>\n",
              "    <tr>\n",
              "      <th>4</th>\n",
              "      <td>2014</td>\n",
              "      <td>Ford</td>\n",
              "      <td>E-Series Van</td>\n",
              "      <td>E-250</td>\n",
              "      <td>E-Series Van</td>\n",
              "      <td>automatic</td>\n",
              "      <td>1ftne2ew0eda31832</td>\n",
              "      <td>wa</td>\n",
              "      <td>4.9</td>\n",
              "      <td>6714.0</td>\n",
              "      <td>white</td>\n",
              "      <td>gray</td>\n",
              "      <td>u-haul</td>\n",
              "      <td>22500.0</td>\n",
              "      <td>22100.0</td>\n",
              "      <td>Wed Feb 18 2015 06:45:00 GMT-0800 (PST)</td>\n",
              "    </tr>\n",
              "    <tr>\n",
              "      <th>...</th>\n",
              "      <td>...</td>\n",
              "      <td>...</td>\n",
              "      <td>...</td>\n",
              "      <td>...</td>\n",
              "      <td>...</td>\n",
              "      <td>...</td>\n",
              "      <td>...</td>\n",
              "      <td>...</td>\n",
              "      <td>...</td>\n",
              "      <td>...</td>\n",
              "      <td>...</td>\n",
              "      <td>...</td>\n",
              "      <td>...</td>\n",
              "      <td>...</td>\n",
              "      <td>...</td>\n",
              "      <td>...</td>\n",
              "    </tr>\n",
              "    <tr>\n",
              "      <th>46573</th>\n",
              "      <td>2013</td>\n",
              "      <td>Ford</td>\n",
              "      <td>Edge</td>\n",
              "      <td>SE</td>\n",
              "      <td>SUV</td>\n",
              "      <td>automatic</td>\n",
              "      <td>2fmdk4gc2dbc03247</td>\n",
              "      <td>va</td>\n",
              "      <td>3.5</td>\n",
              "      <td>52844.0</td>\n",
              "      <td>black</td>\n",
              "      <td>gray</td>\n",
              "      <td>wheels exchange llc</td>\n",
              "      <td>15650.0</td>\n",
              "      <td>17000.0</td>\n",
              "      <td>Wed Jan 07 2015 09:30:00 GMT-0800 (PST)</td>\n",
              "    </tr>\n",
              "    <tr>\n",
              "      <th>46574</th>\n",
              "      <td>2012</td>\n",
              "      <td>Infiniti</td>\n",
              "      <td>G Sedan</td>\n",
              "      <td>G37 Journey</td>\n",
              "      <td>g sedan</td>\n",
              "      <td>automatic</td>\n",
              "      <td>jn1cv6ap9cm623162</td>\n",
              "      <td>ca</td>\n",
              "      <td>4.5</td>\n",
              "      <td>23185.0</td>\n",
              "      <td>black</td>\n",
              "      <td>black</td>\n",
              "      <td>nissan infiniti lt</td>\n",
              "      <td>19350.0</td>\n",
              "      <td>21500.0</td>\n",
              "      <td>Thu Jun 18 2015 05:30:00 GMT-0700 (PDT)</td>\n",
              "    </tr>\n",
              "    <tr>\n",
              "      <th>46575</th>\n",
              "      <td>2013</td>\n",
              "      <td>BMW</td>\n",
              "      <td>3 Series</td>\n",
              "      <td>328i</td>\n",
              "      <td>Sedan</td>\n",
              "      <td>automatic</td>\n",
              "      <td>wba3a5c56df356614</td>\n",
              "      <td>tx</td>\n",
              "      <td>4.2</td>\n",
              "      <td>45357.0</td>\n",
              "      <td>white</td>\n",
              "      <td>beige</td>\n",
              "      <td>motorcars of south texas</td>\n",
              "      <td>22200.0</td>\n",
              "      <td>22000.0</td>\n",
              "      <td>Wed Feb 18 2015 02:00:00 GMT-0800 (PST)</td>\n",
              "    </tr>\n",
              "    <tr>\n",
              "      <th>46576</th>\n",
              "      <td>2013</td>\n",
              "      <td>Toyota</td>\n",
              "      <td>Camry</td>\n",
              "      <td>LE</td>\n",
              "      <td>Sedan</td>\n",
              "      <td>automatic</td>\n",
              "      <td>4t1bf1fk8du254684</td>\n",
              "      <td>ca</td>\n",
              "      <td>3.5</td>\n",
              "      <td>43376.0</td>\n",
              "      <td>black</td>\n",
              "      <td>beige</td>\n",
              "      <td>avis rac/san leandro</td>\n",
              "      <td>13400.0</td>\n",
              "      <td>13800.0</td>\n",
              "      <td>Wed Jan 14 2015 04:30:00 GMT-0800 (PST)</td>\n",
              "    </tr>\n",
              "    <tr>\n",
              "      <th>46577</th>\n",
              "      <td>2013</td>\n",
              "      <td>Kia</td>\n",
              "      <td>Rio</td>\n",
              "      <td>LX</td>\n",
              "      <td>Sedan</td>\n",
              "      <td>automatic</td>\n",
              "      <td>knadm4a32d6164825</td>\n",
              "      <td>ga</td>\n",
              "      <td>4.1</td>\n",
              "      <td>49953.0</td>\n",
              "      <td>silver</td>\n",
              "      <td>black</td>\n",
              "      <td>kia motors finance</td>\n",
              "      <td>9700.0</td>\n",
              "      <td>9300.0</td>\n",
              "      <td>Thu Dec 18 2014 10:00:00 GMT-0800 (PST)</td>\n",
              "    </tr>\n",
              "  </tbody>\n",
              "</table>\n",
              "<p>46578 rows × 16 columns</p>\n",
              "</div>\n",
              "      <button class=\"colab-df-convert\" onclick=\"convertToInteractive('df-336b04d0-8430-4cff-95eb-afa580afcfdc')\"\n",
              "              title=\"Convert this dataframe to an interactive table.\"\n",
              "              style=\"display:none;\">\n",
              "        \n",
              "  <svg xmlns=\"http://www.w3.org/2000/svg\" height=\"24px\"viewBox=\"0 0 24 24\"\n",
              "       width=\"24px\">\n",
              "    <path d=\"M0 0h24v24H0V0z\" fill=\"none\"/>\n",
              "    <path d=\"M18.56 5.44l.94 2.06.94-2.06 2.06-.94-2.06-.94-.94-2.06-.94 2.06-2.06.94zm-11 1L8.5 8.5l.94-2.06 2.06-.94-2.06-.94L8.5 2.5l-.94 2.06-2.06.94zm10 10l.94 2.06.94-2.06 2.06-.94-2.06-.94-.94-2.06-.94 2.06-2.06.94z\"/><path d=\"M17.41 7.96l-1.37-1.37c-.4-.4-.92-.59-1.43-.59-.52 0-1.04.2-1.43.59L10.3 9.45l-7.72 7.72c-.78.78-.78 2.05 0 2.83L4 21.41c.39.39.9.59 1.41.59.51 0 1.02-.2 1.41-.59l7.78-7.78 2.81-2.81c.8-.78.8-2.07 0-2.86zM5.41 20L4 18.59l7.72-7.72 1.47 1.35L5.41 20z\"/>\n",
              "  </svg>\n",
              "      </button>\n",
              "      \n",
              "  <style>\n",
              "    .colab-df-container {\n",
              "      display:flex;\n",
              "      flex-wrap:wrap;\n",
              "      gap: 12px;\n",
              "    }\n",
              "\n",
              "    .colab-df-convert {\n",
              "      background-color: #E8F0FE;\n",
              "      border: none;\n",
              "      border-radius: 50%;\n",
              "      cursor: pointer;\n",
              "      display: none;\n",
              "      fill: #1967D2;\n",
              "      height: 32px;\n",
              "      padding: 0 0 0 0;\n",
              "      width: 32px;\n",
              "    }\n",
              "\n",
              "    .colab-df-convert:hover {\n",
              "      background-color: #E2EBFA;\n",
              "      box-shadow: 0px 1px 2px rgba(60, 64, 67, 0.3), 0px 1px 3px 1px rgba(60, 64, 67, 0.15);\n",
              "      fill: #174EA6;\n",
              "    }\n",
              "\n",
              "    [theme=dark] .colab-df-convert {\n",
              "      background-color: #3B4455;\n",
              "      fill: #D2E3FC;\n",
              "    }\n",
              "\n",
              "    [theme=dark] .colab-df-convert:hover {\n",
              "      background-color: #434B5C;\n",
              "      box-shadow: 0px 1px 3px 1px rgba(0, 0, 0, 0.15);\n",
              "      filter: drop-shadow(0px 1px 2px rgba(0, 0, 0, 0.3));\n",
              "      fill: #FFFFFF;\n",
              "    }\n",
              "  </style>\n",
              "\n",
              "      <script>\n",
              "        const buttonEl =\n",
              "          document.querySelector('#df-336b04d0-8430-4cff-95eb-afa580afcfdc button.colab-df-convert');\n",
              "        buttonEl.style.display =\n",
              "          google.colab.kernel.accessAllowed ? 'block' : 'none';\n",
              "\n",
              "        async function convertToInteractive(key) {\n",
              "          const element = document.querySelector('#df-336b04d0-8430-4cff-95eb-afa580afcfdc');\n",
              "          const dataTable =\n",
              "            await google.colab.kernel.invokeFunction('convertToInteractive',\n",
              "                                                     [key], {});\n",
              "          if (!dataTable) return;\n",
              "\n",
              "          const docLinkHtml = 'Like what you see? Visit the ' +\n",
              "            '<a target=\"_blank\" href=https://colab.research.google.com/notebooks/data_table.ipynb>data table notebook</a>'\n",
              "            + ' to learn more about interactive tables.';\n",
              "          element.innerHTML = '';\n",
              "          dataTable['output_type'] = 'display_data';\n",
              "          await google.colab.output.renderOutput(dataTable, element);\n",
              "          const docLink = document.createElement('div');\n",
              "          docLink.innerHTML = docLinkHtml;\n",
              "          element.appendChild(docLink);\n",
              "        }\n",
              "      </script>\n",
              "    </div>\n",
              "  </div>\n",
              "  "
            ]
          },
          "metadata": {},
          "execution_count": 8
        }
      ]
    },
    {
      "cell_type": "code",
      "source": [
        "df.model.unique()"
      ],
      "metadata": {
        "colab": {
          "base_uri": "https://localhost:8080/"
        },
        "id": "kOUZmYVs19CU",
        "outputId": "ac6c2779-94d6-4843-a05e-2576dffa7f26"
      },
      "execution_count": null,
      "outputs": [
        {
          "output_type": "execute_result",
          "data": {
            "text/plain": [
              "array(['Sonata', '4Runner', 'IS 250', 'X5', 'E-Series Van', 'Optima',\n",
              "       'Avalanche', 'CTS', 'E-Class', 'Forte', 'Wrangler', 'G Sedan',\n",
              "       'MKS', 'Soul', 'Ranger', 'Mazda6', 'Tundra', 'PT Cruiser',\n",
              "       'Acadia', 'Mustang', 'Odyssey', 'X3', 'STS', 'F-150', 'Sienna',\n",
              "       'Liberty', 'DTS', 'Sebring', 'Nitro', 'Tacoma', 'Elantra', 'Q7',\n",
              "       'Maxima', 'Corvette', 'Grand Cherokee', 'FJ Cruiser', 'Fiesta',\n",
              "       'Genesis', 'Town and Country', 'F-350 Super Duty', 'Z4', 'Murano',\n",
              "       'Enclave', 'Altima', 'Sentra', 'R-Class', 'Sierra 1500', 'Cooper',\n",
              "       'XJ', 'Edge', 'Focus', 'Avenger', 'Civic', 'Escape', 'Camry',\n",
              "       'Encore', 'Accord', 'Sonic', 'Yukon', 'XF', 'Savana Cargo',\n",
              "       'Fusion', '200', 'Cruze', 'MKX', 'Stratus', 'S60', 'Taurus',\n",
              "       'Corolla', 'CR-V', 'Tucson', 'Charger', 'Lancer', 'Malibu',\n",
              "       'Mazda3', 'Jetta', 'Elantra GT', '3 Series', 'Leaf',\n",
              "       'Express Cargo', 'Outlander Sport', 'Venza', 'F-250 Super Duty',\n",
              "       'Versa', 'Rogue', 'Impreza WRX', 'Impala', 'Journey', 'Prius',\n",
              "       'Lucerne', 'Rio', 'TrailBlazer', 'Yaris', 'Econoline Cargo',\n",
              "       'Mirage', 'RAV4', 'Explorer', 'Cayman', '5 Series', 'Colorado',\n",
              "       'Ascender', 'Commander', 'ES 350', 'Xterra', '7 Series', 'ION',\n",
              "       'Escalade', 'G6', 'Cooper Coupe', 'Sorento', '300', 'tC', 'Volt',\n",
              "       'Durango', 'Terrain', 'Flex', 'Grand Caravan', 'Impala Limited',\n",
              "       'S-Class', 'Grand Prix', 'CX-5', 'K900', 'Matrix', 'SRX', 'TSX',\n",
              "       'Ram Pickup 1500', 'ES 300', '5 Series Gran Turismo', 'CLK-Class',\n",
              "       '2500', 'Frontier', 'MKZ', 'GS 350', 'G Convertible', 'Accent',\n",
              "       'Tahoe', 'Challenger', 'VUE', 'CX-9', 'Silverado 1500', 'Equinox',\n",
              "       'Pilot', 'M', 'Sequoia', 'Escape Hybrid', 'S40', 'SLK-Class',\n",
              "       'Suburban', 'Malibu Maxx', 'Outlander', 'CLA-Class', 'Ridgeline',\n",
              "       'New Beetle', 'Outback', 'M-Class', 'Silverado 2500HD', 'Santa Fe',\n",
              "       'LaCrosse', '1500', 'L-Series', 'Passat', 'Q5', 'RX 330',\n",
              "       'Eclipse', 'Beetle Convertible', 'Transit Connect', 'Navigator',\n",
              "       'Camaro', 'Expedition', 'MDX', 'Forester', 'Pathfinder',\n",
              "       'Grand Am', 'QX56', 'Range Rover Sport', 'Regal', 'SX4', 'Juke',\n",
              "       'Traverse', 'RX 350', 'C-Class', 'Mariner', 'Impreza',\n",
              "       'Thunderbird', 'G Coupe', '6 Series Gran Coupe', 'GS 430',\n",
              "       'Altima Hybrid', 'TL', 'xD', 'Avalon', 'Jetta GLI', 'Taurus X',\n",
              "       'Range Rover', 'Neon', 'J30', 'Cavalier', 'S-Series', 'A4',\n",
              "       'Boxster', 'Sprinter Cargo', 'GLK-Class', 'Crossfire',\n",
              "       'Santa Fe Sport', 'HHR', 'Aveo', 'Ram Pickup 2500', 'Cobalt',\n",
              "       'Armada', 'Range Rover Evoque', 'Cadenza', 'Forenza',\n",
              "       'Sierra 2500HD', 'Escalade ESV', 'Aviator', 'CC', 'Town Car', 'JX',\n",
              "       'Rogue Select', 'Highlander', 'I35', 'H2', 'RX 400h', 'Q50',\n",
              "       '3500', '350Z', 'Patriot', 'Captiva Sport', 'Pacifica', 'Compass',\n",
              "       'Mazda5', 'Fusion Hybrid', '9-3', 'Versa Note', 'CX-7',\n",
              "       'Monte Carlo', 'Aura', 'Sportage', 'Quest', 'ILX', 'Routan', 'EX',\n",
              "       'Golf', 'Veracruz', 'Millenia', 'Sedona', 'Cayenne', 'Terraza',\n",
              "       'Spectra', 'Veloster', 'FX', 'X1', 'RX 300', 'H3', '6 Series',\n",
              "       'RDX', 'Dart', 'C30', 'LS', 'XC90', 'C70', 'Freestyle', 'G35',\n",
              "       'Dakota', 'Aspen', 'Caliber', 'Cherokee', 'Cooper Clubman',\n",
              "       'E-Series Wagon', 'Tiguan', 'Endeavor', 'XV Crosstrek',\n",
              "       'Grand Marquis', 'Century', 'Silverado 3500', 'Land Cruiser', 'xB',\n",
              "       'Spark', '1 Series', 'Montero', 'Camry Hybrid', 'M3', 'X6',\n",
              "       'Rondo', 'SC 430', 'XC60', 'Element', 'NV200', 'X-Type', 'G37',\n",
              "       'Envoy XL', 'Milan', 'Cooper Countryman', 'DeVille', 'Insight',\n",
              "       'Protege', 'XL7', 'Mazda2', 'Aura Hybrid', 'Sonata Hybrid', 'Cube',\n",
              "       'M6 Gran Coupe', 'Verano', 'Tribeca', 'LS 460', 'XL-7', 'A6',\n",
              "       'Discovery Series II', 'M5', 'Lancer Evolution', 'C-Max Hybrid',\n",
              "       'TrailBlazer EXT', 'Freestar', 'Montero Sport', 'Lumina',\n",
              "       'Explorer Sport Trac', 'Crosstour', 'CL', 'QX70', 'GX 460',\n",
              "       'Accord Crosstour', 'Relay', 'Torrent', 'CL-Class', 'Mountaineer',\n",
              "       'A3', 'Tiburon', 'QX60', 'GranTurismo', 'Touareg', 'Five Hundred',\n",
              "       'M35', 'Rendezvous', 'Blazer', 'Titan', 'NV Cargo', 'GTI',\n",
              "       'Sephia', 'Malibu Classic', 'CLS-Class', 'Silverado 1500 Classic',\n",
              "       'LX 570', 'SL-Class', 'Genesis Coupe', 'Sierra 1500 Classic',\n",
              "       'Yukon XL', 'A5', 'G37 Convertible', '500', 'GL-Class', 'Amanti',\n",
              "       'MKT', 'XTS', 'C/K 1500 Series', 'Beetle', 'Legacy', 'Excursion',\n",
              "       'F-TYPE', 'G3', 'Express', 'Quattroporte', 'Montana', 'Axiom',\n",
              "       'B-Series Truck', 'Outlook', 'S80', 'Vibe', 'Jetta SportWagen',\n",
              "       '4 Series', '2 Series', 'RX 450h', 'Silverado 3500HD', '626',\n",
              "       'Canyon', 'HS 250h', 'S2000', 'iQ', 'IS 350', 'Yukon Hybrid',\n",
              "       'Prizm', 'Envoy', 'Rodeo', 'FX35', 'Firebird', 'Fit', 'ES 330',\n",
              "       'Jimmy', 'LS 430', 'Promaster Cargo Van', 'V50', 'Sky',\n",
              "       'Highlander Hybrid', 'Bonneville', 'Eos', 'QX80', '500L',\n",
              "       'Eldorado', 'XJ-Series', 'ATS', 'Marauder', 'B9 Tribeca', 'R8',\n",
              "       'Uplander', 'S5', 'CT 200h', 'fortwo', 'Prius c', 'Rabbit',\n",
              "       'Eclipse Spyder', 'LR2', 'Seville', 'Mazdaspeed 3', 'S-Type',\n",
              "       'Magnum', '300M', 'FR-S', 'Fusion Energi', 'malibu', 'CR-Z',\n",
              "       'MX-5 Miata', 'BRZ', 'Concorde', 'G8', 'FX45', 'Sable', 'LeSabre',\n",
              "       'Macan', '3 Series Gran Turismo', 'Windstar', '3', 'TT',\n",
              "       'Panamera', 'Venture', 'Catera', 'RS 5', 'Escalade EXT', 'Astra',\n",
              "       'Diamante', 'Intrigue', 'S4', 'Mazdaspeed3', 'Avalon Hybrid',\n",
              "       'Camry Solara', 'Ram Pickup 3500', 'QX', 'R32', 'Elantra Coupe',\n",
              "       'LR4', '911', 'GLI', '9-7X', 'S-10', 'Shelby GT500', 'Azera',\n",
              "       '370Z', 'Equus', 'X6 M', 'allroad quattro', 'Tahoe Hybrid',\n",
              "       'Q60 Convertible', 'Crown Victoria', 'XG350', 'XK-Series', 'Paseo',\n",
              "       'Corvette Stingray', 'Focus ST', 'Karma', 'V60', 'Escort', 'I30',\n",
              "       'A8', 'V70', 'GS 300', 'Celica', 'Cabrio', 'Intrepid', 'H2 SUT',\n",
              "       'LR3', 'F-150 Heritage', 'Ghibli', 'Galant', 'Lancer Sportback',\n",
              "       'MPV', 'Zephyr', 'Grand Vitara', 'LX 470', 'Tracker', 'Tribute',\n",
              "       'Cougar', 'Touareg 2', 'IS 250 C', 'Integra', 'Q45', 'WRX',\n",
              "       'Sunfire', 'Expedition EL', 'Murano CrossCabriolet', 'Borrego',\n",
              "       'Safari Cargo', 'Black Diamond Avalanche', 'Prius Plug-in',\n",
              "       'Entourage', 'A7', 'Golf R', 'C-Max Energi', 'Alero', 'GX 470',\n",
              "       'Mariner Hybrid', 'Passport', 'Mark LT', 'Freelander',\n",
              "       'Sierra 3500HD', 'QX4', 'XK', 'GT-R', 'Caravan', 'CTS-V', 'Baja',\n",
              "       'Prelude', 'Sprinter', 'Protege5', 'CTS Coupe', 'EX35',\n",
              "       'Sierra 3500', 'IS 350 C', 'IS F', 'GTO', 'Rainier', 'M6', 'XC70',\n",
              "       'Solstice', 'Sonoma', '9-5', 'Raider', 'CTS Wagon',\n",
              "       'GranTurismo Convertible', 'NV', 'allroad', 'Cutlass', 'Aerio',\n",
              "       'xA', 'Viper', 'Envoy XUV', 'C/V Cargo Van', 'SSR', 'L300', 'M37',\n",
              "       'ZDX', 'Astro Cargo', 'RL', 'S70', 'Explorer Sport',\n",
              "       'Continental GT', 'RC F', 'Bravada', 'IS 300', 'Aurora',\n",
              "       'Silhouette', 'TSX Sport Wagon', 'LHS', 'F-450 Super Duty', 'RLX',\n",
              "       'Cooper Paceman', 'Mystique', 'Park Avenue', 'Classic', 'Trooper',\n",
              "       'Prius v', 'Silverado 2500HD Classic', 'X5 M', 'Montego', '6',\n",
              "       'S8', 'Z3', 'Prowler', 'Silverado 1500HD', 'i-MiEV',\n",
              "       'Sierra 1500HD', 'Sierra 1500 Hybrid', 'Econoline Wagon', 'Safari',\n",
              "       'M45', 'G-Class', 'TTS', 'Malibu Hybrid', 'SS', 'GS 450h',\n",
              "       'Jetta Hybrid', 'Mazdaspeed Mazda3', 'Continental GT Speed',\n",
              "       'F430', 'Elantra Touring', 'Continental', 'RSX',\n",
              "       'Silverado 1500 Hybrid', 'G5', 'ECHO', 'Sierra 2500HD Classic',\n",
              "       'accord', 'MKZ Hybrid', 'S6', 'Contour', '190-Class', 'RS 6',\n",
              "       'Kizashi', 'LS 400', 'Tercel', 'Caprice', '850', 'CTS-V Coupe',\n",
              "       'Voyager', 'Astro', 'Q60 Coupe', 'ES 300h', 'G20', 'V40', 'i8',\n",
              "       'envoy', 'Monterey', 'Cirrus', 'H3T', '200SX', 'Escalade Hybrid',\n",
              "       'Truck', '4 Series Gran Coupe', 'E-150', 'TLX', 'STS-V', 'Tempo',\n",
              "       'Blackwood', 'V8 Vantage', 'GS 400', 'Continental GTC',\n",
              "       'Yukon Denali', 'Cutlass Supreme', 'Transit Van', 'Navigator L',\n",
              "       'Eighty-Eight', 'XG300', 'Q70', 'S7', 'Continental Flying Spur',\n",
              "       'RX-8', 'S90', 'Mark VIII', 'Transit Wagon', 'Reno',\n",
              "       'Silverado 3500 Classic'], dtype=object)"
            ]
          },
          "metadata": {},
          "execution_count": 9
        }
      ]
    },
    {
      "cell_type": "code",
      "source": [
        "df.trim.unique()"
      ],
      "metadata": {
        "colab": {
          "base_uri": "https://localhost:8080/"
        },
        "id": "Try7kSAc2G7z",
        "outputId": "4212b0f5-407b-47c4-9003-7463963553b2"
      },
      "execution_count": null,
      "outputs": [
        {
          "output_type": "execute_result",
          "data": {
            "text/plain": [
              "array(['GLS', 'SR5', 'Base', ..., 'Base PZEV', 'Natural Gas',\n",
              "       '10th Anniversary'], dtype=object)"
            ]
          },
          "metadata": {},
          "execution_count": 10
        }
      ]
    },
    {
      "cell_type": "code",
      "source": [
        "df.body.unique()"
      ],
      "metadata": {
        "colab": {
          "base_uri": "https://localhost:8080/"
        },
        "id": "iYJX5R2X3fg5",
        "outputId": "7ce1c376-0ed5-4138-d56b-e8a3acd8c16c"
      },
      "execution_count": null,
      "outputs": [
        {
          "output_type": "execute_result",
          "data": {
            "text/plain": [
              "array(['sedan', 'SUV', 'Sedan', 'E-Series Van', 'Crew Cab', 'suv',\n",
              "       'G Sedan', 'Wagon', 'Regular Cab', 'Double Cab', 'wagon', 'Coupe',\n",
              "       'Minivan', 'SuperCrew', 'coupe', 'convertible', 'Extended Cab',\n",
              "       'Hatchback', 'van', 'hatchback', 'Van', 'Convertible', 'SuperCab',\n",
              "       'g sedan', 'king cab', 'G Convertible', 'King Cab', 'extended cab',\n",
              "       'quad cab', 'supercab', 'Beetle Convertible', 'minivan', 'G Coupe',\n",
              "       'Quad Cab', 'crew cab', 'supercrew', 'CrewMax Cab', 'double cab',\n",
              "       'g coupe', 'Club Cab', 'Access Cab', 'Genesis Coupe',\n",
              "       'e-series van', 'G37 Convertible', 'Cab Plus 4', 'crewmax cab',\n",
              "       'genesis coupe', 'promaster cargo van', 'access cab', 'Mega Cab',\n",
              "       'Koup', 'regular cab', 'mega cab', 'Elantra Coupe',\n",
              "       'Q60 Convertible', 'regular-cab', 'Promaster Cargo Van', 'Xtracab',\n",
              "       'CTS Coupe', 'CTS Wagon', 'GranTurismo Convertible',\n",
              "       'beetle convertible', 'TSX Sport Wagon', 'g convertible',\n",
              "       'tsx sport wagon', 'CTS-V Coupe', 'Q60 Coupe',\n",
              "       'granturismo convertible', 'cts coupe', 'Transit Van', 'xtracab'],\n",
              "      dtype=object)"
            ]
          },
          "metadata": {},
          "execution_count": 11
        }
      ]
    },
    {
      "cell_type": "code",
      "source": [
        "df.vin.unique()"
      ],
      "metadata": {
        "colab": {
          "base_uri": "https://localhost:8080/"
        },
        "id": "0-BsfejU3l0l",
        "outputId": "a2c82c0c-cac2-47dc-b150-2614ccd355c4"
      },
      "execution_count": null,
      "outputs": [
        {
          "output_type": "execute_result",
          "data": {
            "text/plain": [
              "array(['5npeb4acxdh702805', 'jtezu5jr2e5064567', 'jthbf5c24c5168599', ...,\n",
              "       'wba3a5c56df356614', '4t1bf1fk8du254684', 'knadm4a32d6164825'],\n",
              "      dtype=object)"
            ]
          },
          "metadata": {},
          "execution_count": 12
        }
      ]
    },
    {
      "cell_type": "code",
      "source": [
        "df.state.unique()"
      ],
      "metadata": {
        "colab": {
          "base_uri": "https://localhost:8080/"
        },
        "id": "p-9MA49z3toC",
        "outputId": "3f56960d-0614-44a1-f13f-5cbe52c0ecaa"
      },
      "execution_count": null,
      "outputs": [
        {
          "output_type": "execute_result",
          "data": {
            "text/plain": [
              "array(['ma', 'fl', 'wa', 'co', 'ca', 'il', 'nv', 'mo', 'tx', 'ne', 'md',\n",
              "       'nj', 'la', 'ny', 'nc', 'ut', 'va', 'ga', 'tn', 'oh', 'ms', 'pa',\n",
              "       'or', 'mi', 'wi', 'az', 'pr', 'mn', 'in', 'hi', 'sc', 'ok', 'nm',\n",
              "       'al'], dtype=object)"
            ]
          },
          "metadata": {},
          "execution_count": 13
        }
      ]
    },
    {
      "cell_type": "code",
      "source": [
        "df.condition.unique()"
      ],
      "metadata": {
        "colab": {
          "base_uri": "https://localhost:8080/"
        },
        "id": "mpnMu2wj3zNV",
        "outputId": "a69f0dad-06d3-4385-c668-ec43d53c36cc"
      },
      "execution_count": null,
      "outputs": [
        {
          "output_type": "execute_result",
          "data": {
            "text/plain": [
              "array([3.9, 4.9, 4.1, 1.9, 4.6, 3.6, 1.7, 5. , 4.4, 2.7, 1. , 4.2, 2.5,\n",
              "       3.5, 4. , 3. , 3.1, 2.4, 4.7, 4.5, 3.3, 2.9, 3.4, 2.8, 2.1, 4.3,\n",
              "       2.3, 3.7, 3.2, 2. , 2.2, 2.6, 3.8, 4.8, 1.4, 1.6, 1.1, 1.8, 1.3,\n",
              "       1.5, 1.2])"
            ]
          },
          "metadata": {},
          "execution_count": 14
        }
      ]
    },
    {
      "cell_type": "code",
      "source": [
        "df.odometer.unique()"
      ],
      "metadata": {
        "colab": {
          "base_uri": "https://localhost:8080/"
        },
        "id": "P5X2a4po38EY",
        "outputId": "0f5f0604-4dd8-40b1-b2aa-f4c69337e6d9"
      },
      "execution_count": null,
      "outputs": [
        {
          "output_type": "execute_result",
          "data": {
            "text/plain": [
              "array([50404., 17846., 21122., ..., 45357., 43376., 49953.])"
            ]
          },
          "metadata": {},
          "execution_count": 15
        }
      ]
    },
    {
      "cell_type": "code",
      "source": [
        "df.seller.unique()"
      ],
      "metadata": {
        "colab": {
          "base_uri": "https://localhost:8080/"
        },
        "id": "Gfipj2Ie4VDE",
        "outputId": "e806117f-71c0-4f67-c9db-0cddb7022396"
      },
      "execution_count": null,
      "outputs": [
        {
          "output_type": "execute_result",
          "data": {
            "text/plain": [
              "array(['the hertz corporation', 'award auto sales and leasing inc',\n",
              "       'lexus financial services', ..., 'bmw of fresno',\n",
              "       'my mint car corp', 'carter federal credit union'], dtype=object)"
            ]
          },
          "metadata": {},
          "execution_count": 16
        }
      ]
    },
    {
      "cell_type": "code",
      "source": [
        "df.mmr.unique()"
      ],
      "metadata": {
        "colab": {
          "base_uri": "https://localhost:8080/"
        },
        "id": "ljt7gyfr4aWx",
        "outputId": "9ab81686-4807-4b55-ddf1-ecd6e0a852e2"
      },
      "execution_count": null,
      "outputs": [
        {
          "output_type": "execute_result",
          "data": {
            "text/plain": [
              "array([11000., 28700., 22200., ..., 51500., 57900., 94000.])"
            ]
          },
          "metadata": {},
          "execution_count": 17
        }
      ]
    },
    {
      "cell_type": "code",
      "source": [
        "df.sellingprice.unique()"
      ],
      "metadata": {
        "colab": {
          "base_uri": "https://localhost:8080/"
        },
        "id": "v7YXKOIH4iOY",
        "outputId": "c6c90f36-c72b-406e-bb60-8600f46e8894"
      },
      "execution_count": null,
      "outputs": [
        {
          "output_type": "execute_result",
          "data": {
            "text/plain": [
              "array([1.0900e+04, 2.9900e+04, 2.4200e+04, 3.2000e+03, 2.2100e+04,\n",
              "       1.5500e+04, 1.3600e+04, 1.4700e+04, 2.0000e+04, 2.7500e+04,\n",
              "       2.2250e+04, 2.3700e+04, 1.2000e+04, 3.7000e+03, 5.5000e+03,\n",
              "       7.3000e+03, 8.0000e+02, 1.8000e+04, 1.2500e+04, 8.9000e+03,\n",
              "       3.6500e+04, 5.9000e+03, 1.6300e+04, 1.7800e+04, 8.3000e+03,\n",
              "       3.0000e+03, 7.0000e+02, 5.1000e+03, 2.3000e+04, 9.1000e+03,\n",
              "       4.0250e+04, 1.7900e+04, 5.1000e+04, 2.0600e+04, 1.2900e+04,\n",
              "       9.2000e+03, 1.9600e+04, 1.8900e+04, 2.5000e+04, 8.6000e+03,\n",
              "       2.0900e+04, 2.8750e+04, 3.1700e+04, 1.1900e+04, 1.2500e+03,\n",
              "       6.7000e+03, 8.2000e+03, 2.8000e+03, 2.7000e+04, 2.1300e+04,\n",
              "       9.5000e+03, 1.3200e+04, 1.1400e+04, 8.7000e+03, 1.1200e+04,\n",
              "       1.3700e+04, 1.7000e+04, 2.2300e+04, 5.2000e+03, 3.4000e+03,\n",
              "       1.9800e+04, 1.1000e+03, 1.9000e+04, 7.5000e+03, 2.1000e+03,\n",
              "       1.9300e+04, 1.2800e+04, 8.0000e+03, 1.1600e+04, 1.3900e+04,\n",
              "       9.0000e+03, 8.4000e+03, 4.8000e+03, 1.5700e+04, 1.5000e+04,\n",
              "       1.4400e+04, 2.0400e+04, 1.4600e+04, 3.4000e+04, 1.3750e+04,\n",
              "       8.5000e+03, 1.0300e+04, 1.0600e+04, 1.0000e+04, 1.3000e+03,\n",
              "       3.0000e+04, 6.2000e+03, 2.5500e+04, 1.2100e+04, 1.1000e+04,\n",
              "       2.2800e+04, 4.4250e+04, 7.1000e+03, 1.2600e+04, 1.7600e+04,\n",
              "       9.8000e+03, 2.3500e+04, 4.3900e+04, 1.0800e+04, 7.6000e+03,\n",
              "       1.3100e+04, 3.1000e+03, 3.2000e+04, 3.2800e+04, 2.4000e+03,\n",
              "       2.0500e+04, 1.0700e+04, 3.8000e+03, 1.4300e+04, 4.2000e+03,\n",
              "       2.0000e+03, 9.0000e+02, 3.8500e+03, 6.5000e+03, 9.9000e+03,\n",
              "       4.4000e+03, 2.3000e+03, 1.5100e+04, 1.5400e+04, 1.7200e+04,\n",
              "       6.1000e+03, 1.1100e+04, 6.9000e+03, 7.0000e+03, 2.2000e+04,\n",
              "       2.0200e+04, 1.6400e+04, 1.6000e+04, 1.1800e+04, 1.8600e+04,\n",
              "       1.4800e+04, 1.5200e+04, 1.2700e+04, 1.8700e+04, 5.0250e+04,\n",
              "       1.1300e+04, 2.2000e+03, 1.7000e+03, 2.5700e+04, 1.6600e+04,\n",
              "       1.4500e+04, 4.1000e+03, 1.3500e+04, 4.7250e+04, 3.1000e+04,\n",
              "       2.4250e+04, 6.3000e+03, 1.6700e+04, 5.4000e+03, 1.6250e+03,\n",
              "       7.9000e+03, 1.2101e+04, 1.3400e+04, 1.4200e+04, 3.3250e+04,\n",
              "       1.6200e+04, 6.0000e+03, 4.2750e+04, 1.0000e+03, 6.4000e+03,\n",
              "       2.1250e+04, 3.5000e+02, 1.8750e+04, 1.8300e+04, 2.7100e+04,\n",
              "       3.1750e+04, 2.6000e+03, 2.6900e+04, 9.7500e+03, 3.3900e+04,\n",
              "       1.7500e+04, 2.1000e+04, 1.1500e+04, 3.6700e+04, 3.6000e+04,\n",
              "       4.9000e+03, 1.6000e+03, 1.5900e+04, 9.6000e+03, 1.3000e+04,\n",
              "       2.2900e+04, 1.6500e+04, 1.6250e+04, 2.4100e+04, 1.7250e+04,\n",
              "       1.5600e+04, 3.0200e+04, 1.5300e+04, 5.8000e+03, 5.0000e+03,\n",
              "       1.4000e+03, 1.9700e+04, 2.5000e+03, 5.6000e+03, 3.9000e+03,\n",
              "       1.9000e+03, 2.5200e+04, 2.6200e+04, 4.1000e+04, 3.6000e+03,\n",
              "       4.8000e+04, 2.4400e+04, 1.0500e+04, 6.8000e+03, 2.5900e+04,\n",
              "       1.6800e+04, 7.7000e+03, 2.1400e+04, 3.0000e+02, 2.5400e+04,\n",
              "       2.1600e+04, 2.4000e+04, 2.8500e+04, 3.3300e+04, 3.5000e+03,\n",
              "       4.6000e+03, 3.4700e+04, 2.1200e+04, 1.0400e+04, 1.3250e+04,\n",
              "       3.3000e+03, 2.9000e+03, 2.3800e+04, 1.7400e+04, 1.9200e+04,\n",
              "       1.3300e+04, 2.3300e+04, 2.7200e+04, 7.5000e+02, 1.8800e+04,\n",
              "       1.8400e+04, 7.2000e+03, 2.2500e+04, 1.0200e+04, 4.7000e+04,\n",
              "       2.5600e+04, 1.2000e+03, 4.5000e+03, 1.9900e+04, 9.3000e+03,\n",
              "       1.7300e+04, 4.3000e+03, 2.2200e+04, 4.0000e+03, 3.5800e+04,\n",
              "       2.6600e+04, 2.3250e+04, 1.5800e+04, 6.2500e+03, 2.0100e+04,\n",
              "       1.2750e+04, 3.7600e+04, 1.5000e+03, 2.4750e+04, 1.1001e+04,\n",
              "       2.0700e+04, 4.5000e+04, 4.6250e+04, 1.0350e+04, 1.1700e+04,\n",
              "       3.1250e+04, 4.4000e+04, 9.7000e+03, 4.3300e+04, 2.9400e+04,\n",
              "       7.8000e+03, 2.4300e+04, 1.6900e+04, 7.4000e+03, 5.0000e+02,\n",
              "       5.3000e+03, 2.0800e+04, 5.7500e+03, 2.7750e+04, 2.2400e+04,\n",
              "       3.0900e+04, 2.7000e+03, 5.7000e+03, 3.0750e+04, 3.2600e+04,\n",
              "       2.1700e+04, 3.6900e+04, 2.6000e+04, 1.9250e+04, 1.4100e+04,\n",
              "       4.3200e+04, 1.2200e+04, 1.8200e+04, 3.1500e+03, 9.4000e+03,\n",
              "       3.8600e+04, 5.5600e+04, 9.2500e+03, 2.8000e+04, 2.1500e+04,\n",
              "       2.1100e+04, 2.3100e+04, 1.2300e+04, 2.6250e+04, 4.2000e+04,\n",
              "       1.8500e+04, 3.2200e+04, 4.6400e+04, 1.7700e+04, 1.9100e+04,\n",
              "       1.3800e+04, 1.4900e+04, 3.6750e+04, 2.7400e+04, 3.5000e+04,\n",
              "       1.7100e+04, 2.7250e+04, 1.2250e+04, 2.9500e+03, 2.8300e+04,\n",
              "       8.1000e+03, 4.7500e+03, 4.7000e+03, 3.1100e+04, 3.7100e+04,\n",
              "       2.6100e+04, 2.1800e+04, 1.6100e+04, 2.4800e+04, 2.3900e+04,\n",
              "       3.3200e+04, 3.8000e+04, 1.3500e+03, 3.1600e+04, 8.7500e+03,\n",
              "       1.9400e+04, 1.0100e+04, 3.9000e+04, 2.3750e+04, 3.7000e+04,\n",
              "       3.2500e+04, 1.1500e+03, 8.8000e+03, 2.5800e+04, 1.1250e+04,\n",
              "       2.8250e+04, 2.7600e+04, 3.7900e+04, 2.0750e+04, 1.0750e+04,\n",
              "       2.8600e+04, 3.1800e+04, 2.2600e+04, 2.2500e+02, 2.9600e+04,\n",
              "       1.9750e+04, 2.0250e+04, 3.2300e+04, 5.0500e+04, 4.0000e+02,\n",
              "       2.9500e+04, 2.6500e+04, 2.1750e+04, 1.2400e+04, 1.8000e+03,\n",
              "       1.9500e+04, 6.6000e+03, 2.5250e+04, 1.6500e+03, 3.0800e+04,\n",
              "       3.5900e+04, 2.4401e+04, 1.8100e+04, 1.8250e+04, 1.4000e+04,\n",
              "       6.0000e+02, 3.2400e+04, 2.0560e+04, 2.5500e+03, 2.8800e+04,\n",
              "       2.4600e+04, 1.7350e+04, 5.4000e+04, 3.7250e+04, 4.2500e+04,\n",
              "       2.4700e+04, 6.3000e+04, 3.0250e+04, 3.4500e+04, 3.2750e+04,\n",
              "       3.3500e+04, 2.9800e+04, 3.9500e+04, 2.4500e+04, 7.7500e+03,\n",
              "       2.2750e+04, 3.4100e+04, 2.3200e+04, 3.2500e+02, 8.9200e+04,\n",
              "       2.9750e+04, 1.0500e+03, 2.5750e+04, 8.4500e+03, 8.5010e+03,\n",
              "       6.5000e+04, 4.3800e+04, 1.7750e+04, 2.7500e+02, 2.5100e+04,\n",
              "       3.4500e+03, 2.8100e+04, 4.5000e+02, 1.6750e+04, 2.6800e+04,\n",
              "       3.0100e+04, 6.7500e+03, 4.0400e+04, 3.4200e+04, 2.3600e+04,\n",
              "       2.8200e+04, 2.4900e+04, 3.3750e+04, 3.1200e+04, 5.3500e+04,\n",
              "       6.8500e+04, 3.4300e+04, 4.3500e+04, 2.0000e+02, 1.7500e+03,\n",
              "       3.3800e+04, 2.9000e+04, 6.4500e+04, 6.5000e+02, 4.4500e+04,\n",
              "       7.5500e+03, 6.6250e+03, 5.5000e+02, 1.5500e+03, 1.5750e+04,\n",
              "       4.4400e+04, 4.2250e+04, 2.3400e+04, 2.2301e+04, 6.0000e+04,\n",
              "       2.9250e+04, 3.5500e+04, 3.8500e+04, 1.4750e+04, 2.2700e+04,\n",
              "       7.3630e+03, 2.6400e+04, 2.8700e+04, 2.7900e+04, 2.9100e+04,\n",
              "       3.4750e+04, 6.6000e+04, 1.9500e+03, 8.5000e+02, 1.1750e+04,\n",
              "       2.6700e+04, 1.0250e+04, 4.1600e+04, 5.4600e+04, 2.5000e+02,\n",
              "       3.1500e+04, 4.8250e+04, 4.5300e+04, 3.6500e+03, 1.8500e+03,\n",
              "       2.2500e+03, 2.7800e+04, 4.0200e+04, 3.9025e+04, 3.4600e+04,\n",
              "       5.0750e+04, 3.1400e+04, 2.9200e+04, 3.7750e+04, 2.5300e+04,\n",
              "       1.0150e+04, 3.5400e+04, 3.8100e+04, 3.0500e+04, 7.6500e+04,\n",
              "       1.3150e+04, 3.9200e+04, 4.1800e+04, 7.5010e+03, 5.3600e+04,\n",
              "       3.7500e+04, 9.5000e+02, 3.4400e+04, 1.5250e+04, 4.7750e+04,\n",
              "       3.3000e+04, 2.0300e+04, 2.8900e+04, 9.1010e+03, 5.4300e+04,\n",
              "       5.5000e+04, 2.3250e+03, 1.2000e+05, 3.0600e+04, 3.3400e+04,\n",
              "       5.0000e+04, 3.7500e+03, 2.1900e+04, 7.1500e+04, 2.0925e+04,\n",
              "       5.2000e+04, 5.5500e+04, 2.1500e+03, 3.3700e+04, 9.2010e+03,\n",
              "       1.0001e+04, 3.6800e+04, 3.4900e+04, 6.7200e+04, 3.2250e+04,\n",
              "       4.0000e+04, 3.0400e+04, 8.2500e+03, 3.1900e+04, 3.3600e+04,\n",
              "       4.1250e+04, 2.6750e+04, 4.9000e+04, 4.8800e+04, 3.7200e+04,\n",
              "       4.6000e+04, 3.8900e+04, 2.7300e+04, 5.4500e+04, 5.3000e+04,\n",
              "       3.9100e+04, 3.4250e+04, 7.3600e+04, 3.5200e+04, 3.6200e+04,\n",
              "       2.7200e+03, 2.9700e+04, 4.3750e+04, 4.2500e+03, 4.3000e+04,\n",
              "       5.7750e+04, 1.5590e+04, 5.8000e+04, 4.8500e+04, 5.5800e+04,\n",
              "       3.3100e+04, 3.7800e+04, 3.0050e+04, 3.9400e+04, 3.6400e+04,\n",
              "       4.2400e+04, 5.4750e+04, 2.4500e+03, 2.7700e+04, 7.8000e+04,\n",
              "       8.4500e+04, 1.5000e+02, 6.1000e+04, 3.6300e+04, 1.6501e+04,\n",
              "       2.8500e+03, 6.8000e+04, 5.9000e+04, 4.1500e+04, 3.3500e+03,\n",
              "       4.3700e+04, 3.5100e+04, 2.3500e+03, 3.9250e+04, 3.5500e+03,\n",
              "       3.2900e+04, 1.4500e+03, 9.1500e+03, 4.4800e+04, 1.1350e+04,\n",
              "       3.5600e+04, 8.4000e+04, 2.3801e+04, 3.9750e+04, 1.4250e+04,\n",
              "       2.6500e+03, 3.2950e+04, 1.1301e+04, 1.0101e+04, 4.0800e+04,\n",
              "       1.0200e+05, 1.1125e+04, 3.5700e+04, 9.4900e+03, 5.8750e+04,\n",
              "       4.8500e+03, 4.3100e+04, 3.5250e+04, 5.1600e+04, 5.4200e+04,\n",
              "       3.0300e+04, 4.9500e+04, 6.2750e+03, 4.5500e+03, 4.1200e+04,\n",
              "       3.7400e+04, 4.0750e+04, 1.4450e+04, 4.6500e+03, 9.8010e+03,\n",
              "       3.5300e+04, 4.2500e+02, 1.0850e+04, 2.6300e+04, 3.8200e+04,\n",
              "       3.8800e+04, 3.9600e+04, 2.8400e+04, 3.4800e+04, 4.5200e+04,\n",
              "       3.2700e+04, 1.2550e+04, 4.4100e+04, 4.6750e+04, 1.0801e+04,\n",
              "       3.1300e+04, 4.2800e+04, 1.0601e+04, 2.7500e+03, 1.8901e+04,\n",
              "       9.3010e+03, 3.7500e+02, 4.1700e+04, 4.9200e+04, 4.4700e+04,\n",
              "       4.7500e+04, 8.5500e+04, 7.2500e+03, 5.8800e+04, 3.8250e+04,\n",
              "       1.8450e+04, 4.8200e+04, 2.4725e+04, 3.2500e+03, 3.8700e+04,\n",
              "       3.5750e+04, 2.0500e+03, 4.2200e+04, 5.7250e+04, 4.0300e+04,\n",
              "       6.9500e+04, 4.6500e+04, 4.5500e+04, 4.0500e+04, 5.1500e+03,\n",
              "       6.5200e+04, 2.8850e+04, 4.3600e+04, 2.9300e+04, 4.7200e+04,\n",
              "       2.4350e+04, 3.0700e+04, 7.0000e+04, 5.7000e+04, 4.4200e+04,\n",
              "       1.4150e+04, 4.0025e+04, 4.5750e+04, 6.9000e+04, 7.9200e+04,\n",
              "       9.4500e+04, 4.1400e+04, 1.3550e+04, 3.8150e+04, 6.4000e+04,\n",
              "       4.7500e+02, 1.7301e+04, 4.1500e+03, 1.2950e+04, 3.6600e+04,\n",
              "       5.2200e+04, 3.1901e+04, 7.3500e+03, 4.6300e+04, 3.8750e+04,\n",
              "       7.2750e+04, 1.0501e+04, 5.0500e+03, 5.6500e+04, 3.8400e+04,\n",
              "       4.9400e+04, 1.1750e+05, 4.4750e+04, 1.0050e+04, 4.5600e+04,\n",
              "       1.1850e+04, 1.2850e+04, 3.7700e+04, 1.3195e+04, 5.4800e+04,\n",
              "       1.5950e+04, 5.4500e+03, 7.8250e+04, 2.2765e+04, 5.6500e+03,\n",
              "       4.6800e+04, 2.8901e+04, 1.1901e+04, 1.0901e+04, 5.9800e+04,\n",
              "       5.2750e+04, 1.0201e+04, 8.7000e+04, 6.2500e+04, 7.4500e+03,\n",
              "       1.7500e+02, 7.8500e+04, 1.2801e+04, 4.4600e+04, 4.2600e+04,\n",
              "       2.6625e+04, 4.0500e+03, 4.7800e+04, 1.1360e+04, 8.9000e+04,\n",
              "       6.7000e+04, 3.9800e+04, 1.3650e+04, 5.3300e+04, 1.5350e+04,\n",
              "       1.1401e+04, 3.0500e+03, 2.2601e+04, 3.9900e+04, 9.5010e+03,\n",
              "       8.8500e+03, 1.2050e+04, 5.8250e+04, 2.3000e+05, 3.6100e+04,\n",
              "       1.1450e+04, 4.3250e+04, 3.7440e+04, 1.1450e+05, 3.9700e+04,\n",
              "       1.3350e+04, 3.6250e+04, 3.4201e+04, 1.6901e+04, 5.8100e+04,\n",
              "       4.9800e+04, 5.2500e+03, 6.7500e+02, 5.6300e+04, 5.1700e+04,\n",
              "       4.8750e+04, 1.1650e+04, 2.0150e+04, 9.6000e+04, 1.1700e+05,\n",
              "       5.9750e+03, 9.3500e+03, 7.3000e+04, 5.9500e+04, 4.0600e+04,\n",
              "       5.2600e+04, 4.8600e+04, 3.9500e+03, 8.6010e+03, 6.3500e+04,\n",
              "       7.7000e+04, 1.8625e+04, 1.1201e+04, 1.1501e+04, 3.2100e+04,\n",
              "       1.7601e+04, 6.8500e+03, 1.2301e+04, 6.4200e+04, 3.8300e+04,\n",
              "       3.9300e+04, 2.6401e+04, 4.2900e+04, 7.5800e+04, 6.0500e+04,\n",
              "       9.4010e+03, 6.3250e+04, 6.2000e+04, 1.6676e+04, 4.5400e+04,\n",
              "       6.4500e+03, 7.6000e+04, 4.7600e+04, 3.7300e+04, 6.0100e+04,\n",
              "       6.3750e+04, 7.4500e+04, 5.3750e+04, 5.3500e+03, 9.6500e+04,\n",
              "       1.4301e+04, 4.4900e+04, 5.1400e+04, 2.8550e+04, 4.2000e+02,\n",
              "       1.1801e+04, 5.1100e+04, 2.2401e+04, 4.6900e+04, 5.8500e+04,\n",
              "       1.3501e+04, 1.3150e+05, 5.6000e+02, 2.7001e+04, 5.6750e+04,\n",
              "       4.7400e+04, 5.9600e+04, 8.8800e+04, 1.3050e+04, 4.5700e+04,\n",
              "       6.3500e+03, 6.9500e+03, 4.2100e+04, 4.9100e+04, 2.2825e+04,\n",
              "       4.0501e+04, 5.0700e+04, 8.3500e+03, 2.7550e+04, 1.2001e+04,\n",
              "       7.8500e+03, 1.1701e+04, 5.9500e+03, 2.9801e+04, 1.4350e+04,\n",
              "       7.5000e+04, 1.5550e+04, 8.8100e+04, 1.5601e+04, 7.6400e+03,\n",
              "       8.5500e+03, 1.7450e+04, 5.1500e+04, 2.6950e+04, 4.9700e+04,\n",
              "       1.6001e+04, 2.9301e+04, 1.1900e+05, 7.2500e+04, 3.0474e+04,\n",
              "       5.6100e+04, 4.1900e+04, 1.5501e+04, 4.3400e+04, 2.0670e+04,\n",
              "       4.1501e+04, 1.2601e+04, 5.2500e+04, 1.6401e+04, 1.4550e+04,\n",
              "       1.9431e+04, 8.7500e+02, 1.4300e+05, 4.1100e+04, 6.2500e+02,\n",
              "       5.3250e+04, 4.9500e+03, 4.9250e+04, 6.4800e+04, 5.6200e+04,\n",
              "       6.2750e+04, 8.9500e+03, 4.0100e+04, 5.2500e+02, 5.3800e+04,\n",
              "       7.9500e+03, 1.3850e+04, 4.7100e+04, 1.0600e+05, 2.0630e+04,\n",
              "       5.7500e+04, 4.9750e+04, 2.3925e+04, 8.9010e+03, 5.1750e+04,\n",
              "       6.6500e+03, 6.9100e+04, 1.5200e+05, 1.0401e+04, 1.8501e+04,\n",
              "       1.0950e+04, 9.9000e+04, 7.5500e+04, 9.9500e+03, 1.0150e+05,\n",
              "       4.2300e+04, 3.3950e+04, 2.1350e+04, 7.9000e+04, 2.5990e+04,\n",
              "       1.2701e+04, 1.4050e+04, 5.6000e+04, 5.7400e+04, 3.7150e+04,\n",
              "       1.1150e+04, 1.7499e+04, 1.1800e+05, 1.7501e+04, 3.2401e+04,\n",
              "       1.5901e+04, 4.5250e+04, 5.2900e+04, 1.1101e+04, 5.3100e+04,\n",
              "       8.6000e+04, 7.1000e+04, 7.0750e+04, 8.4400e+03, 1.3901e+04,\n",
              "       2.9701e+04, 4.6200e+04, 7.9010e+03, 8.2750e+04, 4.3500e+03,\n",
              "       7.5400e+04, 9.5500e+03, 9.0000e+04, 6.5500e+04, 9.5000e+04,\n",
              "       1.2201e+04, 1.3620e+04, 6.8501e+04, 1.2501e+04, 5.8400e+04,\n",
              "       2.5450e+04, 7.1600e+04, 1.2401e+04, 5.1800e+04, 9.0400e+04,\n",
              "       9.7010e+03, 4.1300e+04, 1.3450e+04, 6.1800e+04, 4.8900e+04,\n",
              "       1.1975e+04, 1.3801e+04, 6.5700e+04, 2.5025e+04, 2.4301e+04,\n",
              "       1.7201e+04, 9.1000e+04, 6.1500e+03, 4.0900e+04, 1.1425e+04,\n",
              "       8.8010e+03, 5.2250e+04, 1.4001e+04])"
            ]
          },
          "metadata": {},
          "execution_count": 18
        }
      ]
    },
    {
      "cell_type": "code",
      "source": [
        "df.color.unique()"
      ],
      "metadata": {
        "colab": {
          "base_uri": "https://localhost:8080/"
        },
        "id": "-g7kLJzN05xP",
        "outputId": "694099f1-634a-4f90-e5fa-a0dc96a1d9ff"
      },
      "execution_count": null,
      "outputs": [
        {
          "output_type": "execute_result",
          "data": {
            "text/plain": [
              "array(['black', 'gray', 'silver', 'white', 'blue', 'burgundy', 'beige',\n",
              "       'gold', 'green', 'red', 'purple', 'yellow', 'brown', 'turquoise',\n",
              "       'orange', 'off-white', 'charcoal', 'pink', 'lime'], dtype=object)"
            ]
          },
          "metadata": {},
          "execution_count": 19
        }
      ]
    },
    {
      "cell_type": "code",
      "source": [
        "df.make.unique()"
      ],
      "metadata": {
        "colab": {
          "base_uri": "https://localhost:8080/"
        },
        "id": "DAQ35fq31kIa",
        "outputId": "8248fe67-91f8-444e-ad93-a06422867a3c"
      },
      "execution_count": null,
      "outputs": [
        {
          "output_type": "execute_result",
          "data": {
            "text/plain": [
              "array(['Hyundai', 'Toyota', 'Lexus', 'BMW', 'Ford', 'Kia', 'Chevrolet',\n",
              "       'Cadillac', 'Mercedes-Benz', 'Jeep', 'Infiniti', 'Lincoln',\n",
              "       'Mazda', 'Chrysler', 'GMC', 'Honda', 'Dodge', 'Audi', 'Nissan',\n",
              "       'Buick', 'MINI', 'Jaguar', 'Volvo', 'Mitsubishi', 'Volkswagen',\n",
              "       'Subaru', 'Porsche', 'Isuzu', 'Saturn', 'Pontiac', 'Scion',\n",
              "       'Acura', 'Ram', 'Land Rover', 'Suzuki', 'Mercury', 'HUMMER',\n",
              "       'Saab', 'Maserati', 'FIAT', 'Geo', 'smart', 'Oldsmobile', 'Fisker',\n",
              "       'Bentley', 'Plymouth', 'Ferrari', 'Aston Martin'], dtype=object)"
            ]
          },
          "metadata": {},
          "execution_count": 20
        }
      ]
    },
    {
      "cell_type": "code",
      "source": [
        "df.year.unique()"
      ],
      "metadata": {
        "colab": {
          "base_uri": "https://localhost:8080/"
        },
        "id": "SmiYRTMW10yb",
        "outputId": "bf85a8be-19b0-4e56-c94d-a36ebc76eb93"
      },
      "execution_count": null,
      "outputs": [
        {
          "output_type": "execute_result",
          "data": {
            "text/plain": [
              "array([2013, 2014, 2012, 2002, 2007, 2008, 2011, 2015, 2010, 2005, 2006,\n",
              "       2009, 2004, 1998, 2001, 2003, 1996, 1997, 2000, 1999, 1995, 1991,\n",
              "       1990, 1994, 1993, 1992])"
            ]
          },
          "metadata": {},
          "execution_count": 21
        }
      ]
    },
    {
      "cell_type": "code",
      "source": [
        "#taking care of case sencitive\n",
        "df['body'] = df['body'].str.capitalize()\n",
        "\n"
      ],
      "metadata": {
        "id": "6xT_X0MzSbgH"
      },
      "execution_count": null,
      "outputs": []
    },
    {
      "cell_type": "code",
      "source": [
        "# reducing the unique values for body\n",
        "df['body']=df['body'].replace(\"Suv\", \"SUV\")\n",
        "df['body']=df['body'].replace([\"Crew cab\",\"Regular cab\",\"Double cab\",\"Supercab\",\"King cab\",\"Quad cab\",\"Crewmax cab\", \"Club cab\", \"Access cab\",\"Cab plus 4\",\"Mega cab\",\"Regular-cab\",\n",
        "       \"Xtracab\",\"Extended cab\",\"Supercrew\"], \"pickup trucks\")\n",
        "df['body']=df['body'].replace([\"Cts wagon\",\"Tsx sport wagon\"], \"Wagon\")\n",
        "df['body']=df['body'].replace([\"G coupe\",\"Genesis coupe\",\"Elantra coupe\",\"Cts-v coupe\",\"Q60 coupe\",\"Cts coupe\"], \"Coupe\")\n",
        "df['body']=df['body'].replace([\"G sedan\"], \"Sedan\")\n",
        "df['body']=df['body'].replace([\"G convertible\", \"Beetle convertible\", \"G37 convertible\",\"Q60 convertible\",\"Granturismo convertible\"], \"Convertible\")\n",
        "df['body']=df['body'].replace([\"E-series van\",\"Van\",\"Promaster cargo van\",\"Transit van\"], \"Minivan\")\n",
        "df['body']=df['body'].replace([\"Koup\"], \"Hatchback\")\n",
        "df\n"
      ],
      "metadata": {
        "colab": {
          "base_uri": "https://localhost:8080/",
          "height": 1000
        },
        "id": "rPUuPKF2ab0W",
        "outputId": "7ffd6ede-3fb7-4378-b9e2-d57d9af84d30"
      },
      "execution_count": null,
      "outputs": [
        {
          "output_type": "execute_result",
          "data": {
            "text/plain": [
              "       year      make         model         trim     body transmission  \\\n",
              "0      2013   Hyundai        Sonata          GLS    Sedan    automatic   \n",
              "1      2014    Toyota       4Runner          SR5      SUV    automatic   \n",
              "2      2012     Lexus        IS 250         Base    Sedan    automatic   \n",
              "3      2002       BMW            X5         4.4i      SUV    automatic   \n",
              "4      2014      Ford  E-Series Van        E-250  Minivan    automatic   \n",
              "...     ...       ...           ...          ...      ...          ...   \n",
              "46573  2013      Ford          Edge           SE      SUV    automatic   \n",
              "46574  2012  Infiniti       G Sedan  G37 Journey    Sedan    automatic   \n",
              "46575  2013       BMW      3 Series         328i    Sedan    automatic   \n",
              "46576  2013    Toyota         Camry           LE    Sedan    automatic   \n",
              "46577  2013       Kia           Rio           LX    Sedan    automatic   \n",
              "\n",
              "                     vin state  condition  odometer   color interior  \\\n",
              "0      5npeb4acxdh702805    ma        3.9   50404.0   black     gray   \n",
              "1      jtezu5jr2e5064567    fl        4.9   17846.0    gray    black   \n",
              "2      jthbf5c24c5168599    fl        4.1   21122.0  silver    black   \n",
              "3      5uxfb33562lh33864    fl        1.9  145303.0   black    black   \n",
              "4      1ftne2ew0eda31832    wa        4.9    6714.0   white     gray   \n",
              "...                  ...   ...        ...       ...     ...      ...   \n",
              "46573  2fmdk4gc2dbc03247    va        3.5   52844.0   black     gray   \n",
              "46574  jn1cv6ap9cm623162    ca        4.5   23185.0   black    black   \n",
              "46575  wba3a5c56df356614    tx        4.2   45357.0   white    beige   \n",
              "46576  4t1bf1fk8du254684    ca        3.5   43376.0   black    beige   \n",
              "46577  knadm4a32d6164825    ga        4.1   49953.0  silver    black   \n",
              "\n",
              "                                 seller      mmr  sellingprice  \\\n",
              "0                 the hertz corporation  11000.0       10900.0   \n",
              "1      award auto sales and leasing inc  28700.0       29900.0   \n",
              "2              lexus financial services  22200.0       24200.0   \n",
              "3                            peddle llc   3675.0        3200.0   \n",
              "4                                u-haul  22500.0       22100.0   \n",
              "...                                 ...      ...           ...   \n",
              "46573               wheels exchange llc  15650.0       17000.0   \n",
              "46574                nissan infiniti lt  19350.0       21500.0   \n",
              "46575          motorcars of south texas  22200.0       22000.0   \n",
              "46576              avis rac/san leandro  13400.0       13800.0   \n",
              "46577                kia motors finance   9700.0        9300.0   \n",
              "\n",
              "                                      saledate  \n",
              "0      Tue Jun 02 2015 02:30:00 GMT-0700 (PDT)  \n",
              "1      Wed Feb 18 2015 07:15:00 GMT-0800 (PST)  \n",
              "2      Tue Jan 20 2015 01:30:00 GMT-0800 (PST)  \n",
              "3      Wed Mar 04 2015 07:10:00 GMT-0800 (PST)  \n",
              "4      Wed Feb 18 2015 06:45:00 GMT-0800 (PST)  \n",
              "...                                        ...  \n",
              "46573  Wed Jan 07 2015 09:30:00 GMT-0800 (PST)  \n",
              "46574  Thu Jun 18 2015 05:30:00 GMT-0700 (PDT)  \n",
              "46575  Wed Feb 18 2015 02:00:00 GMT-0800 (PST)  \n",
              "46576  Wed Jan 14 2015 04:30:00 GMT-0800 (PST)  \n",
              "46577  Thu Dec 18 2014 10:00:00 GMT-0800 (PST)  \n",
              "\n",
              "[46578 rows x 16 columns]"
            ],
            "text/html": [
              "\n",
              "  <div id=\"df-087cf344-bc1d-4e6f-8dea-da090bd41462\">\n",
              "    <div class=\"colab-df-container\">\n",
              "      <div>\n",
              "<style scoped>\n",
              "    .dataframe tbody tr th:only-of-type {\n",
              "        vertical-align: middle;\n",
              "    }\n",
              "\n",
              "    .dataframe tbody tr th {\n",
              "        vertical-align: top;\n",
              "    }\n",
              "\n",
              "    .dataframe thead th {\n",
              "        text-align: right;\n",
              "    }\n",
              "</style>\n",
              "<table border=\"1\" class=\"dataframe\">\n",
              "  <thead>\n",
              "    <tr style=\"text-align: right;\">\n",
              "      <th></th>\n",
              "      <th>year</th>\n",
              "      <th>make</th>\n",
              "      <th>model</th>\n",
              "      <th>trim</th>\n",
              "      <th>body</th>\n",
              "      <th>transmission</th>\n",
              "      <th>vin</th>\n",
              "      <th>state</th>\n",
              "      <th>condition</th>\n",
              "      <th>odometer</th>\n",
              "      <th>color</th>\n",
              "      <th>interior</th>\n",
              "      <th>seller</th>\n",
              "      <th>mmr</th>\n",
              "      <th>sellingprice</th>\n",
              "      <th>saledate</th>\n",
              "    </tr>\n",
              "  </thead>\n",
              "  <tbody>\n",
              "    <tr>\n",
              "      <th>0</th>\n",
              "      <td>2013</td>\n",
              "      <td>Hyundai</td>\n",
              "      <td>Sonata</td>\n",
              "      <td>GLS</td>\n",
              "      <td>Sedan</td>\n",
              "      <td>automatic</td>\n",
              "      <td>5npeb4acxdh702805</td>\n",
              "      <td>ma</td>\n",
              "      <td>3.9</td>\n",
              "      <td>50404.0</td>\n",
              "      <td>black</td>\n",
              "      <td>gray</td>\n",
              "      <td>the hertz corporation</td>\n",
              "      <td>11000.0</td>\n",
              "      <td>10900.0</td>\n",
              "      <td>Tue Jun 02 2015 02:30:00 GMT-0700 (PDT)</td>\n",
              "    </tr>\n",
              "    <tr>\n",
              "      <th>1</th>\n",
              "      <td>2014</td>\n",
              "      <td>Toyota</td>\n",
              "      <td>4Runner</td>\n",
              "      <td>SR5</td>\n",
              "      <td>SUV</td>\n",
              "      <td>automatic</td>\n",
              "      <td>jtezu5jr2e5064567</td>\n",
              "      <td>fl</td>\n",
              "      <td>4.9</td>\n",
              "      <td>17846.0</td>\n",
              "      <td>gray</td>\n",
              "      <td>black</td>\n",
              "      <td>award auto sales and leasing inc</td>\n",
              "      <td>28700.0</td>\n",
              "      <td>29900.0</td>\n",
              "      <td>Wed Feb 18 2015 07:15:00 GMT-0800 (PST)</td>\n",
              "    </tr>\n",
              "    <tr>\n",
              "      <th>2</th>\n",
              "      <td>2012</td>\n",
              "      <td>Lexus</td>\n",
              "      <td>IS 250</td>\n",
              "      <td>Base</td>\n",
              "      <td>Sedan</td>\n",
              "      <td>automatic</td>\n",
              "      <td>jthbf5c24c5168599</td>\n",
              "      <td>fl</td>\n",
              "      <td>4.1</td>\n",
              "      <td>21122.0</td>\n",
              "      <td>silver</td>\n",
              "      <td>black</td>\n",
              "      <td>lexus financial services</td>\n",
              "      <td>22200.0</td>\n",
              "      <td>24200.0</td>\n",
              "      <td>Tue Jan 20 2015 01:30:00 GMT-0800 (PST)</td>\n",
              "    </tr>\n",
              "    <tr>\n",
              "      <th>3</th>\n",
              "      <td>2002</td>\n",
              "      <td>BMW</td>\n",
              "      <td>X5</td>\n",
              "      <td>4.4i</td>\n",
              "      <td>SUV</td>\n",
              "      <td>automatic</td>\n",
              "      <td>5uxfb33562lh33864</td>\n",
              "      <td>fl</td>\n",
              "      <td>1.9</td>\n",
              "      <td>145303.0</td>\n",
              "      <td>black</td>\n",
              "      <td>black</td>\n",
              "      <td>peddle llc</td>\n",
              "      <td>3675.0</td>\n",
              "      <td>3200.0</td>\n",
              "      <td>Wed Mar 04 2015 07:10:00 GMT-0800 (PST)</td>\n",
              "    </tr>\n",
              "    <tr>\n",
              "      <th>4</th>\n",
              "      <td>2014</td>\n",
              "      <td>Ford</td>\n",
              "      <td>E-Series Van</td>\n",
              "      <td>E-250</td>\n",
              "      <td>Minivan</td>\n",
              "      <td>automatic</td>\n",
              "      <td>1ftne2ew0eda31832</td>\n",
              "      <td>wa</td>\n",
              "      <td>4.9</td>\n",
              "      <td>6714.0</td>\n",
              "      <td>white</td>\n",
              "      <td>gray</td>\n",
              "      <td>u-haul</td>\n",
              "      <td>22500.0</td>\n",
              "      <td>22100.0</td>\n",
              "      <td>Wed Feb 18 2015 06:45:00 GMT-0800 (PST)</td>\n",
              "    </tr>\n",
              "    <tr>\n",
              "      <th>...</th>\n",
              "      <td>...</td>\n",
              "      <td>...</td>\n",
              "      <td>...</td>\n",
              "      <td>...</td>\n",
              "      <td>...</td>\n",
              "      <td>...</td>\n",
              "      <td>...</td>\n",
              "      <td>...</td>\n",
              "      <td>...</td>\n",
              "      <td>...</td>\n",
              "      <td>...</td>\n",
              "      <td>...</td>\n",
              "      <td>...</td>\n",
              "      <td>...</td>\n",
              "      <td>...</td>\n",
              "      <td>...</td>\n",
              "    </tr>\n",
              "    <tr>\n",
              "      <th>46573</th>\n",
              "      <td>2013</td>\n",
              "      <td>Ford</td>\n",
              "      <td>Edge</td>\n",
              "      <td>SE</td>\n",
              "      <td>SUV</td>\n",
              "      <td>automatic</td>\n",
              "      <td>2fmdk4gc2dbc03247</td>\n",
              "      <td>va</td>\n",
              "      <td>3.5</td>\n",
              "      <td>52844.0</td>\n",
              "      <td>black</td>\n",
              "      <td>gray</td>\n",
              "      <td>wheels exchange llc</td>\n",
              "      <td>15650.0</td>\n",
              "      <td>17000.0</td>\n",
              "      <td>Wed Jan 07 2015 09:30:00 GMT-0800 (PST)</td>\n",
              "    </tr>\n",
              "    <tr>\n",
              "      <th>46574</th>\n",
              "      <td>2012</td>\n",
              "      <td>Infiniti</td>\n",
              "      <td>G Sedan</td>\n",
              "      <td>G37 Journey</td>\n",
              "      <td>Sedan</td>\n",
              "      <td>automatic</td>\n",
              "      <td>jn1cv6ap9cm623162</td>\n",
              "      <td>ca</td>\n",
              "      <td>4.5</td>\n",
              "      <td>23185.0</td>\n",
              "      <td>black</td>\n",
              "      <td>black</td>\n",
              "      <td>nissan infiniti lt</td>\n",
              "      <td>19350.0</td>\n",
              "      <td>21500.0</td>\n",
              "      <td>Thu Jun 18 2015 05:30:00 GMT-0700 (PDT)</td>\n",
              "    </tr>\n",
              "    <tr>\n",
              "      <th>46575</th>\n",
              "      <td>2013</td>\n",
              "      <td>BMW</td>\n",
              "      <td>3 Series</td>\n",
              "      <td>328i</td>\n",
              "      <td>Sedan</td>\n",
              "      <td>automatic</td>\n",
              "      <td>wba3a5c56df356614</td>\n",
              "      <td>tx</td>\n",
              "      <td>4.2</td>\n",
              "      <td>45357.0</td>\n",
              "      <td>white</td>\n",
              "      <td>beige</td>\n",
              "      <td>motorcars of south texas</td>\n",
              "      <td>22200.0</td>\n",
              "      <td>22000.0</td>\n",
              "      <td>Wed Feb 18 2015 02:00:00 GMT-0800 (PST)</td>\n",
              "    </tr>\n",
              "    <tr>\n",
              "      <th>46576</th>\n",
              "      <td>2013</td>\n",
              "      <td>Toyota</td>\n",
              "      <td>Camry</td>\n",
              "      <td>LE</td>\n",
              "      <td>Sedan</td>\n",
              "      <td>automatic</td>\n",
              "      <td>4t1bf1fk8du254684</td>\n",
              "      <td>ca</td>\n",
              "      <td>3.5</td>\n",
              "      <td>43376.0</td>\n",
              "      <td>black</td>\n",
              "      <td>beige</td>\n",
              "      <td>avis rac/san leandro</td>\n",
              "      <td>13400.0</td>\n",
              "      <td>13800.0</td>\n",
              "      <td>Wed Jan 14 2015 04:30:00 GMT-0800 (PST)</td>\n",
              "    </tr>\n",
              "    <tr>\n",
              "      <th>46577</th>\n",
              "      <td>2013</td>\n",
              "      <td>Kia</td>\n",
              "      <td>Rio</td>\n",
              "      <td>LX</td>\n",
              "      <td>Sedan</td>\n",
              "      <td>automatic</td>\n",
              "      <td>knadm4a32d6164825</td>\n",
              "      <td>ga</td>\n",
              "      <td>4.1</td>\n",
              "      <td>49953.0</td>\n",
              "      <td>silver</td>\n",
              "      <td>black</td>\n",
              "      <td>kia motors finance</td>\n",
              "      <td>9700.0</td>\n",
              "      <td>9300.0</td>\n",
              "      <td>Thu Dec 18 2014 10:00:00 GMT-0800 (PST)</td>\n",
              "    </tr>\n",
              "  </tbody>\n",
              "</table>\n",
              "<p>46578 rows × 16 columns</p>\n",
              "</div>\n",
              "      <button class=\"colab-df-convert\" onclick=\"convertToInteractive('df-087cf344-bc1d-4e6f-8dea-da090bd41462')\"\n",
              "              title=\"Convert this dataframe to an interactive table.\"\n",
              "              style=\"display:none;\">\n",
              "        \n",
              "  <svg xmlns=\"http://www.w3.org/2000/svg\" height=\"24px\"viewBox=\"0 0 24 24\"\n",
              "       width=\"24px\">\n",
              "    <path d=\"M0 0h24v24H0V0z\" fill=\"none\"/>\n",
              "    <path d=\"M18.56 5.44l.94 2.06.94-2.06 2.06-.94-2.06-.94-.94-2.06-.94 2.06-2.06.94zm-11 1L8.5 8.5l.94-2.06 2.06-.94-2.06-.94L8.5 2.5l-.94 2.06-2.06.94zm10 10l.94 2.06.94-2.06 2.06-.94-2.06-.94-.94-2.06-.94 2.06-2.06.94z\"/><path d=\"M17.41 7.96l-1.37-1.37c-.4-.4-.92-.59-1.43-.59-.52 0-1.04.2-1.43.59L10.3 9.45l-7.72 7.72c-.78.78-.78 2.05 0 2.83L4 21.41c.39.39.9.59 1.41.59.51 0 1.02-.2 1.41-.59l7.78-7.78 2.81-2.81c.8-.78.8-2.07 0-2.86zM5.41 20L4 18.59l7.72-7.72 1.47 1.35L5.41 20z\"/>\n",
              "  </svg>\n",
              "      </button>\n",
              "      \n",
              "  <style>\n",
              "    .colab-df-container {\n",
              "      display:flex;\n",
              "      flex-wrap:wrap;\n",
              "      gap: 12px;\n",
              "    }\n",
              "\n",
              "    .colab-df-convert {\n",
              "      background-color: #E8F0FE;\n",
              "      border: none;\n",
              "      border-radius: 50%;\n",
              "      cursor: pointer;\n",
              "      display: none;\n",
              "      fill: #1967D2;\n",
              "      height: 32px;\n",
              "      padding: 0 0 0 0;\n",
              "      width: 32px;\n",
              "    }\n",
              "\n",
              "    .colab-df-convert:hover {\n",
              "      background-color: #E2EBFA;\n",
              "      box-shadow: 0px 1px 2px rgba(60, 64, 67, 0.3), 0px 1px 3px 1px rgba(60, 64, 67, 0.15);\n",
              "      fill: #174EA6;\n",
              "    }\n",
              "\n",
              "    [theme=dark] .colab-df-convert {\n",
              "      background-color: #3B4455;\n",
              "      fill: #D2E3FC;\n",
              "    }\n",
              "\n",
              "    [theme=dark] .colab-df-convert:hover {\n",
              "      background-color: #434B5C;\n",
              "      box-shadow: 0px 1px 3px 1px rgba(0, 0, 0, 0.15);\n",
              "      filter: drop-shadow(0px 1px 2px rgba(0, 0, 0, 0.3));\n",
              "      fill: #FFFFFF;\n",
              "    }\n",
              "  </style>\n",
              "\n",
              "      <script>\n",
              "        const buttonEl =\n",
              "          document.querySelector('#df-087cf344-bc1d-4e6f-8dea-da090bd41462 button.colab-df-convert');\n",
              "        buttonEl.style.display =\n",
              "          google.colab.kernel.accessAllowed ? 'block' : 'none';\n",
              "\n",
              "        async function convertToInteractive(key) {\n",
              "          const element = document.querySelector('#df-087cf344-bc1d-4e6f-8dea-da090bd41462');\n",
              "          const dataTable =\n",
              "            await google.colab.kernel.invokeFunction('convertToInteractive',\n",
              "                                                     [key], {});\n",
              "          if (!dataTable) return;\n",
              "\n",
              "          const docLinkHtml = 'Like what you see? Visit the ' +\n",
              "            '<a target=\"_blank\" href=https://colab.research.google.com/notebooks/data_table.ipynb>data table notebook</a>'\n",
              "            + ' to learn more about interactive tables.';\n",
              "          element.innerHTML = '';\n",
              "          dataTable['output_type'] = 'display_data';\n",
              "          await google.colab.output.renderOutput(dataTable, element);\n",
              "          const docLink = document.createElement('div');\n",
              "          docLink.innerHTML = docLinkHtml;\n",
              "          element.appendChild(docLink);\n",
              "        }\n",
              "      </script>\n",
              "    </div>\n",
              "  </div>\n",
              "  "
            ]
          },
          "metadata": {},
          "execution_count": 23
        }
      ]
    },
    {
      "cell_type": "code",
      "source": [
        "# unique values of body\n",
        "df['body'].unique()"
      ],
      "metadata": {
        "colab": {
          "base_uri": "https://localhost:8080/"
        },
        "id": "fs6cKzLts-DI",
        "outputId": "36dad5af-a252-4761-fba2-703242452610"
      },
      "execution_count": null,
      "outputs": [
        {
          "output_type": "execute_result",
          "data": {
            "text/plain": [
              "array(['Sedan', 'SUV', 'Minivan', 'pickup trucks', 'Wagon', 'Coupe',\n",
              "       'Convertible', 'Hatchback'], dtype=object)"
            ]
          },
          "metadata": {},
          "execution_count": 24
        }
      ]
    },
    {
      "cell_type": "markdown",
      "metadata": {
        "id": "ZMwuup3XGoe1"
      },
      "source": [
        "## Exploratory Data Analysis\n"
      ]
    },
    {
      "cell_type": "markdown",
      "metadata": {
        "id": "3sd2PGokGoe2"
      },
      "source": [
        "**Q0 (example): What is the most popular car exterior color?**\n"
      ]
    },
    {
      "cell_type": "markdown",
      "metadata": {
        "id": "VIMR2_MYGoe3"
      },
      "source": [
        "**Visualization**"
      ]
    },
    {
      "cell_type": "code",
      "execution_count": null,
      "metadata": {
        "colab": {
          "base_uri": "https://localhost:8080/",
          "height": 379
        },
        "id": "r7JO0yYYGoe3",
        "outputId": "ce50719f-7f9e-4ac8-8e08-98130eb85467"
      },
      "outputs": [
        {
          "output_type": "execute_result",
          "data": {
            "text/plain": [
              "<matplotlib.axes._subplots.AxesSubplot at 0x7f3cf2e428d0>"
            ]
          },
          "metadata": {},
          "execution_count": 26
        },
        {
          "output_type": "display_data",
          "data": {
            "text/plain": [
              "<Figure size 576x396 with 1 Axes>"
            ],
            "image/png": "[encoded data removed]"
          },
          "metadata": {}
        }
      ],
      "source": [
        "# Basic, minimal plot example\n",
        "sns.countplot(x='color', data=df)"
      ]
    },
    {
      "cell_type": "code",
      "execution_count": null,
      "metadata": {
        "colab": {
          "base_uri": "https://localhost:8080/",
          "height": 405
        },
        "id": "U90sT9LdGoe4",
        "outputId": "d09f8932-5b4b-442d-9739-22df93760acc"
      },
      "outputs": [
        {
          "output_type": "display_data",
          "data": {
            "text/plain": [
              "<Figure size 576x396 with 1 Axes>"
            ],
            "image/png": "[encoded data removed]"
          },
          "metadata": {}
        }
      ],
      "source": [
        "# Much better plot, with sorting in descending order, rotated x-axis labels for clarity, and a plot title\n",
        "# Your visualizations should be neatly presented like the example below.\n",
        "large_to_small = df.groupby('color').size().sort_values(ascending=False)\n",
        "sns.countplot(x='color', data=df, order=large_to_small.index).set(title='Most popular colors sold on the used car auction market')\n",
        "plt.xticks(rotation=90)\n",
        "plt.tight_layout()"
      ]
    },
    {
      "cell_type": "markdown",
      "metadata": {
        "id": "UMizJ_2_Goe5"
      },
      "source": [
        "**Example note:** _you need to answer using a visualization (above) and a written/text answer (below)._\n",
        "\n",
        "**Answer for Q0**: Black is the most popular exterior color of used cars sold in auctions, followed very closely by white."
      ]
    },
    {
      "cell_type": "markdown",
      "metadata": {
        "id": "Dw6HKZ6pGoe6"
      },
      "source": [
        "**Q1: What are the most popular car brands? (mention at least 3)**\n"
      ]
    },
    {
      "cell_type": "markdown",
      "metadata": {
        "id": "CqutviP1Goe6"
      },
      "source": [
        "**Visualization**"
      ]
    },
    {
      "cell_type": "code",
      "execution_count": null,
      "metadata": {
        "colab": {
          "base_uri": "https://localhost:8080/",
          "height": 405
        },
        "id": "4AYyoBVkGoe7",
        "outputId": "a1b3af23-1bfb-4c75-e64c-1424d5c6f152"
      },
      "outputs": [
        {
          "output_type": "display_data",
          "data": {
            "text/plain": [
              "<Figure size 576x396 with 1 Axes>"
            ],
            "image/png": "[encoded data removed]"
          },
          "metadata": {}
        }
      ],
      "source": [
        "large_to_small = df.groupby('make').size().sort_values(ascending=False)\n",
        "sns.countplot(x='make', data=df, order=large_to_small.index).set(title='Most popular brands sold ')\n",
        "plt.xticks(rotation=90)\n",
        "plt.tight_layout()"
      ]
    },
    {
      "cell_type": "markdown",
      "metadata": {
        "id": "MLdxAqniGoe7"
      },
      "source": [
        "**Answer for Q1**: The most popular brands are Ford, Chevrolet and Nissan as they were sold the most  in the given data so thats an indicator that they are the most popular cars."
      ]
    },
    {
      "cell_type": "markdown",
      "metadata": {
        "id": "HYcqwiMiGoe8"
      },
      "source": [
        "**Q2: Do automatic cars, on average, sell for a higher price than manual cars?**\n"
      ]
    },
    {
      "cell_type": "markdown",
      "metadata": {
        "id": "fQBKmONCGoe8"
      },
      "source": [
        "**Visualization**"
      ]
    },
    {
      "cell_type": "code",
      "execution_count": null,
      "metadata": {
        "colab": {
          "base_uri": "https://localhost:8080/",
          "height": 379
        },
        "id": "3avX9S8iGoe9",
        "outputId": "928745ae-0232-4d7f-a609-8bfee190c920"
      },
      "outputs": [
        {
          "output_type": "execute_result",
          "data": {
            "text/plain": [
              "<matplotlib.axes._subplots.AxesSubplot at 0x7f3cf18daf90>"
            ]
          },
          "metadata": {},
          "execution_count": 29
        },
        {
          "output_type": "display_data",
          "data": {
            "text/plain": [
              "<Figure size 576x396 with 1 Axes>"
            ],
            "image/png": "[encoded data removed]"
          },
          "metadata": {}
        }
      ],
      "source": [
        " #Draw a bar plot showing the selling price of each of the transmission categories\n",
        "sns.barplot(data=df, x=\"transmission\", y=\"sellingprice\")"
      ]
    },
    {
      "cell_type": "markdown",
      "metadata": {
        "id": "5uuIB6hPGoe9"
      },
      "source": [
        "**Answer for Q2**: yes automatic cars are sold on average for a higher price as we can see frrom the graph that the mean for acutomatic cars is higher."
      ]
    },
    {
      "cell_type": "markdown",
      "metadata": {
        "id": "0HmkSupsGoe-"
      },
      "source": [
        "**Q3: Draw a box plot showing the distribution of the selling prices of each car make. Which car makes have the widest distribution of selling price (name two)? Which are the most expensive (name two)?**\n"
      ]
    },
    {
      "cell_type": "markdown",
      "metadata": {
        "id": "Kslipwy_Goe-"
      },
      "source": [
        "**Visualization**"
      ]
    },
    {
      "cell_type": "code",
      "execution_count": null,
      "metadata": {
        "colab": {
          "base_uri": "https://localhost:8080/",
          "height": 1000
        },
        "id": "uS4unNnJGoe_",
        "outputId": "d5b8f8e1-80c5-43de-f83a-90bd930d6576"
      },
      "outputs": [
        {
          "output_type": "execute_result",
          "data": {
            "text/plain": [
              "<matplotlib.axes._subplots.AxesSubplot at 0x7f3cf0ed5190>"
            ]
          },
          "metadata": {},
          "execution_count": 30
        },
        {
          "output_type": "display_data",
          "data": {
            "text/plain": [
              "<Figure size 2880x2880 with 1 Axes>"
            ],
            "image/png": "[encoded data removed]"
          },
          "metadata": {}
        }
      ],
      "source": [
        "f = plt.figure(figsize=(40,40))\n",
        "sns.boxplot(data=df, x=\"sellingprice\", y=\"make\")\n"
      ]
    },
    {
      "cell_type": "markdown",
      "metadata": {
        "id": "GPee0Ex_Goe_"
      },
      "source": [
        "**Answer for Q3**: the cars that have widest distribution of selling price are porche and Jaguar as they have the highest diffrence between their lower value and the upper value. The most expencive cars are porche and Bentley as they have the highest upper value."
      ]
    },
    {
      "cell_type": "markdown",
      "metadata": {
        "id": "iesjx_DmGoe_"
      },
      "source": [
        "**Q4: How correlated is the odometer reading or mileage with the car's sale price? (Hint: plot a line of best fit.)**"
      ]
    },
    {
      "cell_type": "markdown",
      "metadata": {
        "id": "HnBrHGr_GofA"
      },
      "source": [
        "**Visualization**"
      ]
    },
    {
      "cell_type": "code",
      "execution_count": null,
      "metadata": {
        "colab": {
          "base_uri": "https://localhost:8080/",
          "height": 603
        },
        "id": "2Ybqi4jiGofA",
        "outputId": "f52edfcc-1c86-405a-fad8-5b8a785e225c"
      },
      "outputs": [
        {
          "output_type": "execute_result",
          "data": {
            "text/plain": [
              "<seaborn.axisgrid.FacetGrid at 0x7f3cf0ed4dd0>"
            ]
          },
          "metadata": {},
          "execution_count": 31
        },
        {
          "output_type": "display_data",
          "data": {
            "text/plain": [
              "<Figure size 576x576 with 1 Axes>"
            ],
            "image/png": "[encoded data removed]"
          },
          "metadata": {}
        }
      ],
      "source": [
        "sns.lmplot(x='sellingprice', y='odometer', data=df, height=8)"
      ]
    },
    {
      "cell_type": "markdown",
      "metadata": {
        "id": "iKMwMeubGofA"
      },
      "source": [
        "**Answer for Q4**:  The correlation between the selling price and the odometer is strong as it have high slop and also it's nigativly correlated meaning by the decrise of the odometer value there will be an increase in the selling price for the car."
      ]
    },
    {
      "cell_type": "markdown",
      "metadata": {
        "id": "rs3botjHGofA"
      },
      "source": [
        "**Q5: Likewise, how correlated is the car's condition with its sale price? (Hint: plot a line of best fit.)**"
      ]
    },
    {
      "cell_type": "markdown",
      "metadata": {
        "id": "0__HayKOGofA"
      },
      "source": [
        "**Visualization**"
      ]
    },
    {
      "cell_type": "code",
      "execution_count": null,
      "metadata": {
        "colab": {
          "base_uri": "https://localhost:8080/",
          "height": 603
        },
        "id": "kv2Uz6n1GofA",
        "outputId": "e89cb12e-12c7-443c-803a-1da7d7899896"
      },
      "outputs": [
        {
          "output_type": "execute_result",
          "data": {
            "text/plain": [
              "<seaborn.axisgrid.FacetGrid at 0x7f3cf1b67e10>"
            ]
          },
          "metadata": {},
          "execution_count": 32
        },
        {
          "output_type": "display_data",
          "data": {
            "text/plain": [
              "<Figure size 576x576 with 1 Axes>"
            ],
            "image/png": "[encoded data removed]"
          },
          "metadata": {}
        }
      ],
      "source": [
        "sns.lmplot(x='condition', y='sellingprice', data=df, height=8)"
      ]
    },
    {
      "cell_type": "markdown",
      "metadata": {
        "id": "flNS4k-bGofB"
      },
      "source": [
        "**Answer for Q5**: The correlation between the selling price and the condition is weak as the slop of the best fitted line is small but the slop is positive which means its a weak positive correlation."
      ]
    },
    {
      "cell_type": "markdown",
      "metadata": {
        "id": "68c-IrfrGofB"
      },
      "source": [
        "**Q6: Are there differences in the average car price due to the car's body type? If so, rank their order and state the most expensive and least expensive car body type.**"
      ]
    },
    {
      "cell_type": "markdown",
      "metadata": {
        "id": "TuWC0x4cGofB"
      },
      "source": [
        "**Visualization**"
      ]
    },
    {
      "cell_type": "code",
      "source": [
        "temp = df[['sellingprice','body']].groupby('body').mean().sort_values('sellingprice').index\n",
        "#df.sort_values('sellingprice').body"
      ],
      "metadata": {
        "id": "RiNXIcd-FwbM"
      },
      "execution_count": null,
      "outputs": []
    },
    {
      "cell_type": "code",
      "source": [
        "df[['sellingprice']]"
      ],
      "metadata": {
        "id": "BHY4x2-wJi9f",
        "outputId": "112260f8-6a66-4902-f50f-d90042b4c465",
        "colab": {
          "base_uri": "https://localhost:8080/",
          "height": 424
        }
      },
      "execution_count": null,
      "outputs": [
        {
          "output_type": "execute_result",
          "data": {
            "text/plain": [
              "       sellingprice\n",
              "0           10900.0\n",
              "1           29900.0\n",
              "2           24200.0\n",
              "3            3200.0\n",
              "4           22100.0\n",
              "...             ...\n",
              "46573       17000.0\n",
              "46574       21500.0\n",
              "46575       22000.0\n",
              "46576       13800.0\n",
              "46577        9300.0\n",
              "\n",
              "[46578 rows x 1 columns]"
            ],
            "text/html": [
              "\n",
              "  <div id=\"df-5b8924fc-c061-4974-b4f8-8ce999dbfb47\">\n",
              "    <div class=\"colab-df-container\">\n",
              "      <div>\n",
              "<style scoped>\n",
              "    .dataframe tbody tr th:only-of-type {\n",
              "        vertical-align: middle;\n",
              "    }\n",
              "\n",
              "    .dataframe tbody tr th {\n",
              "        vertical-align: top;\n",
              "    }\n",
              "\n",
              "    .dataframe thead th {\n",
              "        text-align: right;\n",
              "    }\n",
              "</style>\n",
              "<table border=\"1\" class=\"dataframe\">\n",
              "  <thead>\n",
              "    <tr style=\"text-align: right;\">\n",
              "      <th></th>\n",
              "      <th>sellingprice</th>\n",
              "    </tr>\n",
              "  </thead>\n",
              "  <tbody>\n",
              "    <tr>\n",
              "      <th>0</th>\n",
              "      <td>10900.0</td>\n",
              "    </tr>\n",
              "    <tr>\n",
              "      <th>1</th>\n",
              "      <td>29900.0</td>\n",
              "    </tr>\n",
              "    <tr>\n",
              "      <th>2</th>\n",
              "      <td>24200.0</td>\n",
              "    </tr>\n",
              "    <tr>\n",
              "      <th>3</th>\n",
              "      <td>3200.0</td>\n",
              "    </tr>\n",
              "    <tr>\n",
              "      <th>4</th>\n",
              "      <td>22100.0</td>\n",
              "    </tr>\n",
              "    <tr>\n",
              "      <th>...</th>\n",
              "      <td>...</td>\n",
              "    </tr>\n",
              "    <tr>\n",
              "      <th>46573</th>\n",
              "      <td>17000.0</td>\n",
              "    </tr>\n",
              "    <tr>\n",
              "      <th>46574</th>\n",
              "      <td>21500.0</td>\n",
              "    </tr>\n",
              "    <tr>\n",
              "      <th>46575</th>\n",
              "      <td>22000.0</td>\n",
              "    </tr>\n",
              "    <tr>\n",
              "      <th>46576</th>\n",
              "      <td>13800.0</td>\n",
              "    </tr>\n",
              "    <tr>\n",
              "      <th>46577</th>\n",
              "      <td>9300.0</td>\n",
              "    </tr>\n",
              "  </tbody>\n",
              "</table>\n",
              "<p>46578 rows × 1 columns</p>\n",
              "</div>\n",
              "      <button class=\"colab-df-convert\" onclick=\"convertToInteractive('df-5b8924fc-c061-4974-b4f8-8ce999dbfb47')\"\n",
              "              title=\"Convert this dataframe to an interactive table.\"\n",
              "              style=\"display:none;\">\n",
              "        \n",
              "  <svg xmlns=\"http://www.w3.org/2000/svg\" height=\"24px\"viewBox=\"0 0 24 24\"\n",
              "       width=\"24px\">\n",
              "    <path d=\"M0 0h24v24H0V0z\" fill=\"none\"/>\n",
              "    <path d=\"M18.56 5.44l.94 2.06.94-2.06 2.06-.94-2.06-.94-.94-2.06-.94 2.06-2.06.94zm-11 1L8.5 8.5l.94-2.06 2.06-.94-2.06-.94L8.5 2.5l-.94 2.06-2.06.94zm10 10l.94 2.06.94-2.06 2.06-.94-2.06-.94-.94-2.06-.94 2.06-2.06.94z\"/><path d=\"M17.41 7.96l-1.37-1.37c-.4-.4-.92-.59-1.43-.59-.52 0-1.04.2-1.43.59L10.3 9.45l-7.72 7.72c-.78.78-.78 2.05 0 2.83L4 21.41c.39.39.9.59 1.41.59.51 0 1.02-.2 1.41-.59l7.78-7.78 2.81-2.81c.8-.78.8-2.07 0-2.86zM5.41 20L4 18.59l7.72-7.72 1.47 1.35L5.41 20z\"/>\n",
              "  </svg>\n",
              "      </button>\n",
              "      \n",
              "  <style>\n",
              "    .colab-df-container {\n",
              "      display:flex;\n",
              "      flex-wrap:wrap;\n",
              "      gap: 12px;\n",
              "    }\n",
              "\n",
              "    .colab-df-convert {\n",
              "      background-color: #E8F0FE;\n",
              "      border: none;\n",
              "      border-radius: 50%;\n",
              "      cursor: pointer;\n",
              "      display: none;\n",
              "      fill: #1967D2;\n",
              "      height: 32px;\n",
              "      padding: 0 0 0 0;\n",
              "      width: 32px;\n",
              "    }\n",
              "\n",
              "    .colab-df-convert:hover {\n",
              "      background-color: #E2EBFA;\n",
              "      box-shadow: 0px 1px 2px rgba(60, 64, 67, 0.3), 0px 1px 3px 1px rgba(60, 64, 67, 0.15);\n",
              "      fill: #174EA6;\n",
              "    }\n",
              "\n",
              "    [theme=dark] .colab-df-convert {\n",
              "      background-color: #3B4455;\n",
              "      fill: #D2E3FC;\n",
              "    }\n",
              "\n",
              "    [theme=dark] .colab-df-convert:hover {\n",
              "      background-color: #434B5C;\n",
              "      box-shadow: 0px 1px 3px 1px rgba(0, 0, 0, 0.15);\n",
              "      filter: drop-shadow(0px 1px 2px rgba(0, 0, 0, 0.3));\n",
              "      fill: #FFFFFF;\n",
              "    }\n",
              "  </style>\n",
              "\n",
              "      <script>\n",
              "        const buttonEl =\n",
              "          document.querySelector('#df-5b8924fc-c061-4974-b4f8-8ce999dbfb47 button.colab-df-convert');\n",
              "        buttonEl.style.display =\n",
              "          google.colab.kernel.accessAllowed ? 'block' : 'none';\n",
              "\n",
              "        async function convertToInteractive(key) {\n",
              "          const element = document.querySelector('#df-5b8924fc-c061-4974-b4f8-8ce999dbfb47');\n",
              "          const dataTable =\n",
              "            await google.colab.kernel.invokeFunction('convertToInteractive',\n",
              "                                                     [key], {});\n",
              "          if (!dataTable) return;\n",
              "\n",
              "          const docLinkHtml = 'Like what you see? Visit the ' +\n",
              "            '<a target=\"_blank\" href=https://colab.research.google.com/notebooks/data_table.ipynb>data table notebook</a>'\n",
              "            + ' to learn more about interactive tables.';\n",
              "          element.innerHTML = '';\n",
              "          dataTable['output_type'] = 'display_data';\n",
              "          await google.colab.output.renderOutput(dataTable, element);\n",
              "          const docLink = document.createElement('div');\n",
              "          docLink.innerHTML = docLinkHtml;\n",
              "          element.appendChild(docLink);\n",
              "        }\n",
              "      </script>\n",
              "    </div>\n",
              "  </div>\n",
              "  "
            ]
          },
          "metadata": {},
          "execution_count": 34
        }
      ]
    },
    {
      "cell_type": "code",
      "execution_count": null,
      "metadata": {
        "id": "0XDuBVfnGofB",
        "outputId": "92e2f6d3-54df-420a-c899-13ddfa5753ef",
        "colab": {
          "base_uri": "https://localhost:8080/",
          "height": 379
        }
      },
      "outputs": [
        {
          "output_type": "execute_result",
          "data": {
            "text/plain": [
              "<matplotlib.axes._subplots.AxesSubplot at 0x7f3cf1916d90>"
            ]
          },
          "metadata": {},
          "execution_count": 35
        },
        {
          "output_type": "display_data",
          "data": {
            "text/plain": [
              "<Figure size 576x396 with 1 Axes>"
            ],
            "image/png": "[encoded data removed]"
          },
          "metadata": {}
        }
      ],
      "source": [
        "sns.barplot(data=df, x=\"body\", y=\"sellingprice\", order=temp)\n",
        "\n",
        "# drawing a bar plot between the brand and the selling price and ordering it on the average of the selling prices per brand"
      ]
    },
    {
      "cell_type": "markdown",
      "metadata": {
        "id": "1h3rvkQeGofB"
      },
      "source": [
        "**Answer for Q6**: yes there are differences in the average car price due to the car's body type. the most expensive are the pickup trucks and the least expoensive are the wagon cars.\n"
      ]
    },
    {
      "cell_type": "markdown",
      "metadata": {
        "id": "czcOxOBUGofC"
      },
      "source": [
        "## Data Preparation for Modelling\n",
        "\n",
        "_Apply any additional data preparation steps needed before modelling below. Show/output the changes to the dataset._"
      ]
    },
    {
      "cell_type": "code",
      "execution_count": null,
      "metadata": {
        "id": "vA1U3KIHGofC",
        "outputId": "d25beab9-67af-4776-fd9f-32435ca64b41",
        "colab": {
          "base_uri": "https://localhost:8080/",
          "height": 404
        }
      },
      "outputs": [
        {
          "output_type": "execute_result",
          "data": {
            "text/plain": [
              "   year   trim                vin state  condition  odometer   color interior  \\\n",
              "0  2013    GLS  5npeb4acxdh702805    ma      0.725  0.050403   black     gray   \n",
              "1  2014    SR5  jtezu5jr2e5064567    fl      0.975  0.017845    gray    black   \n",
              "2  2012   Base  jthbf5c24c5168599    fl      0.775  0.021121  silver    black   \n",
              "3  2002   4.4i  5uxfb33562lh33864    fl      0.225  0.145302   black    black   \n",
              "4  2014  E-250  1ftne2ew0eda31832    wa      0.975  0.006713   white     gray   \n",
              "\n",
              "                             seller      mmr  ...  model_envoy model_fortwo  \\\n",
              "0             the hertz corporation  11000.0  ...            0            0   \n",
              "1  award auto sales and leasing inc  28700.0  ...            0            0   \n",
              "2          lexus financial services  22200.0  ...            0            0   \n",
              "3                        peddle llc   3675.0  ...            0            0   \n",
              "4                            u-haul  22500.0  ...            0            0   \n",
              "\n",
              "   model_i-MiEV  model_i8  model_iQ  model_malibu  model_tC  model_xA  \\\n",
              "0             0         0         0             0         0         0   \n",
              "1             0         0         0             0         0         0   \n",
              "2             0         0         0             0         0         0   \n",
              "3             0         0         0             0         0         0   \n",
              "4             0         0         0             0         0         0   \n",
              "\n",
              "   model_xB  model_xD  \n",
              "0         0         0  \n",
              "1         0         0  \n",
              "2         0         0  \n",
              "3         0         0  \n",
              "4         0         0  \n",
              "\n",
              "[5 rows x 714 columns]"
            ],
            "text/html": [
              "\n",
              "  <div id=\"df-99544e5a-5ab7-4ded-acd9-9c30dc4979e9\">\n",
              "    <div class=\"colab-df-container\">\n",
              "      <div>\n",
              "<style scoped>\n",
              "    .dataframe tbody tr th:only-of-type {\n",
              "        vertical-align: middle;\n",
              "    }\n",
              "\n",
              "    .dataframe tbody tr th {\n",
              "        vertical-align: top;\n",
              "    }\n",
              "\n",
              "    .dataframe thead th {\n",
              "        text-align: right;\n",
              "    }\n",
              "</style>\n",
              "<table border=\"1\" class=\"dataframe\">\n",
              "  <thead>\n",
              "    <tr style=\"text-align: right;\">\n",
              "      <th></th>\n",
              "      <th>year</th>\n",
              "      <th>trim</th>\n",
              "      <th>vin</th>\n",
              "      <th>state</th>\n",
              "      <th>condition</th>\n",
              "      <th>odometer</th>\n",
              "      <th>color</th>\n",
              "      <th>interior</th>\n",
              "      <th>seller</th>\n",
              "      <th>mmr</th>\n",
              "      <th>...</th>\n",
              "      <th>model_envoy</th>\n",
              "      <th>model_fortwo</th>\n",
              "      <th>model_i-MiEV</th>\n",
              "      <th>model_i8</th>\n",
              "      <th>model_iQ</th>\n",
              "      <th>model_malibu</th>\n",
              "      <th>model_tC</th>\n",
              "      <th>model_xA</th>\n",
              "      <th>model_xB</th>\n",
              "      <th>model_xD</th>\n",
              "    </tr>\n",
              "  </thead>\n",
              "  <tbody>\n",
              "    <tr>\n",
              "      <th>0</th>\n",
              "      <td>2013</td>\n",
              "      <td>GLS</td>\n",
              "      <td>5npeb4acxdh702805</td>\n",
              "      <td>ma</td>\n",
              "      <td>0.725</td>\n",
              "      <td>0.050403</td>\n",
              "      <td>black</td>\n",
              "      <td>gray</td>\n",
              "      <td>the hertz corporation</td>\n",
              "      <td>11000.0</td>\n",
              "      <td>...</td>\n",
              "      <td>0</td>\n",
              "      <td>0</td>\n",
              "      <td>0</td>\n",
              "      <td>0</td>\n",
              "      <td>0</td>\n",
              "      <td>0</td>\n",
              "      <td>0</td>\n",
              "      <td>0</td>\n",
              "      <td>0</td>\n",
              "      <td>0</td>\n",
              "    </tr>\n",
              "    <tr>\n",
              "      <th>1</th>\n",
              "      <td>2014</td>\n",
              "      <td>SR5</td>\n",
              "      <td>jtezu5jr2e5064567</td>\n",
              "      <td>fl</td>\n",
              "      <td>0.975</td>\n",
              "      <td>0.017845</td>\n",
              "      <td>gray</td>\n",
              "      <td>black</td>\n",
              "      <td>award auto sales and leasing inc</td>\n",
              "      <td>28700.0</td>\n",
              "      <td>...</td>\n",
              "      <td>0</td>\n",
              "      <td>0</td>\n",
              "      <td>0</td>\n",
              "      <td>0</td>\n",
              "      <td>0</td>\n",
              "      <td>0</td>\n",
              "      <td>0</td>\n",
              "      <td>0</td>\n",
              "      <td>0</td>\n",
              "      <td>0</td>\n",
              "    </tr>\n",
              "    <tr>\n",
              "      <th>2</th>\n",
              "      <td>2012</td>\n",
              "      <td>Base</td>\n",
              "      <td>jthbf5c24c5168599</td>\n",
              "      <td>fl</td>\n",
              "      <td>0.775</td>\n",
              "      <td>0.021121</td>\n",
              "      <td>silver</td>\n",
              "      <td>black</td>\n",
              "      <td>lexus financial services</td>\n",
              "      <td>22200.0</td>\n",
              "      <td>...</td>\n",
              "      <td>0</td>\n",
              "      <td>0</td>\n",
              "      <td>0</td>\n",
              "      <td>0</td>\n",
              "      <td>0</td>\n",
              "      <td>0</td>\n",
              "      <td>0</td>\n",
              "      <td>0</td>\n",
              "      <td>0</td>\n",
              "      <td>0</td>\n",
              "    </tr>\n",
              "    <tr>\n",
              "      <th>3</th>\n",
              "      <td>2002</td>\n",
              "      <td>4.4i</td>\n",
              "      <td>5uxfb33562lh33864</td>\n",
              "      <td>fl</td>\n",
              "      <td>0.225</td>\n",
              "      <td>0.145302</td>\n",
              "      <td>black</td>\n",
              "      <td>black</td>\n",
              "      <td>peddle llc</td>\n",
              "      <td>3675.0</td>\n",
              "      <td>...</td>\n",
              "      <td>0</td>\n",
              "      <td>0</td>\n",
              "      <td>0</td>\n",
              "      <td>0</td>\n",
              "      <td>0</td>\n",
              "      <td>0</td>\n",
              "      <td>0</td>\n",
              "      <td>0</td>\n",
              "      <td>0</td>\n",
              "      <td>0</td>\n",
              "    </tr>\n",
              "    <tr>\n",
              "      <th>4</th>\n",
              "      <td>2014</td>\n",
              "      <td>E-250</td>\n",
              "      <td>1ftne2ew0eda31832</td>\n",
              "      <td>wa</td>\n",
              "      <td>0.975</td>\n",
              "      <td>0.006713</td>\n",
              "      <td>white</td>\n",
              "      <td>gray</td>\n",
              "      <td>u-haul</td>\n",
              "      <td>22500.0</td>\n",
              "      <td>...</td>\n",
              "      <td>0</td>\n",
              "      <td>0</td>\n",
              "      <td>0</td>\n",
              "      <td>0</td>\n",
              "      <td>0</td>\n",
              "      <td>0</td>\n",
              "      <td>0</td>\n",
              "      <td>0</td>\n",
              "      <td>0</td>\n",
              "      <td>0</td>\n",
              "    </tr>\n",
              "  </tbody>\n",
              "</table>\n",
              "<p>5 rows × 714 columns</p>\n",
              "</div>\n",
              "      <button class=\"colab-df-convert\" onclick=\"convertToInteractive('df-99544e5a-5ab7-4ded-acd9-9c30dc4979e9')\"\n",
              "              title=\"Convert this dataframe to an interactive table.\"\n",
              "              style=\"display:none;\">\n",
              "        \n",
              "  <svg xmlns=\"http://www.w3.org/2000/svg\" height=\"24px\"viewBox=\"0 0 24 24\"\n",
              "       width=\"24px\">\n",
              "    <path d=\"M0 0h24v24H0V0z\" fill=\"none\"/>\n",
              "    <path d=\"M18.56 5.44l.94 2.06.94-2.06 2.06-.94-2.06-.94-.94-2.06-.94 2.06-2.06.94zm-11 1L8.5 8.5l.94-2.06 2.06-.94-2.06-.94L8.5 2.5l-.94 2.06-2.06.94zm10 10l.94 2.06.94-2.06 2.06-.94-2.06-.94-.94-2.06-.94 2.06-2.06.94z\"/><path d=\"M17.41 7.96l-1.37-1.37c-.4-.4-.92-.59-1.43-.59-.52 0-1.04.2-1.43.59L10.3 9.45l-7.72 7.72c-.78.78-.78 2.05 0 2.83L4 21.41c.39.39.9.59 1.41.59.51 0 1.02-.2 1.41-.59l7.78-7.78 2.81-2.81c.8-.78.8-2.07 0-2.86zM5.41 20L4 18.59l7.72-7.72 1.47 1.35L5.41 20z\"/>\n",
              "  </svg>\n",
              "      </button>\n",
              "      \n",
              "  <style>\n",
              "    .colab-df-container {\n",
              "      display:flex;\n",
              "      flex-wrap:wrap;\n",
              "      gap: 12px;\n",
              "    }\n",
              "\n",
              "    .colab-df-convert {\n",
              "      background-color: #E8F0FE;\n",
              "      border: none;\n",
              "      border-radius: 50%;\n",
              "      cursor: pointer;\n",
              "      display: none;\n",
              "      fill: #1967D2;\n",
              "      height: 32px;\n",
              "      padding: 0 0 0 0;\n",
              "      width: 32px;\n",
              "    }\n",
              "\n",
              "    .colab-df-convert:hover {\n",
              "      background-color: #E2EBFA;\n",
              "      box-shadow: 0px 1px 2px rgba(60, 64, 67, 0.3), 0px 1px 3px 1px rgba(60, 64, 67, 0.15);\n",
              "      fill: #174EA6;\n",
              "    }\n",
              "\n",
              "    [theme=dark] .colab-df-convert {\n",
              "      background-color: #3B4455;\n",
              "      fill: #D2E3FC;\n",
              "    }\n",
              "\n",
              "    [theme=dark] .colab-df-convert:hover {\n",
              "      background-color: #434B5C;\n",
              "      box-shadow: 0px 1px 3px 1px rgba(0, 0, 0, 0.15);\n",
              "      filter: drop-shadow(0px 1px 2px rgba(0, 0, 0, 0.3));\n",
              "      fill: #FFFFFF;\n",
              "    }\n",
              "  </style>\n",
              "\n",
              "      <script>\n",
              "        const buttonEl =\n",
              "          document.querySelector('#df-99544e5a-5ab7-4ded-acd9-9c30dc4979e9 button.colab-df-convert');\n",
              "        buttonEl.style.display =\n",
              "          google.colab.kernel.accessAllowed ? 'block' : 'none';\n",
              "\n",
              "        async function convertToInteractive(key) {\n",
              "          const element = document.querySelector('#df-99544e5a-5ab7-4ded-acd9-9c30dc4979e9');\n",
              "          const dataTable =\n",
              "            await google.colab.kernel.invokeFunction('convertToInteractive',\n",
              "                                                     [key], {});\n",
              "          if (!dataTable) return;\n",
              "\n",
              "          const docLinkHtml = 'Like what you see? Visit the ' +\n",
              "            '<a target=\"_blank\" href=https://colab.research.google.com/notebooks/data_table.ipynb>data table notebook</a>'\n",
              "            + ' to learn more about interactive tables.';\n",
              "          element.innerHTML = '';\n",
              "          dataTable['output_type'] = 'display_data';\n",
              "          await google.colab.output.renderOutput(dataTable, element);\n",
              "          const docLink = document.createElement('div');\n",
              "          docLink.innerHTML = docLinkHtml;\n",
              "          element.appendChild(docLink);\n",
              "        }\n",
              "      </script>\n",
              "    </div>\n",
              "  </div>\n",
              "  "
            ]
          },
          "metadata": {},
          "execution_count": 167
        }
      ],
      "source": [
        "#categorical_columns = ['trim','transmission', 'body','make','model']\n",
        "categorical_columns = ['transmission', 'body','make','model']\n",
        "df_encode = pd.get_dummies(data=df,\n",
        "                           columns=categorical_columns,\n",
        "                           drop_first=True,\n",
        "                           dtype='int8')\n",
        "\n",
        "numerical_columns = ['odometer','condition']\n",
        "#here we started to list the related  independent variables to be able to get the dependent variable which is selling price\n",
        "\n",
        "df_encode[numerical_columns] = ( \n",
        "    \n",
        "    df_encode[numerical_columns] - df_encode[numerical_columns].min()  \n",
        "    \n",
        ") /(     \n",
        "    df_encode[numerical_columns].max() - df_encode[numerical_columns].min()\n",
        ")\n",
        "\n",
        "\n",
        "df_encode.head()"
      ]
    },
    {
      "cell_type": "code",
      "source": [
        "df_encode= df_encode.drop(['vin', 'color', 'interior', 'seller','trim','state','saledate','year','mmr'],axis=1)"
      ],
      "metadata": {
        "id": "nc2K6WPHTeS5"
      },
      "execution_count": null,
      "outputs": []
    },
    {
      "cell_type": "markdown",
      "metadata": {
        "id": "LP6WSgQDGofC"
      },
      "source": [
        "## Modelling\n",
        "\n",
        "_Apply the linear regression model below._"
      ]
    },
    {
      "cell_type": "code",
      "execution_count": null,
      "metadata": {
        "id": "JeD83JtxGofC"
      },
      "outputs": [],
      "source": [
        "from sklearn.model_selection import train_test_split\n",
        "from sklearn.linear_model import LinearRegression\n",
        "\n"
      ]
    },
    {
      "cell_type": "code",
      "source": [
        "X = df_encode.drop('sellingprice',axis=1)\n",
        "y = df_encode['sellingprice']\n",
        "\n",
        "X_train, X_test, y_train, y_test = train_test_split(X,y,test_size=0.2,random_state=23)\n",
        "\n",
        "\n"
      ],
      "metadata": {
        "id": "6yIgZGyBQ-Dv"
      },
      "execution_count": null,
      "outputs": []
    },
    {
      "cell_type": "code",
      "source": [
        "lin_reg = LinearRegression()\n",
        "lin_reg.fit(X_train, y_train);"
      ],
      "metadata": {
        "id": "A1Cs7sO7Rr2V"
      },
      "execution_count": null,
      "outputs": []
    },
    {
      "cell_type": "markdown",
      "metadata": {
        "id": "pSTZwtSuGofC"
      },
      "source": [
        "## Model Evaluation\n",
        "\n",
        "_Evaluate the model you applied._"
      ]
    },
    {
      "cell_type": "code",
      "execution_count": null,
      "metadata": {
        "id": "GfT9xE79GofC",
        "colab": {
          "base_uri": "https://localhost:8080/"
        },
        "outputId": "f4521ce5-bf03-4fbe-ec66-0cedf9dcceac"
      },
      "outputs": [
        {
          "output_type": "execute_result",
          "data": {
            "text/plain": [
              "0.7670638896824673"
            ]
          },
          "metadata": {},
          "execution_count": 172
        }
      ],
      "source": [
        "lin_reg.score(X_test, y_test)"
      ]
    },
    {
      "cell_type": "markdown",
      "metadata": {
        "id": "-Ia9CgigGofD"
      },
      "source": [
        "## Model Validation (Optional)\n",
        "\n",
        "_Check if the model you applied meets the necessary assumptions for the chosen model._"
      ]
    },
    {
      "cell_type": "code",
      "execution_count": null,
      "metadata": {
        "id": "ke0cd5d9GofD"
      },
      "outputs": [],
      "source": []
    },
    {
      "cell_type": "markdown",
      "metadata": {
        "id": "5tT9kQUXGofD"
      },
      "source": [
        "## Conclusion and Recommendations\n",
        "\n",
        "Comment on the model accuracy and your findings from model evaluation and validation. State the problems (if any) and suggest possible solutions. Would you recommend this model for a used cars dealership that wants to get reliable estimates for used car prices?\n",
        "\n",
        "**Answer**: After trying more than one combination for the independent variables the variables that made the lowest evaluation score were transmission and model and body and odometer and condition as when we didnt include model the performance score was 0.97 so we had to get a independent with high correlation to be able to optimizethe score and we dropped vin as it have a uniqe value for each car so it doesn't help the model as it doesn't help in finding a patern same as trim. so as the result is 0.76 its not so high as 0.9 to be completly not accurate so that's why i do recomend this model for used cars as from 0.8 till 0.7 is concedered generally satisfactory."
      ]
    }
  ],
  "metadata": {
    "kernelspec": {
      "display_name": "Python 3.8.10 64-bit (microsoft store)",
      "language": "python",
      "name": "python3"
    },
    "language_info": {
      "codemirror_mode": {
        "name": "ipython",
        "version": 3
      },
      "file_extension": ".py",
      "mimetype": "text/x-python",
      "name": "python",
      "nbconvert_exporter": "python",
      "pygments_lexer": "ipython3",
      "version": "3.8.10"
    },
    "vscode": {
      "interpreter": {
        "hash": "53838b41801d6340687d97fd6c2932a6cda47cc00efb016738355d36a9d1dd3a"
      }
    },
    "colab": {
      "provenance": [],
      "include_colab_link": true
    }
  },
  "nbformat": 4,
  "nbformat_minor": 0
}